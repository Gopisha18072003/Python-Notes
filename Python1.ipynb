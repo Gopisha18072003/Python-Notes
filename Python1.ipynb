{
 "cells": [
  {
   "cell_type": "code",
   "execution_count": 8,
   "id": "7fbd31cf",
   "metadata": {},
   "outputs": [
    {
     "name": "stdout",
     "output_type": "stream",
     "text": [
      "hello\n",
      "worldnew line added\n",
      "\n",
      "new line added\n",
      "\n",
      "new line added\n",
      "\n",
      "new line added\n",
      "\n"
     ]
    }
   ],
   "source": [
    "\n",
    "fhand = open('sample.txt', 'r')\n",
    "print(fhand.read())"
   ]
  },
  {
   "cell_type": "markdown",
   "id": "26a807a2",
   "metadata": {},
   "source": [
    "# Variable Types and Assignment"
   ]
  },
  {
   "cell_type": "code",
   "execution_count": 17,
   "id": "f0672a9c",
   "metadata": {},
   "outputs": [
    {
     "name": "stdout",
     "output_type": "stream",
     "text": [
      "<class 'int'> <class 'float'> <class 'str'> <class 'complex'> <class 'bool'> <class 'str'>\n"
     ]
    }
   ],
   "source": [
    "a= 12\n",
    "b= 12.0\n",
    "c= '12'\n",
    "d= 12 + 0j\n",
    "e= True\n",
    "f= 'c'\n",
    "print(type(a), type(b), type(c), type(d), type(e), type(f))"
   ]
  },
  {
   "cell_type": "markdown",
   "id": "0cea29f3",
   "metadata": {},
   "source": [
    "# Multi-line Assignment"
   ]
  },
  {
   "cell_type": "code",
   "execution_count": 18,
   "id": "e8846243",
   "metadata": {},
   "outputs": [
    {
     "name": "stdout",
     "output_type": "stream",
     "text": [
      "2 2.0 2 (2+1j)\n",
      "5 5.0 5 (5+4j)\n"
     ]
    }
   ],
   "source": [
    "a= 2; b= 2.0; c= '2'; d= 2 + 1j\n",
    "print(a, b, c, d)\n",
    "\n",
    "a, b, c, d = 5, 5.0, '5', 5 + 4j\n",
    "print(a, b, c, d)\n"
   ]
  },
  {
   "cell_type": "markdown",
   "id": "8a444840",
   "metadata": {},
   "source": [
    "# Arithmetic operations"
   ]
  },
  {
   "cell_type": "code",
   "execution_count": 19,
   "id": "91504cf5",
   "metadata": {},
   "outputs": [
    {
     "name": "stdout",
     "output_type": "stream",
     "text": [
      "2.0 1 9 1\n"
     ]
    }
   ],
   "source": [
    "a = 4/2   #returns float\n",
    "b = 7%2   #yeild remainder\n",
    "c= 3**2   #yeild 3 raised to the power 2\n",
    "d = 4//3  #yeild quotient....gives the greatest integer less than the quotient\n",
    "print(a, b, c, d)"
   ]
  },
  {
   "cell_type": "markdown",
   "id": "dee7f3ae",
   "metadata": {},
   "source": [
    "# Operation naunaces\n",
    "## floor division"
   ]
  },
  {
   "cell_type": "code",
   "execution_count": 20,
   "id": "7515c487",
   "metadata": {},
   "outputs": [
    {
     "name": "stdout",
     "output_type": "stream",
     "text": [
      "3\n",
      "-4\n",
      "-4\n",
      "3\n",
      "0\n",
      "-1\n",
      "-1\n",
      "0\n"
     ]
    }
   ],
   "source": [
    "print(10//3)   \n",
    "print(-10//3)\n",
    "print(10//-3)\n",
    "print(-10//-3)\n",
    "print(3//10)\n",
    "print(-3//10)\n",
    "print(3//-10)\n",
    "print(-3//-10)"
   ]
  },
  {
   "cell_type": "markdown",
   "id": "fd4745b9",
   "metadata": {},
   "source": [
    "## modulo operator"
   ]
  },
  {
   "cell_type": "code",
   "execution_count": 1,
   "id": "dd277206",
   "metadata": {},
   "outputs": [
    {
     "name": "stdout",
     "output_type": "stream",
     "text": [
      "1\n",
      "2\n",
      "-2\n",
      "-1\n",
      "3\n",
      "-7\n",
      "7\n",
      "-3\n"
     ]
    }
   ],
   "source": [
    "# it is evaluated as  a- (b*(a//b))\n",
    "print(10%3)\n",
    "print(-10%3)\n",
    "print(10%-3)\n",
    "print(-10%-3)\n",
    "print(3%10)\n",
    "print(3%-10)\n",
    "print(-3%10)\n",
    "print(-3%-10)\n",
    "# sign of the output depends on the sign of the denominator"
   ]
  },
  {
   "cell_type": "code",
   "execution_count": 2,
   "id": "a15f2cd8",
   "metadata": {},
   "outputs": [
    {
     "name": "stdout",
     "output_type": "stream",
     "text": [
      "2 1\n"
     ]
    }
   ],
   "source": [
    "a = True + True\n",
    "b = True + False\n",
    "print(a, b)\n",
    "while(1):\n",
    "    print(\"Hello\")\n",
    "    break"
   ]
  },
  {
   "cell_type": "markdown",
   "id": "7634fea8",
   "metadata": {},
   "source": [
    "# Assosiativity and precedence"
   ]
  },
  {
   "cell_type": "code",
   "execution_count": 23,
   "id": "83a9d9bc",
   "metadata": {},
   "outputs": [],
   "source": [
    "# PEMDAS\n",
    "# P -> ()\n",
    "# E -> **\n",
    "# M D-> * / // %\n",
    "# A S -> +-"
   ]
  },
  {
   "cell_type": "code",
   "execution_count": 24,
   "id": "21693830",
   "metadata": {},
   "outputs": [
    {
     "name": "stdout",
     "output_type": "stream",
     "text": [
      "['ArithmeticError', 'AssertionError', 'AttributeError', 'BaseException', 'BlockingIOError', 'BrokenPipeError', 'BufferError', 'BytesWarning', 'ChildProcessError', 'ConnectionAbortedError', 'ConnectionError', 'ConnectionRefusedError', 'ConnectionResetError', 'DeprecationWarning', 'EOFError', 'Ellipsis', 'EnvironmentError', 'Exception', 'False', 'FileExistsError', 'FileNotFoundError', 'FloatingPointError', 'FutureWarning', 'GeneratorExit', 'IOError', 'ImportError', 'ImportWarning', 'IndentationError', 'IndexError', 'InterruptedError', 'IsADirectoryError', 'KeyError', 'KeyboardInterrupt', 'LookupError', 'MemoryError', 'ModuleNotFoundError', 'NameError', 'None', 'NotADirectoryError', 'NotImplemented', 'NotImplementedError', 'OSError', 'OverflowError', 'PendingDeprecationWarning', 'PermissionError', 'ProcessLookupError', 'RecursionError', 'ReferenceError', 'ResourceWarning', 'RuntimeError', 'RuntimeWarning', 'StopAsyncIteration', 'StopIteration', 'SyntaxError', 'SyntaxWarning', 'SystemError', 'SystemExit', 'TabError', 'TimeoutError', 'True', 'TypeError', 'UnboundLocalError', 'UnicodeDecodeError', 'UnicodeEncodeError', 'UnicodeError', 'UnicodeTranslateError', 'UnicodeWarning', 'UserWarning', 'ValueError', 'Warning', 'WindowsError', 'ZeroDivisionError', '__IPYTHON__', '__build_class__', '__debug__', '__doc__', '__import__', '__loader__', '__name__', '__package__', '__spec__', 'abs', 'all', 'any', 'ascii', 'bin', 'bool', 'breakpoint', 'bytearray', 'bytes', 'callable', 'chr', 'classmethod', 'compile', 'complex', 'copyright', 'credits', 'delattr', 'dict', 'dir', 'display', 'divmod', 'enumerate', 'eval', 'exec', 'execfile', 'filter', 'float', 'format', 'frozenset', 'get_ipython', 'getattr', 'globals', 'hasattr', 'hash', 'help', 'hex', 'id', 'input', 'int', 'isinstance', 'issubclass', 'iter', 'len', 'license', 'list', 'locals', 'map', 'max', 'memoryview', 'min', 'next', 'object', 'oct', 'open', 'ord', 'pow', 'print', 'property', 'range', 'repr', 'reversed', 'round', 'runfile', 'set', 'setattr', 'slice', 'sorted', 'staticmethod', 'str', 'sum', 'super', 'tuple', 'type', 'vars', 'zip']\n"
     ]
    }
   ],
   "source": [
    "print(dir(__builtins__))  # to get all the functions in builtins\n",
    "# there are many builtins module in python like math, cmath, random, decimal\n",
    "\n"
   ]
  },
  {
   "cell_type": "markdown",
   "id": "f09ffaea",
   "metadata": {},
   "source": [
    "# Conversion"
   ]
  },
  {
   "cell_type": "code",
   "execution_count": 5,
   "id": "79aa8897",
   "metadata": {},
   "outputs": [
    {
     "name": "stdout",
     "output_type": "stream",
     "text": [
      "1513\n",
      "25\n",
      "4609\n",
      "1\n",
      "<class 'int'>\n",
      "12\n",
      "(3.5-1.2j)\n",
      "11\n",
      "226\n",
      "20\n",
      "a\n"
     ]
    }
   ],
   "source": [
    "x = '11001'\n",
    "var = 1.12\n",
    "print(int(x, 6))   #returns  6^4 + 6^3 + 6^0\n",
    "print(int(x, 2))   #returns 2^4  + 2^3 + 2^0\n",
    "print(int(x, 8))   #returns 8^4 + 8^3 + 8^0\n",
    "\n",
    "print(int(var))\n",
    "\n",
    "var = int(var)     #valid\n",
    "print(type(var))\n",
    "\n",
    "print(str(12)) \n",
    "\n",
    "print(complex(3.5, -1.2))\n",
    "i = complex(2.3, 5.1)\n",
    "j = complex(3, 4)\n",
    "k = i + j\n",
    "\n",
    "print(int('1011', 2))\n",
    "print(int('342', 8))\n",
    "print(int('14', 16))\n",
    "print(chr(97))"
   ]
  },
  {
   "cell_type": "markdown",
   "id": "f0b0403d",
   "metadata": {},
   "source": [
    "# Built-in Function"
   ]
  },
  {
   "cell_type": "markdown",
   "id": "7586c3ac",
   "metadata": {},
   "source": [
    "that are commonly used with numbers"
   ]
  },
  {
   "cell_type": "code",
   "execution_count": 26,
   "id": "563d9f5e",
   "metadata": {},
   "outputs": [
    {
     "name": "stdout",
     "output_type": "stream",
     "text": [
      "3\n"
     ]
    }
   ],
   "source": [
    "# abs()\n",
    "x =-3\n",
    "print(abs(x))"
   ]
  },
  {
   "cell_type": "code",
   "execution_count": 27,
   "id": "a4c29700",
   "metadata": {},
   "outputs": [
    {
     "data": {
      "text/plain": [
       "8"
      ]
     },
     "execution_count": 27,
     "metadata": {},
     "output_type": "execute_result"
    }
   ],
   "source": [
    "# pow(x, y)\n",
    "pow(2, 3)"
   ]
  },
  {
   "cell_type": "code",
   "execution_count": 28,
   "id": "d41ced78",
   "metadata": {},
   "outputs": [
    {
     "data": {
      "text/plain": [
       "1"
      ]
     },
     "execution_count": 28,
     "metadata": {},
     "output_type": "execute_result"
    }
   ],
   "source": [
    "# min(x1, x2, x3, x4.....)\n",
    "min(2, 6, 1, 9, 3, 5,12)"
   ]
  },
  {
   "cell_type": "code",
   "execution_count": 29,
   "id": "53ce5375",
   "metadata": {},
   "outputs": [
    {
     "data": {
      "text/plain": [
       "12"
      ]
     },
     "execution_count": 29,
     "metadata": {},
     "output_type": "execute_result"
    }
   ],
   "source": [
    "# max(x1, x2, x3,.......)\n",
    "max(2, 6, 1, 9, 3, 5,12)"
   ]
  },
  {
   "cell_type": "code",
   "execution_count": 30,
   "id": "b172a9c3",
   "metadata": {},
   "outputs": [
    {
     "data": {
      "text/plain": [
       "(4, 0)"
      ]
     },
     "execution_count": 30,
     "metadata": {},
     "output_type": "execute_result"
    }
   ],
   "source": [
    "# divmod(x, y)\n",
    "divmod(12, 3)"
   ]
  },
  {
   "cell_type": "code",
   "execution_count": 9,
   "id": "d9bf3bd8",
   "metadata": {},
   "outputs": [
    {
     "name": "stdout",
     "output_type": "stream",
     "text": [
      "3\n",
      "4\n",
      "4.59\n"
     ]
    }
   ],
   "source": [
    "# round()\n",
    "print(round(3.1415))\n",
    "print(round(3.59))\n",
    "print(round(4.5891, 2))"
   ]
  },
  {
   "cell_type": "code",
   "execution_count": 10,
   "id": "369ae12e",
   "metadata": {},
   "outputs": [
    {
     "data": {
      "text/plain": [
       "'0b1100'"
      ]
     },
     "execution_count": 10,
     "metadata": {},
     "output_type": "execute_result"
    }
   ],
   "source": [
    "a = 12\n",
    "bin(a)"
   ]
  },
  {
   "cell_type": "code",
   "execution_count": 11,
   "id": "8f38e11b",
   "metadata": {},
   "outputs": [
    {
     "data": {
      "text/plain": [
       "'0xc'"
      ]
     },
     "execution_count": 11,
     "metadata": {},
     "output_type": "execute_result"
    }
   ],
   "source": [
    "hex(a)"
   ]
  },
  {
   "cell_type": "code",
   "execution_count": 12,
   "id": "62133285",
   "metadata": {},
   "outputs": [
    {
     "data": {
      "text/plain": [
       "'0o14'"
      ]
     },
     "execution_count": 12,
     "metadata": {},
     "output_type": "execute_result"
    }
   ],
   "source": [
    "oct(a)"
   ]
  },
  {
   "cell_type": "markdown",
   "id": "bba23bdd",
   "metadata": {},
   "source": [
    "Modules used for performing sofisticated mathematical operations- math, cmath, random, decimal"
   ]
  },
  {
   "cell_type": "code",
   "execution_count": 8,
   "id": "40f63afd",
   "metadata": {},
   "outputs": [
    {
     "name": "stdout",
     "output_type": "stream",
     "text": [
      "0.9999998001333682\n",
      "3.141592653589793\n",
      "(0.14537000000000022, 3.0)\n",
      "['__doc__', '__loader__', '__name__', '__package__', '__spec__', 'acos', 'acosh', 'asin', 'asinh', 'atan', 'atan2', 'atanh', 'ceil', 'comb', 'copysign', 'cos', 'cosh', 'degrees', 'dist', 'e', 'erf', 'erfc', 'exp', 'expm1', 'fabs', 'factorial', 'floor', 'fmod', 'frexp', 'fsum', 'gamma', 'gcd', 'hypot', 'inf', 'isclose', 'isfinite', 'isinf', 'isnan', 'isqrt', 'lcm', 'ldexp', 'lgamma', 'log', 'log10', 'log1p', 'log2', 'modf', 'nan', 'nextafter', 'perm', 'pi', 'pow', 'prod', 'radians', 'remainder', 'sin', 'sinh', 'sqrt', 'tan', 'tanh', 'tau', 'trunc', 'ulp']\n",
      "Help on built-in function dist in module math:\n",
      "\n",
      "dist(p, q, /)\n",
      "    Return the Euclidean distance between two points p and q.\n",
      "    \n",
      "    The points should be specified as sequences (or iterables) of\n",
      "    coordinates.  Both inputs must have the same dimension.\n",
      "    \n",
      "    Roughly equivalent to:\n",
      "        sqrt(sum((px - qx) ** 2.0 for px, qx in zip(p, q)))\n",
      "\n"
     ]
    },
    {
     "data": {
      "text/plain": [
       "2.8284271247461903"
      ]
     },
     "execution_count": 8,
     "metadata": {},
     "output_type": "execute_result"
    }
   ],
   "source": [
    "import math as m\n",
    "pi = 22/7\n",
    "print(m.sin(pi/2))\n",
    "print(m.pi)\n",
    "print(m.modf(3.14537))\n",
    "print(dir(m))\n",
    "a = m.tan(pi/4)\n",
    "b = m.degrees(pi/2)\n",
    "m.fabs(-4.6)\n",
    "m.factorial(3)\n",
    "help(m.dist)\n",
    "m.dist([2,3], [4,5])\n",
    "\n"
   ]
  },
  {
   "cell_type": "code",
   "execution_count": 25,
   "id": "6c7153d9",
   "metadata": {},
   "outputs": [
    {
     "name": "stdout",
     "output_type": "stream",
     "text": [
      "(0.75, 4) <class 'tuple'>\n",
      "6.0\n"
     ]
    }
   ],
   "source": [
    "#x = m*2**3\n",
    "a =m.frexp(12)# gives (m,e)\n",
    "print(a, type(a))\n",
    "l = (1,2,3)\n",
    "b = m.fsum(l) # float sum\n",
    "print(b)"
   ]
  },
  {
   "cell_type": "code",
   "execution_count": 26,
   "id": "38fd58a1",
   "metadata": {},
   "outputs": [
    {
     "data": {
      "text/plain": [
       "5.0"
      ]
     },
     "execution_count": 26,
     "metadata": {},
     "output_type": "execute_result"
    }
   ],
   "source": [
    "# hypot(x, y)\n",
    "import math\n",
    "math.hypot(3,4) #hypotenus"
   ]
  },
  {
   "cell_type": "markdown",
   "id": "0f9dc4c9",
   "metadata": {},
   "source": [
    "# cmath module"
   ]
  },
  {
   "cell_type": "code",
   "execution_count": 33,
   "id": "7cd6ce93",
   "metadata": {},
   "outputs": [
    {
     "name": "stdout",
     "output_type": "stream",
     "text": [
      "['__doc__', '__loader__', '__name__', '__package__', '__spec__', 'acos', 'acosh', 'asin', 'asinh', 'atan', 'atanh', 'cos', 'cosh', 'e', 'exp', 'inf', 'infj', 'isclose', 'isfinite', 'isinf', 'isnan', 'log', 'log10', 'nan', 'nanj', 'phase', 'pi', 'polar', 'rect', 'sin', 'sinh', 'sqrt', 'tan', 'tanh', 'tau']\n",
      "Help on built-in function polar in module cmath:\n",
      "\n",
      "polar(z, /)\n",
      "    Convert a complex from rectangular coordinates to polar coordinates.\n",
      "    \n",
      "    r is the distance from 0 and phi the phase angle.\n",
      "\n"
     ]
    }
   ],
   "source": [
    "import cmath\n",
    "print(dir(cmath))\n",
    "help(cmath.polar)"
   ]
  },
  {
   "cell_type": "markdown",
   "id": "17f1dacc",
   "metadata": {},
   "source": [
    "# random module"
   ]
  },
  {
   "cell_type": "code",
   "execution_count": 1,
   "id": "f5c6f4e6",
   "metadata": {},
   "outputs": [
    {
     "name": "stdout",
     "output_type": "stream",
     "text": [
      "45\n",
      "57\n",
      "10\n",
      "72\n",
      "93\n",
      "\n",
      "46\n",
      "15\n",
      "41\n",
      "26\n",
      "12\n",
      "\n",
      "11\n",
      "24\n",
      "34\n",
      "49\n",
      "27\n"
     ]
    }
   ],
   "source": [
    "# eg\n",
    "import random\n",
    "import datetime\n",
    "for i in range(0,5):                       # changes when time changes\n",
    "    print(random.randint(1, 100))\n",
    "print()\n",
    "\n",
    "import time\n",
    "t = int(time.time())\n",
    "random.seed(6)\n",
    "for i in range(5):\n",
    "    print(random.randint(10, 50))           # always same\n",
    "print()\n",
    "\n",
    "random.seed(t)\n",
    "for i in range(5):                           # always different\n",
    "    print(random.randint(10, 50))"
   ]
  },
  {
   "cell_type": "markdown",
   "id": "b959b84d",
   "metadata": {},
   "source": [
    "# Classes and Object"
   ]
  },
  {
   "cell_type": "code",
   "execution_count": 8,
   "id": "7376ae37",
   "metadata": {},
   "outputs": [
    {
     "name": "stdout",
     "output_type": "stream",
     "text": [
      "True True True True True True\n",
      "1823574420112 1823574420112 1823574420112 1823574420112\n"
     ]
    }
   ],
   "source": [
    "a = b = c =d = 12\n",
    "print(a is b, a is c, a  is d, b is c, b is d, c is d)\n",
    "print(id(a), id(b), id(c), id(d))"
   ]
  },
  {
   "cell_type": "markdown",
   "id": "d069fdcf",
   "metadata": {},
   "source": [
    "# STRING"
   ]
  },
  {
   "cell_type": "code",
   "execution_count": 9,
   "id": "5fcfcdcd",
   "metadata": {},
   "outputs": [
    {
     "name": "stdout",
     "output_type": "stream",
     "text": [
      "<class 'str'>\n",
      "<class 'str'>\n",
      "<class 'str'>\n",
      "<class 'str'>\n"
     ]
    }
   ],
   "source": [
    "a , b, c, d = 'Gopi', \"kumar\", '''Shaw''', \"\"\"JMD\"\"\"\n",
    "print(type(a))\n",
    "print(type(b))\n",
    "print(type(c))\n",
    "print(type(d))"
   ]
  },
  {
   "cell_type": "code",
   "execution_count": 36,
   "id": "fbe43de2",
   "metadata": {},
   "outputs": [
    {
     "name": "stdout",
     "output_type": "stream",
     "text": [
      "My father's name is om\n",
      "My father's name is om\n",
      "C:\\users\\Gopi kumar shaw\\Python\n",
      "C:\\users\\Gopi kumar shaw\\Python\n"
     ]
    }
   ],
   "source": [
    "str = \"My father's name is om\"\n",
    "print(str)\n",
    "\n",
    "str1 = 'My father\\'s name is om'\n",
    "print(str1)\n",
    "\n",
    "str2 = 'C:\\\\users\\\\Gopi kumar shaw\\\\Python'\n",
    "print(str2)\n",
    "str2 = r'C:\\users\\Gopi kumar shaw\\Python'   # this is called raw string\n",
    "print(str2)"
   ]
  },
  {
   "cell_type": "markdown",
   "id": "45db640e",
   "metadata": {},
   "source": [
    "# Multilining of string"
   ]
  },
  {
   "cell_type": "code",
   "execution_count": 37,
   "id": "098ab361",
   "metadata": {},
   "outputs": [
    {
     "name": "stdout",
     "output_type": "stream",
     "text": [
      "My name is gopi         I live in Raniganj\n",
      "\n",
      "My name is gopi\n",
      "I live in raniganj\n",
      "\n",
      "My name is gopi I live in raniganj\n"
     ]
    }
   ],
   "source": [
    "msg1 = 'My name is gopi \\\n",
    "        I live in Raniganj'  # here space will reflect in the output\n",
    "msg2 = \"\"\"My name is gopi\n",
    "I live in raniganj\"\"\"        # same here\n",
    "msg3 = ('My name is gopi'\n",
    "        ' I live in raniganj') # paranthesis is important \n",
    "print(msg1)\n",
    "print()\n",
    "print(msg2)\n",
    "print()\n",
    "print(msg3)"
   ]
  },
  {
   "cell_type": "markdown",
   "id": "c05a1840",
   "metadata": {},
   "source": [
    "## Accessing string elements"
   ]
  },
  {
   "cell_type": "code",
   "execution_count": 38,
   "id": "21877acb",
   "metadata": {},
   "outputs": [
    {
     "name": "stdout",
     "output_type": "stream",
     "text": [
      "H o H o l H\n"
     ]
    }
   ],
   "source": [
    "msg = 'Hello'\n",
    "a = msg[0]\n",
    "b = msg[4]\n",
    "c = msg[-0]\n",
    "d = msg[-1]\n",
    "e = msg[-2]\n",
    "f = msg[-5]\n",
    "print(a, b , c, d, e, f)"
   ]
  },
  {
   "cell_type": "markdown",
   "id": "3c2036b0",
   "metadata": {},
   "source": [
    "# slicing"
   ]
  },
  {
   "cell_type": "code",
   "execution_count": 39,
   "id": "239f54a0",
   "metadata": {},
   "outputs": [
    {
     "name": "stdout",
     "output_type": "stream",
     "text": [
      "Gopi_shaw\n",
      "Gopi_shaw\n",
      "Gopi_shaw\n",
      "shaw\n",
      "Gopi_\n",
      "opi\n"
     ]
    }
   ],
   "source": [
    "str = 'Gopi_shaw'\n",
    "print(str[0 :9])  \n",
    "print(str[0: ])   \n",
    "print(str[ :9])   \n",
    "print(str[-4:])   \n",
    "print(str[:-4])   \n",
    "print(str[1:-5])  "
   ]
  },
  {
   "cell_type": "code",
   "execution_count": 52,
   "id": "e7619db8",
   "metadata": {},
   "outputs": [
    {
     "name": "stdout",
     "output_type": "stream",
     "text": [
      "Gopi kumar shaw\n",
      "----------\n",
      "True\n"
     ]
    }
   ],
   "source": [
    "# Properties of string:\n",
    "\n",
    "# 1. Immutable\n",
    "s = \"Hello\"\n",
    "# s[0] = 'E' gives error\n",
    "\n",
    "\n",
    "# 2. Concatenation\n",
    "msg = 'Gopi'\n",
    "msg1 = 'kumar'\n",
    "msg2 = msg + ' ' + msg1\n",
    "print(msg2 + ' ' + 'shaw')\n",
    "\n",
    "# 3. can be replicated while printing\n",
    "print('-'*10)\n",
    "\n",
    "# 4. one string is part of another can be found out \n",
    "print('e' in 'Hello')"
   ]
  },
  {
   "cell_type": "markdown",
   "id": "2d8db608",
   "metadata": {},
   "source": [
    "#  Built in functions"
   ]
  },
  {
   "cell_type": "code",
   "execution_count": 57,
   "id": "53fafa7a",
   "metadata": {},
   "outputs": [
    {
     "name": "stdout",
     "output_type": "stream",
     "text": [
      "11\n",
      " \n",
      "r\n"
     ]
    }
   ],
   "source": [
    "msg = \"Hello World\"\n",
    "print(len(msg))\n",
    "print(min(msg))\n",
    "print(max(msg))"
   ]
  },
  {
   "cell_type": "markdown",
   "id": "3c77109a",
   "metadata": {},
   "source": [
    "# String method"
   ]
  },
  {
   "cell_type": "code",
   "execution_count": 58,
   "id": "c6dc7bdd",
   "metadata": {},
   "outputs": [
    {
     "name": "stdout",
     "output_type": "stream",
     "text": [
      "False\n",
      "False\n",
      "True\n",
      "False\n",
      "False\n",
      "True\n",
      "True\n",
      "1\n",
      "Gopi75\n",
      "Gopi12\n",
      "['A', 'E', 'C']\n",
      "['A', 'E', 'C']\n",
      "('A', '@', 'EC')\n",
      "A-E-C AEC A@E@C\n"
     ]
    }
   ],
   "source": [
    "msg = 'Gopi12'\n",
    "m1 = 'A E C'\n",
    "m2 = 'A/E/C'\n",
    "m3 = 'A@EC'\n",
    "m4 = 'AEC'\n",
    "# 1. content test function\n",
    "print(msg.isupper())\n",
    "print(msg.islower())\n",
    "print(msg.isalnum()) # Is alphabet or number\n",
    "print(msg.isdigit())\n",
    "print(msg.isalpha())\n",
    "print(msg.startswith('G'))\n",
    "print(msg.endswith('2'))\n",
    "\n",
    "# search and replace\n",
    "print(msg.find('o'))\n",
    "print(msg.replace('12', '75')) # replace is a string method which doesn't change the original string, makes a copy\n",
    "print(msg)\n",
    "\n",
    "# 3. trim whitespace\n",
    "msg.lstrip()\n",
    "msg.rstrip()\n",
    "msg.strip()\n",
    "\n",
    "# 4. split and partition\n",
    "a = m1.split()\n",
    "print(a)\n",
    "b = m2.split(\"/\")\n",
    "print(b)\n",
    "c = m3.partition('@')\n",
    "print(c)\n",
    "d = \"-\".join(m4)\n",
    "e = \"@\".join(a);\n",
    "print(d, m4, e)\n",
    "# replace(),partition(), join() all these methods doesn't change the original string but they makes of copy of original "
   ]
  },
  {
   "cell_type": "markdown",
   "id": "b93501bd",
   "metadata": {},
   "source": [
    "# String conversion"
   ]
  },
  {
   "cell_type": "code",
   "execution_count": 59,
   "id": "18029275",
   "metadata": {},
   "outputs": [
    {
     "name": "stdout",
     "output_type": "stream",
     "text": [
      "upper-  ASANSOL ENGINEERING COLLEGE\n",
      "asansol Engineering college\n",
      "lower-  asansol engineering college\n",
      "asansol Engineering college\n",
      "title-  Asansol Engineering College\n",
      "asansol Engineering college\n",
      "capitalize-  Asansol engineering college\n",
      "asansol Engineering college\n",
      "swapcase-  ASANSOL eNGINEERING COLLEGE\n",
      "asansol Engineering college\n"
     ]
    }
   ],
   "source": [
    "# converting case of character in string\n",
    "msg = \"asansol Engineering college\"\n",
    "print('upper- ', msg.upper()) \n",
    "print(msg)\n",
    "print(\"lower- \", msg.lower())\n",
    "print(msg)\n",
    "print(\"title- \", msg.title())\n",
    "print(msg)\n",
    "print(\"capitalize- \", msg.capitalize())\n",
    "print(msg)\n",
    "print(\"swapcase- \", msg.swapcase())\n",
    "print(msg)\n",
    "\n",
    "# all will make a new copy of the exesting string"
   ]
  },
  {
   "cell_type": "code",
   "execution_count": 60,
   "id": "0185a189",
   "metadata": {},
   "outputs": [
    {
     "name": "stdout",
     "output_type": "stream",
     "text": [
      "75\n",
      "12.5\n",
      "(2.4+0j)\n",
      "a\n",
      "97\n"
     ]
    }
   ],
   "source": [
    "# converting number to string and vice versa\n",
    "msg = '075'\n",
    "a = int(msg)\n",
    "print(a)\n",
    "msg1 = '12.5'\n",
    "b = float(msg1)\n",
    "print(b)\n",
    "msg2 = '2.4'\n",
    "c = complex(msg2)\n",
    "print(c)\n",
    "msg3 = 97\n",
    "d = chr(msg3)\n",
    "print(d)\n",
    "\n",
    "msg4 = 'a'\n",
    "e = ord(msg4)\n",
    "print(e)\n",
    "# gives error\n",
    "#a = 075\n",
    "#print(a)"
   ]
  },
  {
   "cell_type": "markdown",
   "id": "93674ef6",
   "metadata": {},
   "source": [
    "## String comparison"
   ]
  },
  {
   "cell_type": "code",
   "execution_count": 61,
   "id": "b882af89",
   "metadata": {},
   "outputs": [
    {
     "name": "stdout",
     "output_type": "stream",
     "text": [
      "False\n",
      "True\n",
      "True\n",
      "True\n",
      "False\n",
      "True\n"
     ]
    }
   ],
   "source": [
    "str1 = 'asansol'\n",
    "str2 = 'Engineering'\n",
    "str3 = 'collEge'\n",
    "str4 = 'asansol'\n",
    "str5 = 'college'\n",
    "# Note: lower case is greater than upercase\n",
    "print(str1 == str2)\n",
    "print(str1 == str4)\n",
    "print(str2 !=str5)\n",
    "print(str1>str2)\n",
    "print(str3> str5)\n",
    "print(str1<=str5)"
   ]
  },
  {
   "cell_type": "code",
   "execution_count": null,
   "id": "b4e02b38",
   "metadata": {},
   "outputs": [],
   "source": [
    "#eg1"
   ]
  },
  {
   "cell_type": "code",
   "execution_count": 62,
   "id": "e9fccf9c",
   "metadata": {},
   "outputs": [
    {
     "name": "stdout",
     "output_type": "stream",
     "text": [
      "Gopi\n"
     ]
    }
   ],
   "source": [
    "s = 'Gfgoscperi'\n",
    "print(s[0:10:3])"
   ]
  },
  {
   "cell_type": "markdown",
   "id": "1f43114b",
   "metadata": {},
   "source": [
    "# end() and sep()"
   ]
  },
  {
   "cell_type": "code",
   "execution_count": 65,
   "id": "017a892e",
   "metadata": {},
   "outputs": [
    {
     "name": "stdout",
     "output_type": "stream",
     "text": [
      "I love-python!\n",
      "I love-python!\n"
     ]
    }
   ],
   "source": [
    "# Both end() and sep() are parameters that can be passed to the print() function in Python to customize the behavior\n",
    "# of printing output.\n",
    "# end() is used to specify what should be printed at the end of the output. By default, end() is set to \\n \n",
    "# (a newline character), which means that each call to print() will output a new line. You can change this \n",
    "# by passing a different string to the end parameter. \n",
    "str1 = \"I love\"\n",
    "str2 = \"python!\"\n",
    "print(str1, end='-')\n",
    "print(str2)\n",
    "\n",
    "# sep() is used to specify the separator between multiple values that are being printed. By default, sep() is set to a \n",
    "# space character. You can change this by passing a different string to the sep parameter.\n",
    "print(str1, str2, sep='-')\n"
   ]
  },
  {
   "cell_type": "markdown",
   "id": "854c5f05",
   "metadata": {},
   "source": [
    "# Decision control Instruction"
   ]
  },
  {
   "cell_type": "markdown",
   "id": "263424e2",
   "metadata": {},
   "source": [
    "#  Logical Operator"
   ]
  },
  {
   "cell_type": "code",
   "execution_count": 66,
   "id": "351d2127",
   "metadata": {},
   "outputs": [
    {
     "name": "stdout",
     "output_type": "stream",
     "text": [
      "2\n",
      "False\n",
      "0\n",
      "4\n"
     ]
    }
   ],
   "source": [
    "# if and comes first it will check both values and returns last checked element\n",
    "a =34\n",
    "b= 19\n",
    "x = 1 and a >20 and b<30 and 2\n",
    "print(x)\n",
    "y = 75 and a >20 and b>30 and 35\n",
    "print(y)\n",
    "z = -30 and a>=20 and 0 and 35\n",
    "print(z)\n",
    "w = a>3 and b<20 and 4\n",
    "print(w)"
   ]
  },
  {
   "cell_type": "code",
   "execution_count": 69,
   "id": "5077c1d4",
   "metadata": {},
   "outputs": [
    {
     "name": "stdout",
     "output_type": "stream",
     "text": [
      "40\n",
      "True\n"
     ]
    }
   ],
   "source": [
    "# if or comes first it will return the value where it can stop without further checking\n",
    "a = 30 and 40 or 60\n",
    "print(a)\n",
    "y= a>=20 or 75 or 60\n",
    "print(y)"
   ]
  },
  {
   "cell_type": "code",
   "execution_count": 67,
   "id": "1a62c024",
   "metadata": {},
   "outputs": [
    {
     "name": "stdout",
     "output_type": "stream",
     "text": [
      "Hello\n"
     ]
    }
   ],
   "source": [
    "p = 10\n",
    "q = 60\n",
    "if p and q>20:\n",
    "    print('Hello')\n",
    "else:\n",
    "    print('Hi')"
   ]
  },
  {
   "cell_type": "code",
   "execution_count": 33,
   "id": "0680a2fb",
   "metadata": {},
   "outputs": [
    {
     "name": "stdout",
     "output_type": "stream",
     "text": [
      "4 0 3 -10\n"
     ]
    }
   ],
   "source": [
    "\n",
    "i, j, k = 4, -1, 0\n",
    "w = i or j or k\n",
    "x = i and j and k\n",
    "y = 3 or 4 and 0\n",
    "q = 4 and -10\n",
    "z = q or 0\n",
    "print(w, x, y, z)"
   ]
  },
  {
   "cell_type": "code",
   "execution_count": 34,
   "id": "56cd616b",
   "metadata": {},
   "outputs": [
    {
     "name": "stdout",
     "output_type": "stream",
     "text": [
      "Hello\n"
     ]
    }
   ],
   "source": [
    "a =10\n",
    "if 1 == 30 or 40 or 60 :\n",
    "    print('Hello')\n",
    "else:\n",
    "    print('hi')"
   ]
  },
  {
   "cell_type": "code",
   "execution_count": 36,
   "id": "cafb75ea",
   "metadata": {},
   "outputs": [
    {
     "name": "stdout",
     "output_type": "stream",
     "text": [
      "a less than b\n"
     ]
    }
   ],
   "source": [
    "a , b = 30, 40\n",
    "if a == b:\n",
    "    print('a and b are equal');\n",
    "elif a>b:\n",
    "    print('a greater than b');\n",
    "elif a<b:\n",
    "    print('a less than b');"
   ]
  },
  {
   "cell_type": "markdown",
   "id": "500f05bd",
   "metadata": {},
   "source": [
    "# Conditional expression"
   ]
  },
  {
   "cell_type": "markdown",
   "id": "0d0471b3",
   "metadata": {},
   "source": [
    "syntax: < exp1 > if (cond) else < exp2 >"
   ]
  },
  {
   "cell_type": "code",
   "execution_count": 68,
   "id": "f05128bf",
   "metadata": {},
   "outputs": [
    {
     "name": "stdout",
     "output_type": "stream",
     "text": [
      "Enter length and breadth: 12 4\n",
      "Area is greater than perimeter.\n"
     ]
    }
   ],
   "source": [
    "l, b = [int(n) for n in input(\"Enter length and breadth: \").split()]\n",
    "ar = l *b\n",
    "per = 2*(l+b)\n",
    "print(\"Area is greater than perimeter.\") if ar> per else print(\"Area is smaller than perimeter\")"
   ]
  },
  {
   "cell_type": "markdown",
   "id": "89693731",
   "metadata": {},
   "source": [
    "## nesting"
   ]
  },
  {
   "cell_type": "code",
   "execution_count": 38,
   "id": "128cfc01",
   "metadata": {},
   "outputs": [
    {
     "name": "stdout",
     "output_type": "stream",
     "text": [
      "Point is on X-Y plane\n"
     ]
    }
   ],
   "source": [
    "x, y = 12, 13\n",
    "print(\"Point is on the X-axis\") if y ==0 else print(\"Point is on the Y-axis\") if x==0 else print(\"Point is on the origin\") if x==0 & y==0 else print(\"Point is on X-Y plane\")"
   ]
  },
  {
   "cell_type": "markdown",
   "id": "29c85972",
   "metadata": {},
   "source": [
    "## all() and any()"
   ]
  },
  {
   "cell_type": "code",
   "execution_count": 39,
   "id": "9ade169c",
   "metadata": {},
   "outputs": [
    {
     "name": "stdout",
     "output_type": "stream",
     "text": [
      "False True\n"
     ]
    }
   ],
   "source": [
    "a = 10\n",
    "b =23\n",
    "c =15\n",
    "x = all((a>10, b<30, c>5))\n",
    "y = any((a>10, b<30, c>5))\n",
    "print(x, y)\n",
    "# note that both all() and any() receives a single parameter of type string, list, tuple, set or dictonary"
   ]
  },
  {
   "cell_type": "markdown",
   "id": "b3784ae0",
   "metadata": {},
   "source": [
    "# Repeatition Control Instruction"
   ]
  },
  {
   "cell_type": "markdown",
   "id": "7e8fe9fc",
   "metadata": {},
   "source": [
    "## while loop"
   ]
  },
  {
   "cell_type": "code",
   "execution_count": 40,
   "id": "5f707efb",
   "metadata": {},
   "outputs": [
    {
     "name": "stdout",
     "output_type": "stream",
     "text": [
      "0 M desert 10\n",
      "1 u dessert 20\n",
      "2 m to 30\n",
      "3 b too 40\n",
      "4 a loose -10\n",
      "5 i lose -20\n"
     ]
    }
   ],
   "source": [
    "s = 'Mumbai'\n",
    "lst = ['desert', 'dessert', 'to', 'too', 'loose', 'lose']\n",
    "tpl = (10, 20, 30, 40,-10, -20)\n",
    "i=0\n",
    "while i< len(lst):\n",
    "    print(i, s[i], lst[i], tpl[i])\n",
    "    i+=1"
   ]
  },
  {
   "cell_type": "markdown",
   "id": "75df34b1",
   "metadata": {},
   "source": [
    "## For loop"
   ]
  },
  {
   "cell_type": "code",
   "execution_count": 41,
   "id": "7eb1656d",
   "metadata": {},
   "outputs": [
    {
     "name": "stdout",
     "output_type": "stream",
     "text": [
      "L\n",
      "e\n",
      "o\n",
      "p\n",
      "a\n",
      "r\n",
      "d\n",
      "Cat\n",
      "Dog\n",
      "Tiger\n",
      "Lion\n",
      "Leopard\n",
      "Rose\n",
      "Lily\n",
      "Jasmine\n",
      "40\n",
      "10\n",
      "50\n",
      "20\n",
      "60\n",
      "30\n",
      "A101\n",
      "A111\n",
      "A112\n"
     ]
    }
   ],
   "source": [
    "for char in 'Leopard':\n",
    "    print(char)\n",
    "for animal in ['Cat', 'Dog', 'Tiger', 'Lion', 'Leopard']:\n",
    "    print(animal)\n",
    "for flower in ('Rose', 'Lily', 'Jasmine'):\n",
    "    print(flower)\n",
    "for num in {10, 20, 30, 40, 50, 60}:\n",
    "    print(num)\n",
    "for key in {'A101': 'Rajesh', 'A111' : 'Sunil', 'A112' : 'Rakesh'}:\n",
    "    print(key)\n"
   ]
  },
  {
   "cell_type": "code",
   "execution_count": 42,
   "id": "d0327ad1",
   "metadata": {
    "scrolled": true
   },
   "outputs": [
    {
     "name": "stdout",
     "output_type": "stream",
     "text": [
      "0 desert\n",
      "1 dessert\n",
      "2 to\n",
      "3 too\n",
      "4 loose\n",
      "5 lose\n"
     ]
    }
   ],
   "source": [
    "lst = ['desert', 'dessert', 'to', 'too', 'loose', 'lose']\n",
    "for i, ele in enumerate(lst):\n",
    "    print(i, ele)"
   ]
  },
  {
   "cell_type": "markdown",
   "id": "f2e849eb",
   "metadata": {},
   "source": [
    "## else block of a loop"
   ]
  },
  {
   "cell_type": "code",
   "execution_count": 44,
   "id": "bee13c0c",
   "metadata": {},
   "outputs": [
    {
     "name": "stdout",
     "output_type": "stream",
     "text": [
      "Enter an integer:6\n",
      "6 is not a prime number\n"
     ]
    }
   ],
   "source": [
    "num = int(input('Enter an integer:'))\n",
    "i = 2\n",
    "while i<= num-1:\n",
    "    if num %i ==0:\n",
    "        print(num, 'is not a prime number')\n",
    "        break\n",
    "    i+=1\n",
    "else:\n",
    "    print(num, 'is a prime number')"
   ]
  },
  {
   "cell_type": "code",
   "execution_count": 9,
   "id": "b80203fc",
   "metadata": {},
   "outputs": [
    {
     "name": "stdout",
     "output_type": "stream",
     "text": [
      "41 is not multiple of 10\n"
     ]
    }
   ],
   "source": [
    "for ele in [10, 20, 30, 60, 41, 50]:\n",
    "    if ele % 10 != 0:\n",
    "        print(ele, 'is not multiple of 10')\n",
    "        break\n",
    "else:\n",
    "    print('All element in the list is a multiple of 10')"
   ]
  },
  {
   "cell_type": "markdown",
   "id": "611601be",
   "metadata": {},
   "source": [
    "# console i/o"
   ]
  },
  {
   "cell_type": "markdown",
   "id": "ccff6930",
   "metadata": {},
   "source": [
    "### multiple input taking"
   ]
  },
  {
   "cell_type": "code",
   "execution_count": null,
   "id": "37b151cd",
   "metadata": {},
   "outputs": [],
   "source": [
    "n1, n2, n3 = input(\"Enter three numbers:\").split()\n",
    "n1, n2, n3 = int(n1), int(n2), int(n3)\n",
    "print(n1, n2, n3)"
   ]
  },
  {
   "cell_type": "markdown",
   "id": "3353d721",
   "metadata": {},
   "source": [
    "## list comprehension"
   ]
  },
  {
   "cell_type": "code",
   "execution_count": null,
   "id": "59839693",
   "metadata": {},
   "outputs": [],
   "source": [
    "n1, n2, n3 = [int(n) for n in input(\"Enter three numbers: \").split()]\n",
    "print(n1, n2, n3)\n",
    "\n",
    "l= [int(n) for n in input(\"Enter three numbers: \").split()]\n",
    "print(l)"
   ]
  },
  {
   "cell_type": "markdown",
   "id": "4ab4cc90",
   "metadata": {},
   "source": [
    "## we can input different value at a time"
   ]
  },
  {
   "cell_type": "code",
   "execution_count": null,
   "id": "168ad5f5",
   "metadata": {},
   "outputs": [],
   "source": [
    "data = input('Enter name, age, salary: ').split()\n",
    "name = data[0]\n",
    "age = int(data[1])\n",
    "salary = float(data[2])\n",
    "print('My name is',name, 'I am', age, 'years old and my salary is', salary )"
   ]
  },
  {
   "cell_type": "markdown",
   "id": "52416f4e",
   "metadata": {},
   "source": [
    "# Formatted printing"
   ]
  },
  {
   "cell_type": "markdown",
   "id": "8733ad9d",
   "metadata": {},
   "source": [
    "### Using fstring"
   ]
  },
  {
   "cell_type": "code",
   "execution_count": null,
   "id": "a17952c4",
   "metadata": {},
   "outputs": [],
   "source": [
    "r, l, b = 1.5678, 10.5, 12.66\n",
    "print(f'radius = {r}')\n",
    "print(f'length = {l} breadth = {b} radius = {r}')\n",
    "name = 'Sushant Ajay Raje'\n",
    "for n in name.split():\n",
    "    print(f'{n:10}') # prints name in 10 columns"
   ]
  },
  {
   "cell_type": "markdown",
   "id": "612f24c0",
   "metadata": {},
   "source": [
    "### Using format "
   ]
  },
  {
   "cell_type": "code",
   "execution_count": null,
   "id": "ff40fbfd",
   "metadata": {},
   "outputs": [],
   "source": [
    "r, l, b = 1.5678, 10.5, 12.66\n",
    "name, age, salary = 'Rakesh', 30, 53000.55\n",
    "print('radius = {} length = {} breadth = {}'. format(r, l, b))\n",
    "print('name = {} age = {} salary = {}'.format(name, age, salary))\n",
    "print('radius = {0} length = {1} breadth = {2}'. format(r, l, b))\n",
    "print('age = {1} salary = {2} name = {0}'.format(name, age, salary))"
   ]
  },
  {
   "cell_type": "code",
   "execution_count": 70,
   "id": "b1d29d04",
   "metadata": {},
   "outputs": [
    {
     "name": "stdout",
     "output_type": "stream",
     "text": [
      "name = Ram             salary =   300000.0\n"
     ]
    }
   ],
   "source": [
    "# print name in 15 columns and salary in 10 columns\n",
    "name = 'Ram'; salary = 300000.0\n",
    "print('name = {0:15} salary = {1:10}'.format(name, salary))"
   ]
  },
  {
   "cell_type": "code",
   "execution_count": 71,
   "id": "4ded1edd",
   "metadata": {},
   "outputs": [
    {
     "name": "stdout",
     "output_type": "stream",
     "text": [
      "radius =      15.65\n"
     ]
    }
   ],
   "source": [
    "#radius in 10 columns with 2 digits after decimal point\n",
    "r = 15.653456\n",
    "print('radius = {0:10.2f}'.format(r))"
   ]
  },
  {
   "cell_type": "code",
   "execution_count": 72,
   "id": "90319420",
   "metadata": {},
   "outputs": [
    {
     "name": "stdout",
     "output_type": "stream",
     "text": [
      "Enter start, end and steps: 0 12 2\n",
      "    0     0     0\n",
      "    2     4     8\n",
      "    4    16    64\n",
      "    6    36   216\n",
      "    8    64   512\n",
      "   10   100  1000\n",
      "0    0    0    \n",
      "2    4    8    \n",
      "4    16   64   \n",
      "6    36   216  \n",
      "8    64   512  \n",
      "10   100  1000 \n"
     ]
    }
   ],
   "source": [
    "#eg 1. #right alligned\n",
    "start, end, steps = [int(n) for n in input('Enter start, end and steps: ').split()]\n",
    "for e in range(start, end, steps):\n",
    "    print('{0: >5} {1:>5} {2:>5}'.format(e, e**2, e**3))\n",
    "    \n",
    "# left alligned\n",
    "for e in range(start, end, steps):\n",
    "    print(f'{e:<5}{e**2:<5}{e**3:<5}')"
   ]
  },
  {
   "cell_type": "code",
   "execution_count": 73,
   "id": "b1ca780d",
   "metadata": {},
   "outputs": [
    {
     "name": "stdout",
     "output_type": "stream",
     "text": [
      "Shyam          : 9907543212\n",
      "Pinki          : 7098127553\n",
      "Ajay           : 6287443211\n",
      "Amisha         : 9932765821\n"
     ]
    }
   ],
   "source": [
    "#eg 2. don't waste time in calling these numbers\n",
    "contacts = {'Shyam': 9907543212, 'Pinki':7098127553, 'Ajay':6287443211, 'Amisha': 9932765821 }\n",
    "for name, num in contacts.items():\n",
    "    print(f'{name:15}: {num:10}')"
   ]
  },
  {
   "cell_type": "code",
   "execution_count": null,
   "id": "9cde35f6",
   "metadata": {},
   "outputs": [],
   "source": [
    "#eg 3\n",
    "import math\n",
    "width = 10\n",
    "precision = 4\n",
    "for n in range(1,10):\n",
    "    s = math.sqrt(n)\n",
    "    c = math.pow(n, 1/3)\n",
    "    print(f'{n:^5}{s:{width}.{precision}}{c:{width}.{precision}}')"
   ]
  },
  {
   "cell_type": "markdown",
   "id": "dc1ab368",
   "metadata": {},
   "source": [
    "# List"
   ]
  },
  {
   "cell_type": "markdown",
   "id": "39e4b98c",
   "metadata": {},
   "source": [
    "1. Dyanamic array\n",
    "2. can store dissimilar types\n",
    "3. can be repeated\n",
    "4. Mutable"
   ]
  },
  {
   "cell_type": "code",
   "execution_count": 2,
   "id": "d8f650b7",
   "metadata": {},
   "outputs": [
    {
     "name": "stdout",
     "output_type": "stream",
     "text": [
      "[10, 10, 10, 10, 10]\n"
     ]
    }
   ],
   "source": [
    "animals = ['Cow', 'Goat','Dog', 'Bull', 'Buffaloes', 'Cat','Mouse']\n",
    "n = [10]*5\n",
    "print(n)"
   ]
  },
  {
   "cell_type": "markdown",
   "id": "47368fa1",
   "metadata": {},
   "source": [
    "# slicing of List"
   ]
  },
  {
   "cell_type": "code",
   "execution_count": 3,
   "id": "960bc8cb",
   "metadata": {},
   "outputs": [
    {
     "name": "stdout",
     "output_type": "stream",
     "text": [
      "['Goat', 'Dog', 'Bull', 'Buffaloes']\n"
     ]
    }
   ],
   "source": [
    "print(animals[1:5])"
   ]
  },
  {
   "cell_type": "markdown",
   "id": "2da7c871",
   "metadata": {},
   "source": [
    "## looping in list"
   ]
  },
  {
   "cell_type": "code",
   "execution_count": null,
   "id": "53891eb9",
   "metadata": {},
   "outputs": [],
   "source": [
    "i=0\n",
    "while i<len(animals):\n",
    "    print(animals[i])\n",
    "    i+=1\n",
    "print()\n",
    "for a in animals:\n",
    "    print(a)"
   ]
  },
  {
   "cell_type": "code",
   "execution_count": null,
   "id": "ab6e01a3",
   "metadata": {},
   "outputs": [],
   "source": [
    "# keep track of index\n",
    "for index, a in enumerate(animals):\n",
    "    print(f'{a:<9}{index:>5}')"
   ]
  },
  {
   "cell_type": "markdown",
   "id": "18a729de",
   "metadata": {},
   "source": [
    "# Basic list commands"
   ]
  },
  {
   "cell_type": "code",
   "execution_count": 75,
   "id": "f93a4916",
   "metadata": {},
   "outputs": [
    {
     "name": "stdout",
     "output_type": "stream",
     "text": [
      "Dog\n",
      "12\n",
      "[18, 12, 32]\n",
      "[25, 32, 36]\n"
     ]
    }
   ],
   "source": [
    "animals = ['Cow', 'Goat','Dog', 'Bull', 'Buffaloes', 'Cat','Mouse']\n",
    "ages = [25, 24, 23, 18, 12, 32, 36]\n",
    "print(animals[2])\n",
    "print(ages[4])\n",
    "print(ages[3:6])\n",
    "ages[1:5]=[] # delete\n",
    "print(ages)"
   ]
  },
  {
   "cell_type": "markdown",
   "id": "bd040885",
   "metadata": {},
   "source": [
    "### Basic List Operations"
   ]
  },
  {
   "cell_type": "markdown",
   "id": "f7bfed3c",
   "metadata": {},
   "source": [
    "### concatenation"
   ]
  },
  {
   "cell_type": "code",
   "execution_count": null,
   "id": "857207b8",
   "metadata": {},
   "outputs": [],
   "source": [
    "lst = ages + [1, 2, 3, 4]\n",
    "print(lst)"
   ]
  },
  {
   "cell_type": "markdown",
   "id": "67ce776d",
   "metadata": {},
   "source": [
    "### merging "
   ]
  },
  {
   "cell_type": "code",
   "execution_count": null,
   "id": "758d491e",
   "metadata": {},
   "outputs": [],
   "source": [
    "s = [10, 20, 30]\n",
    "t = ['g','o', 'o', 'd']\n",
    "z = s+t\n",
    "print(z)"
   ]
  },
  {
   "cell_type": "markdown",
   "id": "40576fde",
   "metadata": {},
   "source": [
    "### Conversion "
   ]
  },
  {
   "cell_type": "code",
   "execution_count": null,
   "id": "4fe1575e",
   "metadata": {},
   "outputs": [],
   "source": [
    "l = list('Africa')\n",
    "print(l)"
   ]
  },
  {
   "cell_type": "markdown",
   "id": "456694e9",
   "metadata": {},
   "source": [
    "### aliasing"
   ]
  },
  {
   "cell_type": "code",
   "execution_count": 76,
   "id": "4bd9cf38",
   "metadata": {},
   "outputs": [
    {
     "name": "stdout",
     "output_type": "stream",
     "text": [
      "[12, 20, 30, 40, 20, 22] [12, 20, 30, 40, 20, 22]\n"
     ]
    }
   ],
   "source": [
    "lst1 = [12, 14, 16, 18, 20, 22]\n",
    "lst2 = lst1 # by doing this we are actually make the lst2 to point content of lst1\n",
    "lst1[1: 4] = [20, 30, 40]\n",
    "print(lst1, lst2)"
   ]
  },
  {
   "cell_type": "markdown",
   "id": "d70b6988",
   "metadata": {},
   "source": [
    "### cloning"
   ]
  },
  {
   "cell_type": "code",
   "execution_count": null,
   "id": "14d089e0",
   "metadata": {},
   "outputs": [],
   "source": [
    "lst1 = [10, 20, 30, 40, 50, 60]\n",
    "lst2 =[]\n",
    "lst2 = lst2+lst1   # here we are copying the content of lst1 to lst2\n",
    "print(lst2)"
   ]
  },
  {
   "cell_type": "markdown",
   "id": "580ef8c4",
   "metadata": {},
   "source": [
    "### Searching"
   ]
  },
  {
   "cell_type": "code",
   "execution_count": null,
   "id": "40de9e71",
   "metadata": {},
   "outputs": [],
   "source": [
    "lst = ['a', 'e', 'i', 'o', 'u']\n",
    "res = 'a' in lst\n",
    "print(res)\n",
    "res = 'z' in lst\n",
    "print(res)"
   ]
  },
  {
   "cell_type": "markdown",
   "id": "9c14d352",
   "metadata": {},
   "source": [
    "### Identity"
   ]
  },
  {
   "cell_type": "code",
   "execution_count": 4,
   "id": "9bc35d57",
   "metadata": {},
   "outputs": [
    {
     "name": "stdout",
     "output_type": "stream",
     "text": [
      "False\n",
      "True\n",
      "True\n",
      "True\n",
      "True\n"
     ]
    }
   ],
   "source": [
    "lst1 = [10, 20, 30, 40, 50]\n",
    "lst2 = [10, 20, 30, 40, 50]\n",
    "lst3 = lst1\n",
    "print(lst1 is lst2)\n",
    "print(lst1 is lst3)\n",
    "print(lst3 is not lst2)\n",
    "# remember\n",
    "n1 = 10\n",
    "n2 = 10\n",
    "s1 = 'ram'\n",
    "s2 = 'ram'\n",
    "print(n1 is n2)\n",
    "print(s1 is s2)\n"
   ]
  },
  {
   "cell_type": "markdown",
   "id": "8673b802",
   "metadata": {},
   "source": [
    "### comparison"
   ]
  },
  {
   "cell_type": "code",
   "execution_count": 78,
   "id": "02d5b074",
   "metadata": {},
   "outputs": [
    {
     "name": "stdout",
     "output_type": "stream",
     "text": [
      "True\n"
     ]
    }
   ],
   "source": [
    "a = [1, 2, 3, 4]\n",
    "b = [1, 2, 5]\n",
    "print(a<b)"
   ]
  },
  {
   "cell_type": "markdown",
   "id": "9f01c1aa",
   "metadata": {},
   "source": [
    "### emptiness"
   ]
  },
  {
   "cell_type": "code",
   "execution_count": 79,
   "id": "b5af4b13",
   "metadata": {},
   "outputs": [
    {
     "name": "stdout",
     "output_type": "stream",
     "text": [
      "This list is empty\n",
      "False\n"
     ]
    }
   ],
   "source": [
    "lst = []\n",
    "if not lst:\n",
    "    print(\"This list is empty\")\n",
    "print(bool(lst))"
   ]
  },
  {
   "cell_type": "markdown",
   "id": "57ee7f0b",
   "metadata": {},
   "source": [
    "# Built-in list function"
   ]
  },
  {
   "cell_type": "code",
   "execution_count": 80,
   "id": "15fa8dc7",
   "metadata": {},
   "outputs": [
    {
     "name": "stdout",
     "output_type": "stream",
     "text": [
      "6\n",
      "60\n",
      "10\n",
      "210\n",
      "True\n",
      "True\n",
      "[10, 20, 30, 50, 60]\n",
      "[]\n",
      "[]\n",
      "[10, 20, 30, 50, 60, 40, 9, 23]\n",
      "[9, 10, 20, 23, 30, 40, 50, 60]\n",
      "[10, 20, 30, 50, 60, 40, 9, 23]\n",
      "[60, 50, 40, 30, 23, 20, 10, 9]\n",
      "[9, 10, 20, 23, 30, 40, 50, 60]\n"
     ]
    }
   ],
   "source": [
    "lst1 = [10, 20, 30, 40, 50, 60]\n",
    "lst2 = []\n",
    "lst2 = lst2+ lst1  #copying\n",
    "lst3 =[]\n",
    "# finding length of a list\n",
    "lst3 = lst3 + lst1\n",
    "leng = len(lst1)\n",
    "\n",
    "# finding greatest element in the list\n",
    "m = max(lst1)\n",
    "\n",
    "# finding smallest element in the list\n",
    "n = min(lst1)\n",
    "\n",
    "# finding sum of elements in the list\n",
    "s = sum(lst1)\n",
    "\n",
    "print(leng)\n",
    "print(m)\n",
    "print(n)\n",
    "print(s)\n",
    "\n",
    "# all() and any() functions\n",
    "print(all(lst1))\n",
    "print(any(lst1))\n",
    "\n",
    "# deleting an element\n",
    "del(lst1[3])\n",
    "print(lst1)\n",
    "\n",
    "# deleting slice of elements\n",
    "del(lst2[:])\n",
    "print(lst2)\n",
    "\n",
    "# This way we can also delete a string\n",
    "lst3 =[]\n",
    "print(lst3)\n",
    "# adding an elements at the end of the list\n",
    "lst1.append(40)\n",
    "lst1.append(9)\n",
    "lst1.append(23)\n",
    "# lst1.append([1,2,3])  This will append a list inside a list, we can also add a list like data structure\n",
    "print(lst1)\n",
    "\n",
    "# sorted function creates a copy of sorted array and does not change the original one\n",
    "lst_new = sorted(lst1)\n",
    "print(lst_new)\n",
    "print(lst1)\n",
    "\n",
    "# reversed function creates a copy of reverseded array and does not change the original one\n",
    "rev_lst = list(reversed(lst_new))\n",
    "print(rev_lst)\n",
    "print(lst_new)"
   ]
  },
  {
   "cell_type": "code",
   "execution_count": 81,
   "id": "9912fb40",
   "metadata": {},
   "outputs": [
    {
     "name": "stdout",
     "output_type": "stream",
     "text": [
      "['__add__', '__class__', '__class_getitem__', '__contains__', '__delattr__', '__delitem__', '__dir__', '__doc__', '__eq__', '__format__', '__ge__', '__getattribute__', '__getitem__', '__gt__', '__hash__', '__iadd__', '__imul__', '__init__', '__init_subclass__', '__iter__', '__le__', '__len__', '__lt__', '__mul__', '__ne__', '__new__', '__reduce__', '__reduce_ex__', '__repr__', '__reversed__', '__rmul__', '__setattr__', '__setitem__', '__sizeof__', '__str__', '__subclasshook__', 'append', 'clear', 'copy', 'count', 'extend', 'index', 'insert', 'pop', 'remove', 'reverse', 'sort']\n"
     ]
    }
   ],
   "source": [
    "print(dir(list))"
   ]
  },
  {
   "cell_type": "markdown",
   "id": "615372e9",
   "metadata": {},
   "source": [
    "# List methods"
   ]
  },
  {
   "cell_type": "code",
   "execution_count": 11,
   "id": "347f02c3",
   "metadata": {},
   "outputs": [
    {
     "name": "stdout",
     "output_type": "stream",
     "text": [
      "[12, 15, 23, 22, 23, 16, 17]\n",
      "[12, 15, 23, 22, 23, 16]\n",
      "[12, 15, 23, 23, 16]\n",
      "[12, 15, 23, 21, 23, 16]\n",
      "2\n",
      "index of 21 is 3\n",
      "3\n"
     ]
    }
   ],
   "source": [
    "lst = [12, 15, 13, 23, 22, 23, 16, 17]\n",
    "lst.remove(13)\n",
    "print(lst)\n",
    "lst.pop()\n",
    "print(lst)\n",
    "lst.pop(3)\n",
    "print(lst)\n",
    "lst.insert(3,21)\n",
    "print(lst)\n",
    "print(lst.count(23))\n",
    "idx = lst.index(21)\n",
    "print(\"index of 21 is\" , idx)\n",
    "#idx = lst.index(50)    error \n",
    "#lst.remove(30)         error "
   ]
  },
  {
   "cell_type": "markdown",
   "id": "c794ed30",
   "metadata": {},
   "source": [
    "# Difference between del, remove and pop"
   ]
  },
  {
   "cell_type": "markdown",
   "id": "6874a2ba",
   "metadata": {},
   "source": [
    "del():\n",
    "1. it takes the specified index and remove the value at that index\n",
    "2. It limits itself to a simple deletion\n",
    "3. It is a prefix\n",
    "4. syntax - del(list[index]) or del(list)\n",
    "5. It throws an index error when the index does not exist in the list.\n",
    "6. del can be used for any class object.\n",
    "7. del basically work on the index\n",
    "8. In python, del is a keyword"
   ]
  },
  {
   "cell_type": "code",
   "execution_count": 11,
   "id": "ef8e7a8b",
   "metadata": {},
   "outputs": [
    {
     "name": "stdout",
     "output_type": "stream",
     "text": [
      "[1, 2, 2, 3, 4, 8, 9, 1, 3, 7, 9]\n"
     ]
    }
   ],
   "source": [
    "lst1 = [1,2,2,3,0,4,8,9,1,3,7,9]\n",
    "lst2 = []\n",
    "lst2 = lst2 + lst1\n",
    "del(lst1[4])\n",
    "print(lst1)\n",
    "del(lst2) # completely deletes the list\n",
    "#del(lst1[15])\n",
    "tpl = (1,2,3,4,5,6,7,8)\n",
    "# del(tpl[1]) error because tuple is immutable"
   ]
  },
  {
   "cell_type": "markdown",
   "id": "9d9a477b",
   "metadata": {},
   "source": [
    "remove()\n",
    "1. It takes a value and remove the first occurrence of that value.\n",
    "2. It is the only one that searches the item.\n",
    "3. It is a postfix\n",
    "4. Syntax- list.remove(value)\n",
    "5. It throws a value error when the value does not exists in the list\n",
    "6. remove is bounded to specific classes.\n",
    "7. remove basically works on the value.\n",
    "8. In python,remove() is an built in method"
   ]
  },
  {
   "cell_type": "code",
   "execution_count": 12,
   "id": "14833643",
   "metadata": {},
   "outputs": [
    {
     "name": "stdout",
     "output_type": "stream",
     "text": [
      "[1, 2, 2, 0, 4, 8, 9, 1, 3, 7, 9]\n"
     ]
    }
   ],
   "source": [
    "lst1 = [1,2,2,3,0,4,8,9,1,3,7,9]\n",
    "lst1.remove(3)\n",
    "print(lst1)\n",
    "# lst1.remove(11)"
   ]
  },
  {
   "cell_type": "markdown",
   "id": "47185980",
   "metadata": {},
   "source": [
    "pop()\n",
    "\n",
    "1. It takes index (when given, else take last) and removes the value at that index\n",
    "2. It is the only one that returns the value\n",
    "3. it is postfix.\n",
    "4. Syntax- list.pop(index) or list.pop()\n",
    "5. It throws an index error when an index is out of range\n",
    "6. pop is bounded to specific classes.\n",
    "7. pop basically works on the index.\n",
    "8. In Python, pop() is an in-built method."
   ]
  },
  {
   "cell_type": "code",
   "execution_count": 86,
   "id": "7659ee6d",
   "metadata": {},
   "outputs": [
    {
     "name": "stdout",
     "output_type": "stream",
     "text": [
      "3\n",
      "9\n"
     ]
    }
   ],
   "source": [
    "lst1 = [1,2,2,3,0,4,8,9,1,3,7,9]\n",
    "a = lst1.pop(3)\n",
    "print(a)\n",
    "b = lst1.pop()\n",
    "print(b)\n",
    "b = lst1.pop(0)\n"
   ]
  },
  {
   "cell_type": "markdown",
   "id": "a02c58f1",
   "metadata": {},
   "source": [
    "## sorting and reversing"
   ]
  },
  {
   "cell_type": "code",
   "execution_count": 12,
   "id": "77a0284f",
   "metadata": {},
   "outputs": [
    {
     "name": "stdout",
     "output_type": "stream",
     "text": [
      "[6, 50, 4, 0, 2, 10]\n",
      "[50, 10, 6, 4, 2, 0]\n",
      "[50, 10, 6, 4, 2, 0]\n",
      "[20, 14, 9, 2, 1, 0]\n"
     ]
    }
   ],
   "source": [
    "lst = [10, 2, 0, 4, 50, 6]\n",
    "# reverse(self, /)\n",
    " #      Reverse *IN PLACE*.\n",
    "lst.reverse()  # this actually reverses the original list and changes the data\n",
    "print(lst)\n",
    "\n",
    "# sort(self, /, *, key=None, reverse=False)\n",
    "      # Sort the list in ascending order and return None.\n",
    "lst.sort(reverse=True)     # this actually sortes the original list and changes the data\n",
    "print(lst)\n",
    "print(lst)\n",
    "lst = [2,9, 1, 0, 20, 14]\n",
    "print(sorted(lst, reverse = True))"
   ]
  },
  {
   "cell_type": "code",
   "execution_count": 87,
   "id": "deb748fe",
   "metadata": {},
   "outputs": [
    {
     "name": "stdout",
     "output_type": "stream",
     "text": [
      "[14, 20, 0, 1, 9, 2]\n"
     ]
    }
   ],
   "source": [
    "lst = [2,9, 1, 0, 20, 14]\n",
    "print(lst[::-1])"
   ]
  },
  {
   "cell_type": "markdown",
   "id": "b3cfab0a",
   "metadata": {},
   "source": [
    "## list varities"
   ]
  },
  {
   "cell_type": "markdown",
   "id": "ee545dd3",
   "metadata": {},
   "source": [
    "### nested list"
   ]
  },
  {
   "cell_type": "code",
   "execution_count": 13,
   "id": "bdd087d5",
   "metadata": {},
   "outputs": [
    {
     "name": "stdout",
     "output_type": "stream",
     "text": [
      "[[1, 3, 5, 7], [2, 4, 6, 8]]\n",
      "3 6\n"
     ]
    }
   ],
   "source": [
    "a = [1, 3, 5, 7]\n",
    "b = [2, 4, 6, 8]\n",
    "c = [a, b]\n",
    "print(c)\n",
    "print(c[0][1], c[1][2])"
   ]
  },
  {
   "cell_type": "markdown",
   "id": "c0883743",
   "metadata": {},
   "source": [
    "### embedded list"
   ]
  },
  {
   "cell_type": "code",
   "execution_count": 14,
   "id": "6f000805",
   "metadata": {},
   "outputs": [
    {
     "name": "stdout",
     "output_type": "stream",
     "text": [
      "[2, 4, [1, 3, 5, 7], 8]\n"
     ]
    }
   ],
   "source": [
    "a = [1, 3, 5, 7]\n",
    "b = [2, 4, a, 8]\n",
    "print(b)"
   ]
  },
  {
   "cell_type": "code",
   "execution_count": null,
   "id": "fa925a8e",
   "metadata": {},
   "outputs": [],
   "source": [
    "s = 'Hello'\n",
    "l = [*s]  # unpacking string\n",
    "l1 = list(s)\n",
    "print(l1)\n",
    "print(l)"
   ]
  },
  {
   "cell_type": "code",
   "execution_count": null,
   "id": "18a2a48c",
   "metadata": {},
   "outputs": [],
   "source": [
    "y = [20, 30,40, 50]\n",
    "x = [10, *y,60, 70, 80]\n",
    "print(x)"
   ]
  },
  {
   "cell_type": "markdown",
   "id": "c5fb35e2",
   "metadata": {},
   "source": [
    "# LIFO principle"
   ]
  },
  {
   "cell_type": "code",
   "execution_count": null,
   "id": "71feb873",
   "metadata": {},
   "outputs": [],
   "source": [
    "a = []\n",
    "# Push\n",
    "a.append(10)\n",
    "a.append(20)\n",
    "a.append(30)\n",
    "a.append(40)\n",
    "a.append(50)\n",
    "a.append(60)\n",
    "print(a)\n",
    "# pop\n",
    "a.pop()\n",
    "a.pop()\n",
    "a.pop()\n",
    "print(a)"
   ]
  },
  {
   "cell_type": "markdown",
   "id": "f636719f",
   "metadata": {},
   "source": [
    "# FIFO Principle"
   ]
  },
  {
   "cell_type": "code",
   "execution_count": null,
   "id": "519c2425",
   "metadata": {},
   "outputs": [],
   "source": [
    "import collections\n",
    "q = collections.deque()\n",
    "q.append('Shuhana')\n",
    "q.append('Ajay')\n",
    "q.append('Rahul')\n",
    "q.append('Aniket')\n",
    "q.append('Rinki')\n",
    "print(q)\n",
    "print(q.popleft())\n",
    "print(q.popleft())\n",
    "print(q.popleft())\n",
    "print(q)"
   ]
  },
  {
   "cell_type": "code",
   "execution_count": null,
   "id": "6d7f4f24",
   "metadata": {},
   "outputs": [],
   "source": [
    "# eg\n",
    "import random\n",
    "a =[]\n",
    "i =1\n",
    "while i<=20:\n",
    "    num = random.randint(10, 100)\n",
    "    a.append(num)\n",
    "    i+=1\n",
    "for n in a:\n",
    "    if n>20 and n<50:\n",
    "        a.remove(n)\n",
    "print(a)"
   ]
  },
  {
   "cell_type": "code",
   "execution_count": null,
   "id": "80c3b74b",
   "metadata": {},
   "outputs": [],
   "source": [
    "# 3 X 4 matrix\n",
    "mat1 =[[1, 2,3, 4], [5, 6, 7, 8], [9, 10, 11, 12]]\n",
    "mat2 =[[1, 2,3, 4], [5, 6, 7, 8], [9, 10, 11, 12]]\n",
    "mat3 =[[0, 0, 0, 0], [0, 0, 0, 0], [0, 0, 0, 0]]\n",
    "for i in range(len(mat1)):\n",
    "    for j in range(len(mat1[0])):\n",
    "        mat3[i][j]= mat1[i][j] + mat2[i][j]\n",
    "print(mat3)\n",
    "\n",
    "# for this type of operations numpy is effective"
   ]
  },
  {
   "cell_type": "markdown",
   "id": "5a8a9e27",
   "metadata": {},
   "source": [
    "# Tuples"
   ]
  },
  {
   "cell_type": "code",
   "execution_count": 88,
   "id": "1321970c",
   "metadata": {},
   "outputs": [
    {
     "name": "stdout",
     "output_type": "stream",
     "text": [
      "<class 'tuple'>\n",
      "(10, 10, 10, 10, 10) 50\n"
     ]
    }
   ],
   "source": [
    "a = ()\n",
    "b = (10, ) #tuple with one item ',' after 10 is necessary\n",
    "c = ('Sanjay', 25, 34555.50)\n",
    "d = (10, 20, 30, 40)\n",
    "# while initializing a tuple we may drop ()\n",
    "c = 'Sanjay', 25, 34555.50\n",
    "print(type(c))\n",
    "tpl1 = (10,)*5\n",
    "tpl2 = (10)*5\n",
    "print(tpl1, tpl2)"
   ]
  },
  {
   "cell_type": "code",
   "execution_count": 30,
   "id": "fba49c5f",
   "metadata": {},
   "outputs": [
    {
     "name": "stdout",
     "output_type": "stream",
     "text": [
      "Enter numbers: 1 2 3\n",
      "(1, 2, 3)\n",
      "<class 'tuple'>\n"
     ]
    }
   ],
   "source": [
    "tpl = tuple(int(x) for x in input('Enter numbers: ').split()) # if type casting is not done then it will be generator class\n",
    "print(tuple(tpl))\n",
    "print(type(tpl))"
   ]
  },
  {
   "cell_type": "markdown",
   "id": "38bb29f9",
   "metadata": {},
   "source": [
    "## Acessing tuple element"
   ]
  },
  {
   "cell_type": "code",
   "execution_count": 91,
   "id": "743ead7b",
   "metadata": {},
   "outputs": [
    {
     "name": "stdout",
     "output_type": "stream",
     "text": [
      "Sanjay\n",
      "25\n",
      "34555.5\n",
      "(25, 34555.5)\n",
      "('Sanjay', 25)\n"
     ]
    }
   ],
   "source": [
    "c = 'Sanjay', 25, 34555.50\n",
    "print(c[0])\n",
    "print(c[1])\n",
    "print(c[2])\n",
    "print(c[1:])\n",
    "print(c[:2])"
   ]
  },
  {
   "cell_type": "markdown",
   "id": "fd797905",
   "metadata": {},
   "source": [
    "# Lopping in tuple"
   ]
  },
  {
   "cell_type": "code",
   "execution_count": null,
   "id": "7ea01120",
   "metadata": {},
   "outputs": [],
   "source": [
    "tpl = (10, 20, 30, 40, 50)\n",
    "i = 0\n",
    "while i < len(tpl):\n",
    "    print(tpl[i])\n",
    "    i+=1\n",
    "for n in tpl:\n",
    "    print(n)"
   ]
  },
  {
   "cell_type": "code",
   "execution_count": null,
   "id": "e2e31026",
   "metadata": {},
   "outputs": [],
   "source": [
    "tpl = (10, 20, 30, 40, 50)\n",
    "for index, n in enumerate(tpl):\n",
    "    print(n, index)"
   ]
  },
  {
   "cell_type": "markdown",
   "id": "8686729b",
   "metadata": {},
   "source": [
    "# Basic Tuple operations"
   ]
  },
  {
   "cell_type": "markdown",
   "id": "b646e5aa",
   "metadata": {},
   "source": [
    "## Mutability"
   ]
  },
  {
   "cell_type": "markdown",
   "id": "fbfe26ea",
   "metadata": {},
   "source": [
    "append, remove and insert doesn't work on tuple"
   ]
  },
  {
   "cell_type": "code",
   "execution_count": 13,
   "id": "ab91d892",
   "metadata": {},
   "outputs": [
    {
     "ename": "TypeError",
     "evalue": "'tuple' object does not support item assignment",
     "output_type": "error",
     "traceback": [
      "\u001b[1;31m---------------------------------------------------------------------------\u001b[0m",
      "\u001b[1;31mTypeError\u001b[0m                                 Traceback (most recent call last)",
      "\u001b[1;32mC:\\Users\\GOPIKU~1\\AppData\\Local\\Temp/ipykernel_17464/3932219283.py\u001b[0m in \u001b[0;36m<module>\u001b[1;34m\u001b[0m\n\u001b[0;32m      1\u001b[0m \u001b[0mmsg\u001b[0m \u001b[1;33m=\u001b[0m \u001b[1;33m(\u001b[0m\u001b[1;34m'Fall'\u001b[0m\u001b[1;33m,\u001b[0m \u001b[1;34m'In'\u001b[0m\u001b[1;33m,\u001b[0m \u001b[1;34m'Line'\u001b[0m\u001b[1;33m)\u001b[0m\u001b[1;33m\u001b[0m\u001b[1;33m\u001b[0m\u001b[0m\n\u001b[1;32m----> 2\u001b[1;33m \u001b[0mmsg\u001b[0m\u001b[1;33m[\u001b[0m\u001b[1;36m0\u001b[0m\u001b[1;33m]\u001b[0m \u001b[1;33m=\u001b[0m \u001b[1;34m'FALL'\u001b[0m\u001b[1;33m\u001b[0m\u001b[1;33m\u001b[0m\u001b[0m\n\u001b[0m\u001b[0;32m      3\u001b[0m \u001b[0mmsg\u001b[0m\u001b[1;33m[\u001b[0m\u001b[1;36m1\u001b[0m\u001b[1;33m:\u001b[0m\u001b[1;36m3\u001b[0m\u001b[1;33m]\u001b[0m \u001b[1;33m=\u001b[0m \u001b[1;33m(\u001b[0m\u001b[1;34m'Above'\u001b[0m\u001b[1;33m,\u001b[0m \u001b[1;34m'Mark'\u001b[0m\u001b[1;33m)\u001b[0m\u001b[1;33m\u001b[0m\u001b[1;33m\u001b[0m\u001b[0m\n\u001b[0;32m      4\u001b[0m \u001b[1;31m# tuples are immutable and can not be changed\u001b[0m\u001b[1;33m\u001b[0m\u001b[1;33m\u001b[0m\u001b[0m\n",
      "\u001b[1;31mTypeError\u001b[0m: 'tuple' object does not support item assignment"
     ]
    }
   ],
   "source": [
    "msg = ('Fall', 'In', 'Line')\n",
    "msg[0] = 'FALL'\n",
    "msg[1:3] = ('Above', 'Mark')\n",
    "# tuples are immutable and can not be changed"
   ]
  },
  {
   "cell_type": "code",
   "execution_count": 92,
   "id": "3eba4e25",
   "metadata": {},
   "outputs": [
    {
     "name": "stdout",
     "output_type": "stream",
     "text": [
      "([1, 2, 3, 4], [10, 40], 'Oynx')\n"
     ]
    }
   ],
   "source": [
    "s = ([1, 2, 3, 4], [10, 20], 'Oynx')\n",
    "s[1][1] = 40\n",
    "print(s)"
   ]
  },
  {
   "cell_type": "code",
   "execution_count": null,
   "id": "c651d34c",
   "metadata": {},
   "outputs": [],
   "source": [
    "p = s[1]\n",
    "print(s)\n",
    "p[1] = 100\n",
    "print(s)\n",
    "# here list inside tuple is changing"
   ]
  },
  {
   "cell_type": "code",
   "execution_count": 9,
   "id": "8fdddb3e",
   "metadata": {},
   "outputs": [
    {
     "name": "stdout",
     "output_type": "stream",
     "text": [
      "(1, 2, 3, 4, 5)\n",
      "(1, 2, 3, 1, 2, 3, 4, 5)\n",
      "('C', 'o', 'n', 'v', 'e', 'r', 's', 'i', 'o', 'n')\n",
      "('C', 'o', 'n', 'v', 'e', 'r', 's', 'i', 'o', 'n')\n",
      "('C', 'o', 'n', 'v', 'e', 'r', 's', 'i', 'o', 'n')\n",
      "True\n",
      "False\n",
      "True\n",
      "False\n"
     ]
    }
   ],
   "source": [
    "# all operation  of list are available in tuple\n",
    "\n",
    "# 1. Concatenation\n",
    "tpl1 = (1,2,3)\n",
    "tpl2 = tpl1 + (4,5)\n",
    "print(tpl2)\n",
    "\n",
    "# 2. Merging\n",
    "tpl3 = tpl1 + tpl2\n",
    "print(tpl3)\n",
    "\n",
    "# 3. Conversion\n",
    "str1 = \"Conversion\"\n",
    "tpl4 = tuple(str1)\n",
    "print(tpl4)\n",
    "\n",
    "# 4. Aliasing\n",
    "tpl5 = tpl4\n",
    "print(tpl5)\n",
    "\n",
    "# 5. Cloning\n",
    "tpl6 = ()\n",
    "tpl6 = tpl6 + tpl5\n",
    "print(tpl6)\n",
    "\n",
    "# 6. Searching\n",
    "print('i' in tpl6)\n",
    "\n",
    "# 7. Identity\n",
    "tpl7 = (0,)\n",
    "print(tpl6 is tpl7)\n",
    "\n",
    "#8. Comparison\n",
    "tpl8 = tuple('comparison')\n",
    "print(tpl8 > tpl6)\n",
    "\n",
    "# 9. Emptiness\n",
    "tpl9 = ()\n",
    "print(bool(tpl9))"
   ]
  },
  {
   "cell_type": "markdown",
   "id": "558f50ca",
   "metadata": {},
   "source": [
    "# Tuple varities"
   ]
  },
  {
   "cell_type": "code",
   "execution_count": null,
   "id": "e4fe99cd",
   "metadata": {},
   "outputs": [],
   "source": [
    "# Tuple may be embedded in another tuple\n",
    "x = (1, 2, 3, 4)\n",
    "y = (10, 20, x, 40)\n",
    "print(y)"
   ]
  },
  {
   "cell_type": "code",
   "execution_count": 19,
   "id": "304d4f69",
   "metadata": {},
   "outputs": [
    {
     "ename": "AttributeError",
     "evalue": "'tuple' object has no attribute 'pop'",
     "output_type": "error",
     "traceback": [
      "\u001b[1;31m---------------------------------------------------------------------------\u001b[0m",
      "\u001b[1;31mAttributeError\u001b[0m                            Traceback (most recent call last)",
      "\u001b[1;32mC:\\Users\\GOPIKU~1\\AppData\\Local\\Temp/ipykernel_8132/1828368882.py\u001b[0m in \u001b[0;36m<module>\u001b[1;34m\u001b[0m\n\u001b[0;32m      2\u001b[0m \u001b[0mx\u001b[0m \u001b[1;33m=\u001b[0m \u001b[1;33m(\u001b[0m\u001b[1;36m1\u001b[0m\u001b[1;33m,\u001b[0m \u001b[1;36m2\u001b[0m\u001b[1;33m,\u001b[0m \u001b[1;36m3\u001b[0m\u001b[1;33m,\u001b[0m \u001b[1;36m4\u001b[0m\u001b[1;33m)\u001b[0m\u001b[1;33m\u001b[0m\u001b[1;33m\u001b[0m\u001b[0m\n\u001b[0;32m      3\u001b[0m \u001b[0my\u001b[0m \u001b[1;33m=\u001b[0m \u001b[1;33m(\u001b[0m\u001b[1;36m10\u001b[0m\u001b[1;33m,\u001b[0m \u001b[1;36m20\u001b[0m\u001b[1;33m,\u001b[0m \u001b[1;36m30\u001b[0m\u001b[1;33m,\u001b[0m \u001b[1;33m*\u001b[0m\u001b[0mx\u001b[0m\u001b[1;33m,\u001b[0m \u001b[1;36m40\u001b[0m\u001b[1;33m)\u001b[0m\u001b[1;33m\u001b[0m\u001b[1;33m\u001b[0m\u001b[0m\n\u001b[1;32m----> 4\u001b[1;33m \u001b[0my\u001b[0m\u001b[1;33m.\u001b[0m\u001b[0mpop\u001b[0m\u001b[1;33m(\u001b[0m\u001b[1;33m)\u001b[0m\u001b[1;33m\u001b[0m\u001b[1;33m\u001b[0m\u001b[0m\n\u001b[0m\u001b[0;32m      5\u001b[0m \u001b[0mprint\u001b[0m\u001b[1;33m(\u001b[0m\u001b[0my\u001b[0m\u001b[1;33m)\u001b[0m\u001b[1;33m\u001b[0m\u001b[1;33m\u001b[0m\u001b[0m\n",
      "\u001b[1;31mAttributeError\u001b[0m: 'tuple' object has no attribute 'pop'"
     ]
    }
   ],
   "source": [
    "# it is possible to unpack a tuple with using the *operator.\n",
    "x = (1, 2, 3, 4)\n",
    "y = (10, 20, 30, *x, 40)\n",
    "\n",
    "print(y)"
   ]
  },
  {
   "cell_type": "code",
   "execution_count": 17,
   "id": "2a576576",
   "metadata": {},
   "outputs": [
    {
     "name": "stdout",
     "output_type": "stream",
     "text": [
      "(['Guru', 'prakash', 5], ['Anil', 'Kumar', 14])\n"
     ]
    }
   ],
   "source": [
    "# we can make list of tuple or tuple of list\n",
    "lst = [('Guru', 'prakash', 4), ('Anil', 'Kumar', 14)]\n",
    "tpl = (['Guru', 'prakash', 4], ['Anil', 'Kumar', 14])\n",
    "tpl[0][2] = 5\n",
    "print(tpl)"
   ]
  },
  {
   "cell_type": "code",
   "execution_count": 18,
   "id": "8ba137b1",
   "metadata": {},
   "outputs": [
    {
     "name": "stdout",
     "output_type": "stream",
     "text": [
      "[('Priyanka', 25, 4555.0), ('Shailesh', 24, 3455.5)]\n",
      "[['Priyanka', 25, 2555.0], ['Shailesh', 24, 3455.5]]\n",
      "[('Shailesh', 24, 3455.5), ('Priyanka', 25, 4555.0)]\n",
      "[['Priyanka', 25, 2555.0], ['Shailesh', 24, 3455.5]]\n"
     ]
    }
   ],
   "source": [
    "# If we want to short a list of tuples or tuples of list....\n",
    "\n",
    "import operator\n",
    "lst = [('Shailesh', 24, 3455.50), ('Priyanka', 25, 4555.00)]\n",
    "tpl = (['Shailesh', 24, 3455.50], ['Priyanka', 25, 2555.00])\n",
    "print(sorted(lst))\n",
    "print(sorted(tpl))\n",
    "print(sorted(lst, key = operator.itemgetter(1))) # here item getter used to get sorted by specific element in lst/tpl \n",
    "print(sorted(tpl, key = operator.itemgetter(2)))"
   ]
  },
  {
   "cell_type": "code",
   "execution_count": 13,
   "id": "68522f3b",
   "metadata": {},
   "outputs": [
    {
     "name": "stdout",
     "output_type": "stream",
     "text": [
      "(10, 20, 30, 40, 50, 60, 70, 80, 190, 100)\n",
      "10 20 30 40 50 60 70 80 190 100\n",
      "10 100 190\n",
      "10 100 [20, 30, 40, 50, 60, 70, 80, 190]\n"
     ]
    }
   ],
   "source": [
    "tpl = (10, 20, 30, 40, 50, 60, 70, 80, 190, 100)\n",
    "a, b, c, d, e, f, g, h, i, j = tpl\n",
    "print(tpl)\n",
    "print(a, b, c, d, e, f, g, h, i, j)\n",
    "X, _, _, _, _, _, _, _, _, Y = tpl\n",
    "print(X, Y, _)\n",
    "i, *_, j = tpl\n",
    "print(i,j, _)\n",
    "# disposaable variable _ is usually used when you do not wish to use the variable further, and is being used only as a place\n",
    "#holder"
   ]
  },
  {
   "cell_type": "code",
   "execution_count": 14,
   "id": "1f797d92",
   "metadata": {},
   "outputs": [
    {
     "name": "stdout",
     "output_type": "stream",
     "text": [
      "[20, 30, 40, 50, 60, 70, 80, 90]\n"
     ]
    }
   ],
   "source": [
    "tpl = (10, 20, 30, 40, 50, 60, 70, 80, 90, 100)\n",
    "i, *_,j = tpl\n",
    "print(_)\n",
    "# We can done this if we don't want the range of terms that time"
   ]
  },
  {
   "cell_type": "markdown",
   "id": "07a34b83",
   "metadata": {},
   "source": [
    "# Isinstance()"
   ]
  },
  {
   "cell_type": "code",
   "execution_count": null,
   "id": "518ec970",
   "metadata": {},
   "outputs": [],
   "source": [
    "# use to check whether an element is instance of a desired class"
   ]
  },
  {
   "cell_type": "code",
   "execution_count": 17,
   "id": "b78fd3ed",
   "metadata": {},
   "outputs": [
    {
     "name": "stdout",
     "output_type": "stream",
     "text": [
      "['Subhash', 'Nisha', 'Sudha']\n"
     ]
    }
   ],
   "source": [
    "lst = [('A101', 'Subhash',23), ('A104', 'Nisha', 25), ('A111', 'Sudha', 24)]\n",
    "nlst = []\n",
    "for ele in lst:\n",
    "    nlst = nlst + [ele[1]]\n",
    "print(nlst)"
   ]
  },
  {
   "cell_type": "code",
   "execution_count": null,
   "id": "6afee774",
   "metadata": {},
   "outputs": [],
   "source": [
    "#Given the following tuple\n",
    "#('f', 'l','a','b','b','e','r','g','a','s','t','e','d')\n",
    "#write a python program to carry out the program:\n",
    "    #-Add an ! at the end the tuple\n",
    "    #-Convert a tuple to a string\n",
    "    #-Extract('b','b') from the tuple\n",
    "    #-find out number of occurrences of 'e' in the tuple\n",
    "    #-Check whether 'r' exist in the tuple\n",
    "    #-Convert the tuple to a list\n",
    "    #-Delete character 'b','b', 'e'\n",
    "tpl = ('f', 'l','a','b','b','e','r','g','a','s','t','e','d')\n",
    "tpl = tpl + ('!',)\n",
    "print(tpl)\n",
    "s = ''.join(tpl)\n",
    "print(s)\n",
    "t = tpl[3:5]\n",
    "print(t)\n",
    "print(tpl.count('e'))\n",
    "print('r' in tpl)\n",
    "l = list(tpl)\n",
    "print(l)\n",
    "tpl = tpl[:3] + tpl[6:]\n",
    "print(tpl)"
   ]
  },
  {
   "cell_type": "markdown",
   "id": "8f4bd43e",
   "metadata": {},
   "source": [
    "# Sets"
   ]
  },
  {
   "cell_type": "markdown",
   "id": "79741e74",
   "metadata": {},
   "source": [
    "### Set is an Unordered collection"
   ]
  },
  {
   "cell_type": "code",
   "execution_count": 18,
   "id": "9646e183",
   "metadata": {},
   "outputs": [
    {
     "name": "stdout",
     "output_type": "stream",
     "text": [
      "{10}\n"
     ]
    }
   ],
   "source": [
    "# Sets are like a list but with an excepion that they do not contains duplicate entries.\n",
    "d = {10, 10, 10, 10, 10}\n",
    "print(d)"
   ]
  },
  {
   "cell_type": "code",
   "execution_count": 21,
   "id": "e0a261e6",
   "metadata": {},
   "outputs": [
    {
     "name": "stdout",
     "output_type": "stream",
     "text": [
      "{2, 5, 23, 11, 14}\n",
      "{2, 5, 23, 11, 14}\n",
      "{2, 5, 23, 11, 14}\n"
     ]
    }
   ],
   "source": [
    "# while storing an element in a set, it's hash value is computed using a hashing technique to determine where it should be\n",
    "#  stored in the list.\n",
    "s = {23, 11, 14, 2, 5}\n",
    "t = {11, 5, 2, 23, 14}\n",
    "u = {11, 2, 23, 14, 5}\n",
    "print(s, t, u, sep ='\\n')"
   ]
  },
  {
   "cell_type": "code",
   "execution_count": 24,
   "id": "f6ea0be0",
   "metadata": {},
   "outputs": [],
   "source": [
    "# it is possible to create a set of tuple and string, but not a set of lists.\n",
    "# because list in mutable\n",
    "s1 = {'Morning', 'Evening'}\n",
    "s2 = {(12, 23), (15, 25), (17, 34)}\n",
    "# s2 = {[12, 23], [15, 25], [17, 34]}   ---> error"
   ]
  },
  {
   "cell_type": "code",
   "execution_count": 25,
   "id": "a5ecf7e7",
   "metadata": {},
   "outputs": [],
   "source": [
    "# cannot be accessed using Indices and cannot get sliced"
   ]
  },
  {
   "cell_type": "code",
   "execution_count": null,
   "id": "d17b15ab",
   "metadata": {},
   "outputs": [],
   "source": [
    "# while loop does not work on sets and enumerate is done on accessing order, not insertion order"
   ]
  },
  {
   "cell_type": "markdown",
   "id": "51da065e",
   "metadata": {},
   "source": [
    "## Basic set operations"
   ]
  },
  {
   "cell_type": "code",
   "execution_count": 28,
   "id": "b2f0c073",
   "metadata": {},
   "outputs": [],
   "source": [
    "# frozenset\n",
    "s1 = {'gate', 'fate','late'}\n",
    "s2 = frozenset({'hate', 'rate', 'pain'})\n",
    "s1.add('let')\n",
    "# s2.add('gate')"
   ]
  },
  {
   "cell_type": "code",
   "execution_count": 26,
   "id": "5bccfd0a",
   "metadata": {},
   "outputs": [],
   "source": [
    "# concatenation (unsupported)\n",
    "# s = {1, 2, 3, 4}\n",
    "# s = s + {5, 6, 7}"
   ]
  },
  {
   "cell_type": "code",
   "execution_count": 27,
   "id": "3153964d",
   "metadata": {},
   "outputs": [],
   "source": [
    "# merging (unsupported)\n",
    "# s = {1, 2, 3, 4}\n",
    "# t = {4, 5,6, 7}\n",
    "# z = s+t"
   ]
  },
  {
   "cell_type": "code",
   "execution_count": 20,
   "id": "6a9954e4",
   "metadata": {},
   "outputs": [
    {
     "name": "stdout",
     "output_type": "stream",
     "text": [
      "(1, 2, 3, 4)\n",
      "{'e', 'H', 'l', 'o'}\n"
     ]
    }
   ],
   "source": [
    "# conversion\n",
    "lst = [1, 2, 3, 4]\n",
    "st = 'Helo'\n",
    "s   = set(st)\n",
    "t = tuple(lst)\n",
    "print(t)\n",
    "print(s)"
   ]
  },
  {
   "cell_type": "code",
   "execution_count": null,
   "id": "b4052a64",
   "metadata": {},
   "outputs": [],
   "source": [
    "# Aliasing\n",
    "a = {1, 2, 3, 4}\n",
    "b = a\n",
    "print(b)\n",
    "print(a is b)"
   ]
  },
  {
   "cell_type": "code",
   "execution_count": null,
   "id": "cb5a6677",
   "metadata": {},
   "outputs": [],
   "source": [
    "# cloning\n",
    "c = {1, 2, 3, 4}\n",
    "d = set()\n",
    "d = c.copy() # because concatination won't work\n",
    "print(d)"
   ]
  },
  {
   "cell_type": "code",
   "execution_count": 21,
   "id": "cfb4f34e",
   "metadata": {},
   "outputs": [
    {
     "ename": "AttributeError",
     "evalue": "'tuple' object has no attribute 'sort'",
     "output_type": "error",
     "traceback": [
      "\u001b[1;31m---------------------------------------------------------------------------\u001b[0m",
      "\u001b[1;31mAttributeError\u001b[0m                            Traceback (most recent call last)",
      "\u001b[1;32mC:\\Users\\GOPIKU~1\\AppData\\Local\\Temp/ipykernel_8132/148581596.py\u001b[0m in \u001b[0;36m<module>\u001b[1;34m\u001b[0m\n\u001b[0;32m      1\u001b[0m \u001b[1;31m# Searching, Identity, Comparison, Emptiness also works\u001b[0m\u001b[1;33m\u001b[0m\u001b[1;33m\u001b[0m\u001b[0m\n\u001b[0;32m      2\u001b[0m \u001b[0mtpl\u001b[0m\u001b[1;33m=\u001b[0m\u001b[1;33m(\u001b[0m\u001b[1;36m2\u001b[0m\u001b[1;33m,\u001b[0m\u001b[1;36m1\u001b[0m\u001b[1;33m)\u001b[0m\u001b[1;33m\u001b[0m\u001b[1;33m\u001b[0m\u001b[0m\n\u001b[1;32m----> 3\u001b[1;33m \u001b[0mtpl\u001b[0m\u001b[1;33m.\u001b[0m\u001b[0msort\u001b[0m\u001b[1;33m(\u001b[0m\u001b[1;33m)\u001b[0m\u001b[1;33m\u001b[0m\u001b[1;33m\u001b[0m\u001b[0m\n\u001b[0m",
      "\u001b[1;31mAttributeError\u001b[0m: 'tuple' object has no attribute 'sort'"
     ]
    }
   ],
   "source": [
    "# Searching, Identity, Comparison, Emptiness also works"
   ]
  },
  {
   "cell_type": "markdown",
   "id": "321a44ee",
   "metadata": {},
   "source": [
    "## Built-in Functions"
   ]
  },
  {
   "cell_type": "code",
   "execution_count": 24,
   "id": "aee1d737",
   "metadata": {},
   "outputs": [
    {
     "name": "stdout",
     "output_type": "stream",
     "text": [
      "[0, 1, 2, 3, 4, 6, 8, 9]\n",
      "True\n"
     ]
    }
   ],
   "source": [
    "# len()\n",
    "# max()\n",
    "# min()\n",
    "\n",
    "# sorted()\n",
    "a = {9, 3, 4,2, 6, 8, 1, 0}\n",
    "b = sorted(a)\n",
    "print(b)\n",
    "print(isinstance(b, list))\n",
    "# sum(s)\n",
    "# any()\n",
    "# all()\n",
    "\n",
    "# reversed (unsupported)\n"
   ]
  },
  {
   "cell_type": "markdown",
   "id": "77f6f511",
   "metadata": {},
   "source": [
    "# Set methods"
   ]
  },
  {
   "cell_type": "code",
   "execution_count": null,
   "id": "2ab242a8",
   "metadata": {},
   "outputs": [],
   "source": [
    "s = {12, 15, 13, 23, 33, 16, 17}\n",
    "t = {'A', 'B', 'C'}\n",
    "u = set()\n",
    "s.add('Hello')\n",
    "print(s)\n",
    "s.update(t) # add elements of t to s\n",
    "print(s)\n",
    "u = s.copy()\n",
    "print(u)\n",
    "s.remove(15)\n",
    "print(s)\n",
    "# s.remove(101)   # raise error\n",
    "s.discard(12)\n",
    "print(s)\n",
    "s.discard(101) # would not raise an error\n",
    "s.clear()\n",
    "print(s)"
   ]
  },
  {
   "cell_type": "markdown",
   "id": "96deb01d",
   "metadata": {},
   "source": [
    "## Set relationship"
   ]
  },
  {
   "cell_type": "code",
   "execution_count": 31,
   "id": "3c0a9715",
   "metadata": {},
   "outputs": [
    {
     "name": "stdout",
     "output_type": "stream",
     "text": [
      "True\n",
      "False\n",
      "False\n",
      "{13, 22, 15}\n",
      "{12, 13, 15, 16, 17, 22, 23}\n"
     ]
    }
   ],
   "source": [
    "s = {12, 15, 13, 23, 22, 16, 17}\n",
    "t = {13, 15, 22}\n",
    "print(s.issuperset(t))\n",
    "print(s.issubset(t))\n",
    "print(s.isdisjoint(t))\n",
    "print(s.intersection(t))\n",
    "print(s.union(t))\n"
   ]
  },
  {
   "cell_type": "markdown",
   "id": "a5bb9448",
   "metadata": {},
   "source": [
    "## Mathematical set operations"
   ]
  },
  {
   "cell_type": "code",
   "execution_count": null,
   "id": "57133b3e",
   "metadata": {},
   "outputs": [],
   "source": [
    "engineers = {'Vijay', 'Sanjay', 'Ajay', 'Sujay', 'Dinesh'}\n",
    "managers = {'Aditya', 'Sanjay'}\n",
    "# Union - all people in both categories\n",
    "print(engineers| managers)\n",
    "# Intersection - who are engineers and manager\n",
    "print(engineers & managers)\n",
    "# difference - engineers who are not manager\n",
    "print( engineers - managers)\n",
    "# difference - managers who are not engineers\n",
    "print(managers - engineers)\n",
    "# symmetric difference - managers who are not engineers and engineers who are not managers\n",
    "print(managers^engineers)"
   ]
  },
  {
   "cell_type": "code",
   "execution_count": null,
   "id": "9065e5a3",
   "metadata": {},
   "outputs": [],
   "source": [
    "a = {1, 2, 3, 4,5}\n",
    "b = {2, 4, 5}\n",
    "print(a>= b) # a is superset of b\n",
    "print(a<= b) # a is subset of b"
   ]
  },
  {
   "cell_type": "markdown",
   "id": "7b6e30bf",
   "metadata": {},
   "source": [
    "## Updating set operations"
   ]
  },
  {
   "cell_type": "code",
   "execution_count": null,
   "id": "ed680fd8",
   "metadata": {},
   "outputs": [],
   "source": [
    "# a|= b   update a with the result of a|b\n",
    "# a&= b   update a with the result of a&b\n",
    "# a-= b   update a with the result of a-b\n",
    "# a^= b   update a with the result of a^b"
   ]
  },
  {
   "cell_type": "markdown",
   "id": "c898429b",
   "metadata": {},
   "source": [
    "## set varieties"
   ]
  },
  {
   "cell_type": "code",
   "execution_count": null,
   "id": "ac091e9f",
   "metadata": {},
   "outputs": [],
   "source": [
    "# s = {'gate', 'fate', 'late', {1, 2, 3, 4}} ---> gives error"
   ]
  },
  {
   "cell_type": "code",
   "execution_count": 32,
   "id": "fb78a04b",
   "metadata": {},
   "outputs": [
    {
     "name": "stdout",
     "output_type": "stream",
     "text": [
      "1 2 3 4\n"
     ]
    }
   ],
   "source": [
    "X = {1, 2, 3, 4}\n",
    "print(*X)"
   ]
  },
  {
   "cell_type": "markdown",
   "id": "b8f9d90e",
   "metadata": {},
   "source": [
    "# Dictonaries"
   ]
  },
  {
   "cell_type": "code",
   "execution_count": null,
   "id": "652dc348",
   "metadata": {},
   "outputs": [],
   "source": [
    "d1 = {}    # empty dictonary\n",
    "# Different keys may have same values\n",
    "d = {10:'A', 20: 'A', 30:'B'}\n",
    "# key must be unique if keys are same, but values are different, latest key value pair gets stored\n",
    "# and if same key value is present multiple times then only one will be stored.\n",
    "d = {10:'A', 20: 'Z', 30:'C', 10:'D'}\n",
    "print(d)"
   ]
  },
  {
   "cell_type": "markdown",
   "id": "e340ab34",
   "metadata": {},
   "source": [
    "## Accessing different elements"
   ]
  },
  {
   "cell_type": "code",
   "execution_count": null,
   "id": "941f5078",
   "metadata": {},
   "outputs": [],
   "source": [
    "d = {'A101': 'Amol', 'A102': 'Anil', 'B103': 'Ravi'}\n",
    "print(d)\n",
    "print(d['A102'])\n",
    "# dictonaries cannot be sliced using []"
   ]
  },
  {
   "cell_type": "markdown",
   "id": "0451055d",
   "metadata": {},
   "source": [
    "## Loooping in Dictonaries"
   ]
  },
  {
   "cell_type": "code",
   "execution_count": null,
   "id": "f8de7970",
   "metadata": {},
   "outputs": [],
   "source": [
    "courses = {'DAA': 'CS', 'AOA': 'ME', 'SVY':'CE'}\n",
    "# iterate over key value pairs\n",
    "for k, v in courses.items():\n",
    "    print(k,v)\n",
    "print()\n",
    "# iterate over keys:\n",
    "for k in courses.keys():\n",
    "    print(k)\n",
    "print()\n",
    "# iterate over keys- shorter way\n",
    "for k in courses:\n",
    "    print(k)\n",
    "print()\n",
    "# iterate over values:\n",
    "for v in courses.values():\n",
    "    print(v)"
   ]
  },
  {
   "cell_type": "code",
   "execution_count": null,
   "id": "1e101fec",
   "metadata": {},
   "outputs": [],
   "source": [
    "courses = {'DAA': 'CS', 'AOA': 'ME', 'SVY':'CE'}\n",
    "for i, (k,v) in enumerate(courses.items()):\n",
    "    print(i, k, v)\n",
    "# () around k,v is necessary"
   ]
  },
  {
   "cell_type": "markdown",
   "id": "2bd5df52",
   "metadata": {},
   "source": [
    "## Basic Dictonaries operations"
   ]
  },
  {
   "cell_type": "code",
   "execution_count": 26,
   "id": "b7212760",
   "metadata": {
    "scrolled": true
   },
   "outputs": [
    {
     "name": "stdout",
     "output_type": "stream",
     "text": [
      "6\n",
      "{'CS101': 'CPP', 'CS102': 'DS', 'CS201': 'OOP', 'CS226': 'DAA', 'CS601': 'Crypt', 'CS442': 'Web', 'CS444': 'Web Services'}\n",
      "{'CS101': 'CPP', 'CS201': 'OOP using Java', 'CS226': 'DAA', 'CS601': 'Crypt', 'CS442': 'Web', 'CS444': 'Web Services'}\n",
      "{}\n"
     ]
    }
   ],
   "source": [
    "courses = {'CS101':'CPP','CS102':'DS', 'CS201':'OOP', 'CS226': 'DAA', 'CS601':'Crypt', 'CS442':'Web'}\n",
    "# add, modify, delete\n",
    "courses['CS444'] = 'Web Services'\n",
    "print(courses)\n",
    "courses['CS201'] = 'OOP using Java'\n",
    "del(courses['CS102'])\n",
    "print(courses)\n",
    "courses.clear()\n",
    "print(courses)\n",
    "# del(courses)  delete course object"
   ]
  },
  {
   "cell_type": "code",
   "execution_count": 36,
   "id": "06f0cbd2",
   "metadata": {},
   "outputs": [],
   "source": [
    "# Concatination (unsupported)\n",
    "# d1 = {'a': 1, 'b': 2, 'c': 3}\n",
    "# d1 = d1 + {'d': 4, 'e': 5, 'f': 6}\n",
    "# print(d1)"
   ]
  },
  {
   "cell_type": "code",
   "execution_count": null,
   "id": "0c48f9e4",
   "metadata": {},
   "outputs": [],
   "source": [
    "# Merging (unsupported)\n",
    "# d1 = {'a': 1, 'b': 2, 'c': 3}\n",
    "# d2 = {'d': 4, 'e': 5, 'f': 6}\n",
    "# d3 = d1 + d2\n",
    "# print(d3)"
   ]
  },
  {
   "cell_type": "code",
   "execution_count": null,
   "id": "d8e00c84",
   "metadata": {},
   "outputs": [],
   "source": []
  },
  {
   "cell_type": "code",
   "execution_count": null,
   "id": "a7ddf4ae",
   "metadata": {},
   "outputs": [],
   "source": [
    "# conversion\n",
    "l = (1, 2, 3,4)\n",
    "d = dict.fromkeys(l, 50)\n",
    "print(d)"
   ]
  },
  {
   "cell_type": "code",
   "execution_count": 1,
   "id": "880d4203",
   "metadata": {},
   "outputs": [
    {
     "name": "stdout",
     "output_type": "stream",
     "text": [
      "Sun {2, 3, 4, 5}\n",
      "Tue {2, 3, 4, 5}\n",
      "Mon {2, 3, 4, 5}\n",
      "Wed {2, 3, 4, 5}\n"
     ]
    }
   ],
   "source": [
    "days = {'Sun', 'Mon', 'Tue', 'Wed'}\n",
    "hrs = {2,3,4,5}\n",
    "d = dict.fromkeys(days,hrs)\n",
    "for k, v in d.items():\n",
    "    print(k, v)\n",
    "# in fromkeys() method value will be same for all keys of dictonary"
   ]
  },
  {
   "cell_type": "code",
   "execution_count": 38,
   "id": "25dc2775",
   "metadata": {},
   "outputs": [
    {
     "name": "stdout",
     "output_type": "stream",
     "text": [
      "Sun 2\n",
      "Tue 3\n",
      "Wed 4\n",
      "Mon 5\n"
     ]
    }
   ],
   "source": [
    "days = {'Sun', 'Mon', 'Tue', 'Wed'}\n",
    "hrs = {2,3,4,5}\n",
    "d={}\n",
    "for(k,v) in zip(days, hrs):\n",
    "    d[k] = v\n",
    "for k, v in d.items():\n",
    "    print(k, v)"
   ]
  },
  {
   "cell_type": "code",
   "execution_count": 44,
   "id": "1c6db593",
   "metadata": {
    "scrolled": true
   },
   "outputs": [
    {
     "name": "stdout",
     "output_type": "stream",
     "text": [
      "{'Sun': 2, 'Tue': 3, 'Wed': 4, 'Mon': 5}\n"
     ]
    }
   ],
   "source": [
    "days = {'Sun', 'Mon', 'Tue', 'Wed'}\n",
    "hrs = {2,3,4,5}\n",
    "d = dict(zip(days, hrs))\n",
    "print(d)\n",
    "# zip function used to iterate in 2 or more lists simultaneously at a same time"
   ]
  },
  {
   "cell_type": "code",
   "execution_count": 40,
   "id": "96bd44df",
   "metadata": {},
   "outputs": [
    {
     "name": "stdout",
     "output_type": "stream",
     "text": [
      "{'Ajay': 23, 'Bijay': 22, 'Sunjay': 25}\n"
     ]
    }
   ],
   "source": [
    "# aliasing\n",
    "students = {'Ajay': 23, 'Bijay':22, 'Sunjay': 25}\n",
    "mentees = students\n",
    "st = students['Ajay']\n",
    "print(mentees)"
   ]
  },
  {
   "cell_type": "code",
   "execution_count": null,
   "id": "f9a3f5d7",
   "metadata": {},
   "outputs": [],
   "source": [
    "# cloning\n",
    "students = {'Ajay': 23, 'Bijay':22, 'Sunjay': 25}\n",
    "mentees = students.copy()\n",
    "print(mentees)"
   ]
  },
  {
   "cell_type": "code",
   "execution_count": null,
   "id": "dbdffb21",
   "metadata": {},
   "outputs": [],
   "source": [
    "# searching\n",
    "students = {'Ajay': 23, 'Bijay':22, 'Sunjay': 25}\n",
    "print('Raj'in students)"
   ]
  },
  {
   "cell_type": "code",
   "execution_count": 46,
   "id": "4e50d70d",
   "metadata": {},
   "outputs": [
    {
     "name": "stdout",
     "output_type": "stream",
     "text": [
      "False\n",
      "False\n",
      "True\n"
     ]
    }
   ],
   "source": [
    "# identity\n",
    "d1 = {'Guru': 4,'Gaurav': 64, 'Gopi': 75, 'Aditya': 85 }\n",
    "d2 = {'Guru': 4,'Gaurav': 64, 'Gopi': 75, 'Aditya': 85 }\n",
    "d3 = d1\n",
    "print(d1 is d2)\n",
    "print(d3 is d2)\n",
    "print(d1 is d3)"
   ]
  },
  {
   "cell_type": "code",
   "execution_count": null,
   "id": "88b8a100",
   "metadata": {},
   "outputs": [],
   "source": [
    "# comparison does not work on dictonaries"
   ]
  },
  {
   "cell_type": "markdown",
   "id": "39ff7441",
   "metadata": {},
   "source": [
    "## built in dictonary function "
   ]
  },
  {
   "cell_type": "code",
   "execution_count": 47,
   "id": "b98779ef",
   "metadata": {},
   "outputs": [
    {
     "name": "stdout",
     "output_type": "stream",
     "text": [
      "{'CS101': 'CPP', 'CS201': 'OOP', 'CS102': 'ZS'}\n",
      "{'CS101': 'CPP', 'CS201': 'OOP', 'CS102': 'ZS'}\n",
      "3\n",
      "CS201\n",
      "CS101\n",
      "['CS101', 'CS102', 'CS201']\n",
      "7\n",
      "True\n",
      "False\n",
      "['CS201', 'CS102', 'CS101']\n"
     ]
    }
   ],
   "source": [
    "import operator\n",
    "d = {'CS101': 'CPP', 'CS102': 'ZS', 'CS201': 'OOP'}\n",
    "\n",
    "#sort dictnary by values- method 1\n",
    "d1 = dict(sorted(d.items(), key = operator.itemgetter(1)))\n",
    "print(d1)\n",
    "\n",
    "# method 2\n",
    "d2 = dict(sorted(d.items(), key = lambda item : item[1]))\n",
    "print(d2)\n",
    "\n",
    "print(len(d))\n",
    "print(max(d))\n",
    "print(min(d))\n",
    "print(sorted(d))\n",
    "d1 = {0: 'g', 2: 'a', 5: 'y'}\n",
    "print(sum(d1))\n",
    "print(any(d))\n",
    "print(all(d1))\n",
    "print(list(reversed(d)))"
   ]
  },
  {
   "cell_type": "code",
   "execution_count": 61,
   "id": "fa9c4f2e",
   "metadata": {},
   "outputs": [
    {
     "name": "stdout",
     "output_type": "stream",
     "text": [
      "0 ('CS201', 'OOP')\n",
      "1 ('CS102', 'DS')\n",
      "2 ('CS101', 'CPP')\n"
     ]
    }
   ],
   "source": [
    "courses = {'CS101': 'CPP', 'CS102': 'DS', 'CS201': 'OOP'}\n",
    "for k, v in enumerate(reversed(courses.items())):\n",
    "    print(k, v)"
   ]
  },
  {
   "cell_type": "markdown",
   "id": "74409022",
   "metadata": {},
   "source": [
    "## dictonaries methods "
   ]
  },
  {
   "cell_type": "code",
   "execution_count": 48,
   "id": "9f7562be",
   "metadata": {},
   "outputs": [
    {
     "name": "stdout",
     "output_type": "stream",
     "text": [
      "DS\n",
      "{'CS101': 'CPP', 'CS102': 'DS', 'CS201': 'OOP'}\n",
      "Absent\n",
      "{'CS101': 'CPP', 'CS102': 'DS', 'CS201': 'OOP'}\n",
      "{'CS101': 'CPP', 'CS102': 'DS', 'CS201': 'OOP', 'ME126': 'HPE', 'ME102': 'TOM', 'ME234': 'AEM'}\n",
      "('ME234', 'AEM')\n",
      "DS\n",
      "{'CS101': 'CPP', 'CS201': 'OOP', 'ME126': 'HPE', 'ME102': 'TOM'}\n"
     ]
    }
   ],
   "source": [
    "c = {'CS101': 'CPP', 'CS102': 'DS', 'CS201': 'OOP'}\n",
    "d = {'ME126': 'HPE', 'ME102': 'TOM', 'ME234': 'AEM'}\n",
    "print(c.get('CS102', 'Absent'))\n",
    "print(c)\n",
    "print(c.get('EE102', 'Absent'))\n",
    "print(c)\n",
    "# print(c['EE102'])   raise error\n",
    "c.update(d)\n",
    "print(c)\n",
    "print(c.popitem()) # removes and return item in LIFO order\n",
    "print(c.pop('CS102'))\n",
    "print(c)\n",
    "c.clear()"
   ]
  },
  {
   "cell_type": "markdown",
   "id": "9ee7b0b1",
   "metadata": {},
   "source": [
    "## Dictonaries varities"
   ]
  },
  {
   "cell_type": "code",
   "execution_count": 76,
   "id": "6b284574",
   "metadata": {},
   "outputs": [
    {
     "name": "stdout",
     "output_type": "stream",
     "text": [
      "{'Tiger': 141, 'Lion': 152, 'Leopard': 110, 'Eagle': 38, 'Crow': 3, 'Parrot': 2}\n",
      "{12: 25, 13: 25, 14: 25, 15: 25, 16: 25}\n"
     ]
    }
   ],
   "source": [
    "# key in a dictonaries must be unique and immutable\n",
    "d = {(1, 5): 'ME126', (3,2): 'ME102', (5,4): 'ME234'}\n",
    "# dictonaries can be nested\n",
    "contacts = {\n",
    "    'Anil':{'DOB':'17/11/98', 'Favourite': 'Igloo'},\n",
    "    'Anmol':{'DOB':'14/10/99', 'Favourite': 'Tundra'},\n",
    "    'Ravi':{'DOB':'19/11/97', 'Favourite': 'Artic'}\n",
    "}\n",
    "\n",
    "# two dictonaries can be merged to create third dictonary by unpacking the two dictonaries using **\n",
    "animals = {'Tiger': 141, 'Lion':152, 'Leopard': 110}\n",
    "birds = {'Eagle': 38, 'Crow': 3, 'Parrot':2}\n",
    "combined = {**animals, **birds}\n",
    "print(combined)\n",
    "\n",
    "# a dictonaries containing different keys but same values can be created by fromkeys\n",
    "lst = [12, 13, 14, 15, 16]\n",
    "d = dict.fromkeys(lst, 25)\n",
    "print(d)"
   ]
  },
  {
   "cell_type": "code",
   "execution_count": 5,
   "id": "90b7d63d",
   "metadata": {},
   "outputs": [
    {
     "name": "stdout",
     "output_type": "stream",
     "text": [
      "Original dictonary:  {'Oil': 230, 'Clip': 150, 'Stud': 175, 'Nuts': 35}\n",
      "Asc order by key :  [('Clip', 150), ('Nuts', 35), ('Oil', 230), ('Stud', 175)]\n",
      "Des. order by key:  [('Stud', 175), ('Oil', 230), ('Nuts', 35), ('Clip', 150)]\n",
      "Asc order by value:  [('Nuts', 35), ('Clip', 150), ('Stud', 175), ('Oil', 230)]\n",
      "Des order by value:  [('Oil', 230), ('Stud', 175), ('Clip', 150), ('Nuts', 35)]\n"
     ]
    }
   ],
   "source": [
    "#eg  Write a program to sort a dictonary in ascending/ descending order by key and ascending/descending order by value\n",
    "import operator\n",
    "d = {'Oil': 230, 'Clip': 150, 'Stud': 175, 'Nuts': 35}\n",
    "print('Original dictonary: ', d)\n",
    "# sort by key\n",
    "d1 = sorted(d.items())\n",
    "print('Asc order by key : ', d1)\n",
    "d2 = sorted(d.items(), reverse = True)\n",
    "print('Des. order by key: ', d2)\n",
    "\n",
    "# sorting by value\n",
    "d1 = sorted(d.items(), key = operator.itemgetter(1))\n",
    "print('Asc order by value: ', d1)\n",
    "d2 = sorted(d.items(), key = operator.itemgetter(1), reverse = True)\n",
    "print('Des order by value: ', d2)\n"
   ]
  },
  {
   "cell_type": "code",
   "execution_count": 23,
   "id": "9715425c",
   "metadata": {},
   "outputs": [
    {
     "name": "stdout",
     "output_type": "stream",
     "text": [
      "{'Mango': 30, 'Guava': 20, 'Apple': 70, 'Pineapple': 50, 'Kiwi': 90, 'banana': 35}\n",
      "{'Mango': 30, 'Guava': 20, 'Apple': 70, 'Pineapple': 50, 'Kiwi': 90, 'banana': 35}\n",
      "['Mango', 'Guava', 'Apple', 'Pineapple', 'Kiwi', 'banana']\n",
      "['banana', 'Pineapple', 'Kiwi', 'Guava', 'Mango', 'Apple']\n"
     ]
    }
   ],
   "source": [
    "# eg\n",
    "d1 = {'Mango': 30, 'Guava': 20}\n",
    "d2 = {'Apple': 70, 'Pineapple': 50}\n",
    "d3 = {'Kiwi': 90, 'banana': 35}\n",
    "d4 = {}\n",
    "for d in (d1, d2, d3):\n",
    "    d4.update(d)\n",
    "print(d4)\n",
    "\n",
    "# another way\n",
    "d5 = {**d1, **d2, **d3}\n",
    "print(d5)\n",
    "# another way\n",
    "d6 = list({**d1, **d2, **d3})\n",
    "print(d6)\n",
    "d7 = list({*d1, *d2, *d3})\n",
    "print(d7)"
   ]
  },
  {
   "cell_type": "code",
   "execution_count": 1,
   "id": "19e08cc2",
   "metadata": {},
   "outputs": [
    {
     "name": "stdout",
     "output_type": "stream",
     "text": [
      "Enter roll number: 554\n",
      "Congratulations Ajay!\n",
      "Enter roll number: 530\n",
      "Congratulations Student!\n",
      "{554: 'Ajay', 350: 'Ramesh', 395: 'Rakesh'}\n"
     ]
    }
   ],
   "source": [
    "# eg\n",
    "students = {554: 'Ajay', 350:'Ramesh', 395: 'Rakesh'}\n",
    "rollno = int(input('Enter roll number: '))\n",
    "name = students.get(rollno, 'Student')\n",
    "print(f'Congratulations {name}!')\n",
    "rollno = int(input('Enter roll number: '))\n",
    "name = students.get(rollno, 'Student')\n",
    "print(f'Congratulations {name}!')\n",
    "print(students)"
   ]
  },
  {
   "cell_type": "code",
   "execution_count": 50,
   "id": "f2ca8f52",
   "metadata": {},
   "outputs": [
    {
     "name": "stdout",
     "output_type": "stream",
     "text": [
      "Enter a number: 12\n",
      "Enter 1 if you want to continue else enter 0: 0\n",
      "12 is entered 1 times\n",
      "\n"
     ]
    }
   ],
   "source": [
    "count = {}\n",
    "flag =1\n",
    "while(flag):\n",
    "    num = int(input('Enter a number: '))\n",
    "    if(num in count):\n",
    "        count[num]= count[num]+1\n",
    "    else:\n",
    "        count[num] = 1\n",
    "    flag = int(input('Enter 1 if you want to continue else enter 0: '))\n",
    "for key, value in count.items():\n",
    "    print(f'{key} is entered {value} times')\n",
    "    print()\n"
   ]
  },
  {
   "cell_type": "code",
   "execution_count": 2,
   "id": "a23bf63b",
   "metadata": {},
   "outputs": [
    {
     "name": "stdout",
     "output_type": "stream",
     "text": [
      "Enter a number: 12\n",
      "Enter 1 if you want to continue else enter 0: 1\n",
      "Enter a number: 11\n",
      "Enter 1 if you want to continue else enter 0: 1\n",
      "Enter a number: 12\n",
      "Enter 1 if you want to continue else enter 0: 1\n",
      "Enter a number: 11\n",
      "Enter 1 if you want to continue else enter 0: 1\n",
      "Enter a number: 12\n",
      "Enter 1 if you want to continue else enter 0: 0\n",
      "12 is entered 3 times\n",
      "\n",
      "11 is entered 2 times\n",
      "\n"
     ]
    }
   ],
   "source": [
    "#alternative method\n",
    "count = {}\n",
    "flag =1\n",
    "while(flag):\n",
    "    num = int(input('Enter a number: '))\n",
    "    count[num] = count.get(num, 0) + 1;\n",
    "    flag = int(input('Enter 1 if you want to continue else enter 0: '))\n",
    "for key, value in count.items():\n",
    "    print(f'{key} is entered {value} times')\n",
    "    print()\n"
   ]
  },
  {
   "cell_type": "markdown",
   "id": "baf38d5c",
   "metadata": {},
   "source": [
    "## default  dictonary"
   ]
  },
  {
   "cell_type": "code",
   "execution_count": 2,
   "id": "c28d5e9f",
   "metadata": {},
   "outputs": [
    {
     "data": {
      "text/plain": [
       "defaultdict(list, {})"
      ]
     },
     "execution_count": 2,
     "metadata": {},
     "output_type": "execute_result"
    }
   ],
   "source": [
    "from collections import defaultdict\n",
    "animals = defaultdict(list)\n",
    "animals"
   ]
  },
  {
   "cell_type": "code",
   "execution_count": 4,
   "id": "d2999ed7",
   "metadata": {},
   "outputs": [
    {
     "name": "stdout",
     "output_type": "stream",
     "text": [
      "[]\n"
     ]
    },
    {
     "data": {
      "text/plain": [
       "defaultdict(list, {'e': ['Elephant', 'Elora', 'Elephant', 'Elora'], 'a': []})"
      ]
     },
     "execution_count": 4,
     "metadata": {},
     "output_type": "execute_result"
    }
   ],
   "source": [
    "animals['e'].append(\"Elephant\")\n",
    "animals\n",
    "animals['e'].append(\"Elora\")\n",
    "print(animals['a'])\n",
    "animals"
   ]
  },
  {
   "cell_type": "markdown",
   "id": "dd283278",
   "metadata": {},
   "source": [
    "# List comprehension"
   ]
  },
  {
   "cell_type": "code",
   "execution_count": null,
   "id": "1b1260ca",
   "metadata": {},
   "outputs": [],
   "source": [
    "# syntax------\n",
    "# [expression loop  conditions]"
   ]
  },
  {
   "cell_type": "code",
   "execution_count": 11,
   "id": "02ce8ea7",
   "metadata": {},
   "outputs": [
    {
     "name": "stdout",
     "output_type": "stream",
     "text": [
      "[86, 82, 31, 39, 13, 34, 99, 97, 38, 85, 30, 64, 21, 41, 48, 18, 62, 40, 99, 14]\n"
     ]
    }
   ],
   "source": [
    "import random\n",
    "a = [random.randint(10, 100) for n in range(20)]\n",
    "print(a)"
   ]
  },
  {
   "cell_type": "code",
   "execution_count": 13,
   "id": "965ab0f7",
   "metadata": {},
   "outputs": [
    {
     "name": "stdout",
     "output_type": "stream",
     "text": [
      "[(0, 0, 0), (1, 1, 1), (2, 4, 8), (3, 9, 27), (4, 16, 64), (5, 25, 125), (6, 36, 216), (7, 49, 343), (8, 64, 512), (9, 81, 729)]\n"
     ]
    }
   ],
   "source": [
    "b = [(x, x**2, x**3) for x in range(10)]\n",
    "print(b)"
   ]
  },
  {
   "cell_type": "code",
   "execution_count": 1,
   "id": "2a2e82a2",
   "metadata": {},
   "outputs": [
    {
     "name": "stdout",
     "output_type": "stream",
     "text": [
      "[10, 20, 30, 40]\n"
     ]
    }
   ],
   "source": [
    "a = [int(x) for x in ['10', '20', '30', '40']]\n",
    "print(a)"
   ]
  },
  {
   "cell_type": "code",
   "execution_count": 3,
   "id": "c74fb5e2",
   "metadata": {},
   "outputs": [
    {
     "name": "stdout",
     "output_type": "stream",
     "text": [
      "[10, 12, 14, 16, 18, 20, 22, 24, 26, 28, 30]\n"
     ]
    }
   ],
   "source": [
    "a = [n for n in range(10, 31) if n%2==0]\n",
    "print(a)"
   ]
  },
  {
   "cell_type": "code",
   "execution_count": 4,
   "id": "86daed5d",
   "metadata": {},
   "outputs": [
    {
     "name": "stdout",
     "output_type": "stream",
     "text": [
      "[10, 12, 14, 16, 18]\n"
     ]
    }
   ],
   "source": [
    "a = [num for num in a if num<20 or num>50]\n",
    "print(a)"
   ]
  },
  {
   "cell_type": "code",
   "execution_count": 6,
   "id": "c32e7b2b",
   "metadata": {},
   "outputs": [
    {
     "name": "stdout",
     "output_type": "stream",
     "text": [
      "['T', '!', 'c', 'h', 'n', '!', 'c', '!', 'l']\n"
     ]
    }
   ],
   "source": [
    "# If we have if else then we use it before the loop\n",
    "b = ['!' if alphabet in 'aeiou' else alphabet for alphabet in 'Technical']\n",
    "print(b)"
   ]
  },
  {
   "cell_type": "code",
   "execution_count": 8,
   "id": "1df1356f",
   "metadata": {},
   "outputs": [
    {
     "name": "stdout",
     "output_type": "stream",
     "text": [
      "b = [1, 2, 3, 4, 5, 6, 7, 8, 10, 11, 12, 13], c = [1, 2, 3, 4, 5, 6, 7, 8, 10, 11, 12, 13]\n"
     ]
    }
   ],
   "source": [
    "arr = [[1, 2, 3, 4], [5, 6,7, 8], [10, 11, 12, 13]]\n",
    "b = [n for ele in arr for n in ele]\n",
    "c = [*arr[0], *arr[1], *arr[2]]\n",
    "print(f'b = {b}, c = {c}')"
   ]
  },
  {
   "cell_type": "code",
   "execution_count": 10,
   "id": "0182a001",
   "metadata": {},
   "outputs": [
    {
     "name": "stdout",
     "output_type": "stream",
     "text": [
      "[4, 5, 6, 5, 6, 7, 6, 7, 8]\n"
     ]
    }
   ],
   "source": [
    "lst = [a+b for a in [1, 2, 3] for b in [3, 4, 5]]\n",
    "print(lst)"
   ]
  },
  {
   "cell_type": "code",
   "execution_count": 5,
   "id": "bb393ad0",
   "metadata": {},
   "outputs": [
    {
     "name": "stdout",
     "output_type": "stream",
     "text": [
      "[['ad', 'bd', 'cd'], ['ae', 'be', 'ce'], ['af', 'bf', 'cf']]\n"
     ]
    }
   ],
   "source": [
    "# consider 1st loop as inner loop and 2nd one as outer loop \n",
    "lst1 = [[a+b for a in ['a', 'b', 'c',]] for b in ['d', 'e', 'f']]\n",
    "print(lst1)"
   ]
  },
  {
   "cell_type": "code",
   "execution_count": 14,
   "id": "a7af8e61",
   "metadata": {},
   "outputs": [
    {
     "name": "stdout",
     "output_type": "stream",
     "text": [
      "[(1, 2, 3), (1, 3, 2), (2, 1, 3), (2, 3, 1), (3, 1, 2), (3, 2, 1)]\n"
     ]
    }
   ],
   "source": [
    "c = [(i, j, k) for i in [1, 2, 3] for j in [1, 2, 3] for k in [1, 2, 3] if i!=j\\\n",
    "    and j!=k and k!=i]\n",
    "print(c)"
   ]
  },
  {
   "cell_type": "markdown",
   "id": "5a302b35",
   "metadata": {},
   "source": [
    "# Set comprehension"
   ]
  },
  {
   "cell_type": "code",
   "execution_count": 19,
   "id": "8d4958a4",
   "metadata": {},
   "outputs": [
    {
     "name": "stdout",
     "output_type": "stream",
     "text": [
      "{0, 1, 64, 4, 36, 9, 16, 49, 81, 25}\n",
      "[0, 1, 4, 9, 16, 25, 36, 49, 64, 81]\n"
     ]
    }
   ],
   "source": [
    "s = {x**2 for x in range(10)}\n",
    "print(s)\n",
    "print(sorted(s))"
   ]
  },
  {
   "cell_type": "code",
   "execution_count": 20,
   "id": "f42a2a53",
   "metadata": {},
   "outputs": [
    {
     "name": "stdout",
     "output_type": "stream",
     "text": [
      "{0, 1, 64, 4, 9, 16, 81}\n"
     ]
    }
   ],
   "source": [
    "c = {num for num in s if num<20 or num>50}\n",
    "print(c)"
   ]
  },
  {
   "cell_type": "markdown",
   "id": "700ee76a",
   "metadata": {},
   "source": [
    "# Dictonary comprehension"
   ]
  },
  {
   "cell_type": "code",
   "execution_count": 7,
   "id": "836a54ee",
   "metadata": {},
   "outputs": [
    {
     "name": "stdout",
     "output_type": "stream",
     "text": [
      "{'a': 1, 'b': 8, 'c': 27, 'd': 64}\n"
     ]
    }
   ],
   "source": [
    "d = {'a': 1, 'b':2, 'c': 3,'d': 4}\n",
    "d1 = {k: v**3 for(k, v) in d.items()}\n",
    "print(d1)"
   ]
  },
  {
   "cell_type": "code",
   "execution_count": 27,
   "id": "ae321ebe",
   "metadata": {},
   "outputs": [
    {
     "name": "stdout",
     "output_type": "stream",
     "text": [
      "{'d': 64}\n"
     ]
    }
   ],
   "source": [
    "d2 = {k: v**3 for(k, v) in d.items() if v>3}\n",
    "print(d2)"
   ]
  },
  {
   "cell_type": "code",
   "execution_count": 8,
   "id": "1e7c016e",
   "metadata": {},
   "outputs": [
    {
     "name": "stdout",
     "output_type": "stream",
     "text": [
      "{'a': 'Odd', 'b': 'Even', 'c': 'Odd', 'd': 'Even'}\n"
     ]
    }
   ],
   "source": [
    "# paranthesis is optional\n",
    "d3 = {k: ('Even'if v%2==0 else 'Odd') for (k, v) in d.items()}\n",
    "print(d3)"
   ]
  },
  {
   "cell_type": "code",
   "execution_count": 46,
   "id": "a5d61ded",
   "metadata": {},
   "outputs": [
    {
     "name": "stdout",
     "output_type": "stream",
     "text": [
      "{42, 43, 44, 45, 16, 21, 22, 27, 28}\n",
      "5\n",
      "<class 'set'>\n",
      "{42, 43, 44, 45}\n"
     ]
    }
   ],
   "source": [
    "# eg\n",
    "import random\n",
    "#r = {int(15 + 30*random.random()) for num in range(10)}\n",
    "r = {int(random.randint(15, 45)) for num in range(10)}\n",
    "print(r)\n",
    "count = len({num for num in r if num<30})\n",
    "print(count)\n",
    "s = {num for num in r if num<30}\n",
    "type(s)\n",
    "r -= s\n",
    "print(r)"
   ]
  },
  {
   "cell_type": "code",
   "execution_count": 51,
   "id": "15b6b873",
   "metadata": {},
   "outputs": [
    {
     "name": "stdout",
     "output_type": "stream",
     "text": [
      "[(1, 2), (3, 4), (4, 5), (6, 7), (8, 9)]\n"
     ]
    }
   ],
   "source": [
    "lst = [(), (1, 2), (), (3, 4),(4, 5), (6, 7), (),(), (8, 9)]\n",
    "lst = [ele for ele in lst if ele]\n",
    "print(lst)"
   ]
  },
  {
   "cell_type": "code",
   "execution_count": 56,
   "id": "c480d1c4",
   "metadata": {},
   "outputs": [
    {
     "name": "stdout",
     "output_type": "stream",
     "text": [
      "Dreams May Change, But Friends Are Forever\n",
      "Dreams May Change, But Friends Are Forever <class 'str'>\n",
      "Dreams May Change, But Friends Are Forever\n"
     ]
    }
   ],
   "source": [
    "s1 = 'dreams may change, but friends are forever'\n",
    "\n",
    "s2 = [\" \".join(w.capitalize() for w in s1.split())]\n",
    "s3 = s2[0]\n",
    "print(s3)\n",
    "\n",
    "s2 = \" \".join(w.capitalize() for w in s1.split())\n",
    "\n",
    "print(s2, type(s2))\n",
    "print(s1.title())"
   ]
  },
  {
   "cell_type": "code",
   "execution_count": 57,
   "id": "16d274b7",
   "metadata": {},
   "outputs": [
    {
     "name": "stdout",
     "output_type": "stream",
     "text": [
      "{'Tb': 1, 'Tthbrsh': 2, 'Twl': 3, 'Nlcttr': 4}\n"
     ]
    }
   ],
   "source": [
    "#eg \n",
    "d = {'Tub': 1, 'Toothbrush': 2, 'Towel': 3, 'Nailcutter':4}\n",
    "d = {''.join(alpha for alpha in k if alpha not in 'aeiou'):v for (k,v) in d.items()}\n",
    "print(d)"
   ]
  },
  {
   "cell_type": "code",
   "execution_count": 12,
   "id": "a945dfa9",
   "metadata": {},
   "outputs": [
    {
     "name": "stdout",
     "output_type": "stream",
     "text": [
      "[[2, 4, 6, 8], [10, 12, 14, 16], [18, 20, 22, 24]]\n",
      "[[ 2  4  6  8]\n",
      " [10 12 14 16]\n",
      " [18 20 22 24]]\n"
     ]
    }
   ],
   "source": [
    "import time\n",
    "mat1 = [[1,2,3,4], [5,6,7,8], [9,10,11,12]]\n",
    "mat2 = [[1,2,3,4], [5,6,7,8], [9,10,11,12]]\n",
    "mat3 = [[0,0,0,0], [0,0,0,0],[0,0,0,0]]\n",
    "for i in range(len(mat1)):\n",
    "    for j in range(len(mat1[0])):\n",
    "        mat3[i][j] = mat1[i][j] + mat2[i][j]\n",
    "print(mat3)\n",
    "# numpy way\n",
    "import numpy\n",
    "mat1 = numpy.array([[1,2,3,4], [5,6,7,8], [9,10,11,12]])\n",
    "mat2 = numpy.array([[1,2,3,4], [5,6,7,8], [9,10,11,12]])\n",
    "mat3 = numpy.array([[0,0,0,0], [0,0,0,0],[0,0,0,0]])\n",
    "mat3 = mat1+mat2\n",
    "print(mat3)\n"
   ]
  },
  {
   "cell_type": "code",
   "execution_count": 52,
   "id": "1ba9d346",
   "metadata": {},
   "outputs": [
    {
     "name": "stdout",
     "output_type": "stream",
     "text": [
      "0.0400090217590332\n"
     ]
    }
   ],
   "source": [
    "# if you want to see time taken to do addition then there it is\n",
    "import time\n",
    "import numpy\n",
    "before = time.time()\n",
    "mat1 = numpy.arange(1,1000001).reshape(1000,1000)\n",
    "mat2 = numpy.arange(1,1000001).reshape(1000,1000)\n",
    "mat3 = mat1 + mat2\n",
    "after  = time.time()\n",
    "print(after- before)"
   ]
  },
  {
   "cell_type": "code",
   "execution_count": 57,
   "id": "ac2a22eb",
   "metadata": {},
   "outputs": [
    {
     "name": "stdout",
     "output_type": "stream",
     "text": [
      "0.00500798225402832\n"
     ]
    }
   ],
   "source": [
    "import time\n",
    "before = time.time()\n",
    "mat1 = [[n for n in range(1,101)] for i in range(101)]\n",
    "mat2 = [[n for n in range(1,101)] for i in range(101)]\n",
    "mat3 = mat1 + mat2\n",
    "after = time.time()\n",
    "print(after-before)"
   ]
  },
  {
   "cell_type": "code",
   "execution_count": null,
   "id": "ffa27f6b",
   "metadata": {},
   "outputs": [],
   "source": [
    "# see the time difference"
   ]
  },
  {
   "cell_type": "code",
   "execution_count": 20,
   "id": "a3adbcb0",
   "metadata": {},
   "outputs": [
    {
     "name": "stdout",
     "output_type": "stream",
     "text": [
      "[[2, 4, 6, 8, 10, 12, 14, 16, 18, 20], [22, 24, 26, 28, 30, 32, 34, 36, 38, 40], [42, 44, 46, 48, 50, 52, 54, 56, 58, 60], [62, 64, 66, 68, 70, 72, 74, 76, 78, 80], [82, 84, 86, 88, 90, 92, 94, 96, 98, 100], [102, 104, 106, 108, 110, 112, 114, 116, 118, 120], [122, 124, 126, 128, 130, 132, 134, 136, 138, 140], [142, 144, 146, 148, 150, 152, 154, 156, 158, 160], [162, 164, 166, 168, 170, 172, 174, 176, 178, 180], [182, 184, 186, 188, 190, 192, 194, 196, 198, 200]]\n"
     ]
    }
   ],
   "source": [
    "mat3 = [[mat1[i][j]+ mat2[i][j] for j in range(len(mat1[0]))] for i in range(len(mat1))]\n",
    "print(mat3)"
   ]
  },
  {
   "cell_type": "code",
   "execution_count": 65,
   "id": "905905b9",
   "metadata": {},
   "outputs": [
    {
     "name": "stdout",
     "output_type": "stream",
     "text": [
      "{'A101': {'name': 'Ramesh', 'age': 28, 'salary': 11000}, 'A105': {'name': 'Akaash', 'age': 32, 'salary': 20000}}\n",
      "{'A101': 'Ramesh', 'B102': 'Dinesh', 'D104': 'Akheel', 'A105': 'Akaash'}\n",
      "{'A101': 28, 'B102': 25, 'D104': 30, 'A105': 32}\n",
      "{'D104': 'Akheel', 'A105': 'Akaash'}\n",
      "{'A105': 32}\n",
      "{'D104': 18000, 'A105': 20000}\n"
     ]
    }
   ],
   "source": [
    "# eg\n",
    "emp = {'A101': {'name': 'Ashish', 'age': 30, 'salary': 21000},\n",
    "      'B102': {'name': 'Dinesh', 'age': 25, 'salary': 12200},\n",
    "      'A101': {'name': 'Ramesh', 'age': 28, 'salary': 11000},\n",
    "      'D104': {'name': 'Akheel', 'age': 30, 'salary': 18000},\n",
    "      'A105': {'name': 'Akaash', 'age': 32, 'salary': 20000}\n",
    "      }\n",
    "d1 = {k:v for (k,v) in emp.items() if k.startswith('A')}\n",
    "d2 = {k:v['name'] for (k,v) in emp.items()}\n",
    "d3 = {k: v['age'] for (k,v) in emp.items()}\n",
    "d4 = {k: v['name'] for (k,v) in emp.items() if v['name'].startswith('A')}\n",
    "d5 = {k: v['age'] for (k,v) in emp.items() if v['age']>30}\n",
    "d6 = {k:v['salary'] for (k,v) in emp.items() if v['salary']>=13000 and v['salary']<=20000} \n",
    "print(d1)\n",
    "print(d2)\n",
    "print(d3)\n",
    "print(d4)\n",
    "print(d5)\n",
    "print(d6)"
   ]
  },
  {
   "cell_type": "markdown",
   "id": "1910c8f5",
   "metadata": {},
   "source": [
    "# Functions"
   ]
  },
  {
   "cell_type": "code",
   "execution_count": 6,
   "id": "d7c1e11c",
   "metadata": {},
   "outputs": [
    {
     "name": "stdout",
     "output_type": "stream",
     "text": [
      "Reached fun1\n",
      "outer avatar\n",
      "Inner avatar\n"
     ]
    }
   ],
   "source": [
    "def fun1():\n",
    "    print(\"Reached fun1\")\n",
    "    def fun2():\n",
    "        print(\"Inner avatar\")\n",
    "    print(\"outer avatar\")\n",
    "    fun2()\n",
    "    \n",
    "fun1()"
   ]
  },
  {
   "cell_type": "code",
   "execution_count": 8,
   "id": "d3106805",
   "metadata": {},
   "outputs": [
    {
     "ename": "NameError",
     "evalue": "name 'fun2' is not defined",
     "output_type": "error",
     "traceback": [
      "\u001b[1;31m---------------------------------------------------------------------------\u001b[0m",
      "\u001b[1;31mNameError\u001b[0m                                 Traceback (most recent call last)",
      "\u001b[1;32mC:\\Users\\GOPIKU~1\\AppData\\Local\\Temp/ipykernel_20168/4039933059.py\u001b[0m in \u001b[0;36m<module>\u001b[1;34m\u001b[0m\n\u001b[1;32m----> 1\u001b[1;33m \u001b[0mfun2\u001b[0m\u001b[1;33m(\u001b[0m\u001b[1;33m)\u001b[0m \u001b[1;31m# we donot call inner function like this\u001b[0m\u001b[1;33m\u001b[0m\u001b[1;33m\u001b[0m\u001b[0m\n\u001b[0m",
      "\u001b[1;31mNameError\u001b[0m: name 'fun2' is not defined"
     ]
    }
   ],
   "source": [
    "fun2() # we donot call inner function like this"
   ]
  },
  {
   "cell_type": "code",
   "execution_count": 68,
   "id": "870ef1f7",
   "metadata": {},
   "outputs": [
    {
     "name": "stdout",
     "output_type": "stream",
     "text": [
      "<class 'function'>\n"
     ]
    }
   ],
   "source": [
    "print(type(fun1))"
   ]
  },
  {
   "cell_type": "code",
   "execution_count": 70,
   "id": "0f9e8c42",
   "metadata": {},
   "outputs": [
    {
     "data": {
      "text/plain": [
       "60"
      ]
     },
     "execution_count": 70,
     "metadata": {},
     "output_type": "execute_result"
    }
   ],
   "source": [
    "def cal_sum(x,y,z):\n",
    "    return x+y+z\n",
    "s1 = cal_sum(10, 20, 30)\n",
    "s1"
   ]
  },
  {
   "cell_type": "code",
   "execution_count": 45,
   "id": "c2605483",
   "metadata": {},
   "outputs": [
    {
     "name": "stdout",
     "output_type": "stream",
     "text": [
      "Enter the radius of a circle: 2\n",
      "Enter the side of a square: 4\n",
      "The area of circle is 12.566\n",
      "The perimeter of circle is 12.566\n",
      "The area of square is 16\n",
      "The area of square is 16\n"
     ]
    }
   ],
   "source": [
    "# we can return multiple value if we put them in a list/\n",
    "# tuple/set/dictonaries\n",
    "# a function that reaches at the end of the function\n",
    "# without a return statement will always return None\n",
    "# let's see an example of that\n",
    "\n",
    "def func(radius, sides):\n",
    "    AreaOfCircle = 3.1415 * radius*radius\n",
    "    PeriOfCircle = 2* 3.1415 * radius\n",
    "    \n",
    "    AreaOfSquare = sides**2\n",
    "    PeriOfSquare = 4*sides\n",
    "    ans = [AreaOfCircle, PeriOfCircle, AreaOfSquare, PeriOfSquare]\n",
    "    return ans\n",
    "def main():\n",
    "    r = int(input(\"Enter the radius of a circle: \"))\n",
    "    s = int(input(\"Enter the side of a square: \"))\n",
    "    a = func(r,s)\n",
    "    print(f'The area of circle is {a[0]}')\n",
    "    print(f'The perimeter of circle is {a[1]}')\n",
    "    print(f'The area of square is {a[2]}')\n",
    "    print(f'The area of square is {a[3]}')\n",
    "if __name__ == '__main__':\n",
    "    main()"
   ]
  },
  {
   "cell_type": "markdown",
   "id": "14d1551d",
   "metadata": {},
   "source": [
    "# There are four types of arguments\n",
    "   1. Positional arguments\n",
    "   2. keyword arguments\n",
    "   3. variable-length Positional arguments\n",
    "   4. variable- length keyword arguments\n",
    "   \n",
    "#### positional and keyword arguments are also called required arguments\n",
    "#### Variable-length arguments are called optional arguments\n"
   ]
  },
  {
   "cell_type": "code",
   "execution_count": 74,
   "id": "98d96112",
   "metadata": {},
   "outputs": [],
   "source": [
    "# positional arguments must be passed in correct positional order"
   ]
  },
  {
   "cell_type": "code",
   "execution_count": 10,
   "id": "1b2438d7",
   "metadata": {},
   "outputs": [
    {
     "name": "stdout",
     "output_type": "stream",
     "text": [
      "10 3.14 Sicilian\n",
      "10 3.14 Sicilian\n"
     ]
    }
   ],
   "source": [
    "# keyword arguments can be passed out of order.\n",
    "#eg\n",
    "def print_it(i, a, str):\n",
    "    print(i,a, str)\n",
    "print_it(a = 3.14, i=10, str ='Sicilian')\n",
    "print_it(str ='Sicilian', a = 3.14, i = 10)\n"
   ]
  },
  {
   "cell_type": "code",
   "execution_count": 77,
   "id": "1b5acb35",
   "metadata": {},
   "outputs": [],
   "source": [
    "# in a call we can use positional as well as keyword arguments\n",
    "# if we do so the positional must precede keyword arguments"
   ]
  },
  {
   "cell_type": "code",
   "execution_count": 48,
   "id": "70ebe77d",
   "metadata": {},
   "outputs": [
    {
     "name": "stdout",
     "output_type": "stream",
     "text": [
      "10 3.13 Ngp\n"
     ]
    }
   ],
   "source": [
    "#eg\n",
    "print_it(10, a = 3.13, str = 'Ngp')\n",
    "# we cannot do this\n",
    "#print_it(a = 3.13, 10, str = 'Raze')"
   ]
  },
  {
   "cell_type": "code",
   "execution_count": 79,
   "id": "86eb0f8a",
   "metadata": {},
   "outputs": [],
   "source": [
    "# sometimes number of positional arguments to be passsed\n",
    "# is not fixed then we use variable-length positional\n",
    "# arguments"
   ]
  },
  {
   "cell_type": "markdown",
   "id": "4637782a",
   "metadata": {},
   "source": [
    "## *args"
   ]
  },
  {
   "cell_type": "code",
   "execution_count": 82,
   "id": "4a611ea9",
   "metadata": {
    "scrolled": true
   },
   "outputs": [
    {
     "name": "stdout",
     "output_type": "stream",
     "text": [
      "\n",
      "10 \n",
      "10 3.14 \n",
      "10 3.14 Sicilian \n",
      "10 3.14 Scilian Punekar "
     ]
    }
   ],
   "source": [
    "def prints_it(*args):\n",
    "    print()\n",
    "    for var in args:\n",
    "        print(var, end=' ')\n",
    "prints_it(10)\n",
    "prints_it(10, 3.14)\n",
    "prints_it(10, 3.14, 'Sicilian')\n",
    "prints_it(10, 3.14, 'Sicilian', 'Punekar')"
   ]
  },
  {
   "cell_type": "markdown",
   "id": "104af206",
   "metadata": {},
   "source": [
    "## args used in defination is a tuple.* indicates that it will hold all the arguments passed to prints_it()"
   ]
  },
  {
   "cell_type": "code",
   "execution_count": 83,
   "id": "8f6de31f",
   "metadata": {},
   "outputs": [],
   "source": [
    "# sometimes keyword arguments to be passed is not fixed,\n",
    "# in such cases, variable -length keyword arguments can\n",
    "# be received using *kwargs"
   ]
  },
  {
   "cell_type": "code",
   "execution_count": 87,
   "id": "6f17a82b",
   "metadata": {},
   "outputs": [
    {
     "name": "stdout",
     "output_type": "stream",
     "text": [
      "\n",
      "a = 10, \n",
      "a = 10, b = 3.14, \n",
      "a = 10, b = 3.14, \n",
      "a = 10, b = 3.14, s = Sicilian, "
     ]
    }
   ],
   "source": [
    "def prints_it(**kwargs):\n",
    "    print()\n",
    "    for name, value in kwargs.items():\n",
    "        print(name,'=', value, end = ', ')\n",
    "prints_it(a =10)\n",
    "prints_it(a=10, b= 3.14)\n",
    "prints_it(a=10, b =3.14)\n",
    "prints_it(a=10, b=3.14, s ='Sicilian')\n"
   ]
  },
  {
   "cell_type": "markdown",
   "id": "be369a25",
   "metadata": {},
   "source": [
    "## kwargs used in defination of prints_it() is a dictonary containing variable names as keys and their values as values. ** indicates that it will hold all the arguments passed to prints_it()\n"
   ]
  },
  {
   "cell_type": "markdown",
   "id": "6bcbc3e1",
   "metadata": {},
   "source": [
    "### if function recieves required as well as optional\n",
    "### argument then they must occurs in following order\n",
    " - positional arguments\n",
    " - variable length positional arguments\n",
    " - keyword arguments\n",
    " - variable length keyword arguments"
   ]
  },
  {
   "cell_type": "code",
   "execution_count": 88,
   "id": "c896ea44",
   "metadata": {},
   "outputs": [
    {
     "name": "stdout",
     "output_type": "stream",
     "text": [
      "\n",
      "10 20 30 40 \n",
      "10 20 100 200 30 40 \n",
      "10 20 100 200 35 78 \n",
      "10 20 100 200 40 50 a 32 b 34 c 9 d 12 "
     ]
    }
   ],
   "source": [
    "def print_it(i,j, *args, x,y, **kwargs):\n",
    "    print()\n",
    "    print(i,j, end=' ')\n",
    "    for var in args:\n",
    "        print(var, end= ' ')\n",
    "    print(x, y, end=' ')\n",
    "    for name, value in kwargs.items():\n",
    "        print(name, value, end=' ')\n",
    "print_it(10,20, x=30, y=40)\n",
    "print_it(10, 20, 100, 200, x=30, y=40)\n",
    "print_it(10, 20, 100, 200, y=78, x=35)\n",
    "print_it(10, 20, 100, 200, x =40, y =50, a=32, b=34, c=9, d=12)"
   ]
  },
  {
   "cell_type": "code",
   "execution_count": null,
   "id": "969e24dd",
   "metadata": {},
   "outputs": [],
   "source": [
    "# nothing left for required argument(keyword argument)"
   ]
  },
  {
   "cell_type": "code",
   "execution_count": 89,
   "id": "799cc2dd",
   "metadata": {},
   "outputs": [
    {
     "ename": "TypeError",
     "evalue": "print_it() missing 2 required keyword-only arguments: 'x' and 'y'",
     "output_type": "error",
     "traceback": [
      "\u001b[1;31m---------------------------------------------------------------------------\u001b[0m",
      "\u001b[1;31mTypeError\u001b[0m                                 Traceback (most recent call last)",
      "\u001b[1;32mC:\\Users\\GOPIKU~1\\AppData\\Local\\Temp/ipykernel_13324/2091707233.py\u001b[0m in \u001b[0;36m<module>\u001b[1;34m\u001b[0m\n\u001b[1;32m----> 1\u001b[1;33m \u001b[0mprint_it\u001b[0m\u001b[1;33m(\u001b[0m\u001b[1;36m10\u001b[0m\u001b[1;33m,\u001b[0m \u001b[1;36m20\u001b[0m\u001b[1;33m,\u001b[0m \u001b[1;36m100\u001b[0m\u001b[1;33m,\u001b[0m \u001b[1;36m200\u001b[0m\u001b[1;33m)\u001b[0m\u001b[1;33m\u001b[0m\u001b[1;33m\u001b[0m\u001b[0m\n\u001b[0m",
      "\u001b[1;31mTypeError\u001b[0m: print_it() missing 2 required keyword-only arguments: 'x' and 'y'"
     ]
    }
   ],
   "source": [
    "print_it(10, 20, 100, 200)"
   ]
  },
  {
   "cell_type": "code",
   "execution_count": 49,
   "id": "6a586ba6",
   "metadata": {},
   "outputs": [
    {
     "name": "stdout",
     "output_type": "stream",
     "text": [
      "10 100 3.14\n",
      "20 50 3.14\n",
      "30 60 6.28\n",
      "1 5 3\n",
      "113.14 73.14 96.28 9\n"
     ]
    }
   ],
   "source": [
    "#eg\n",
    "# def fun(b =100, c=3.14, a) gives error\n",
    "def fun(a,b= 100, c=3.14):\n",
    "    print(a,b,c)\n",
    "    return a+b+c\n",
    "w = fun(10)\n",
    "x = fun(20, 50)\n",
    "y = fun(30, 60, 6.28)\n",
    "z = fun(1, c=3, b=5)\n",
    "print(w,x,y,z)"
   ]
  },
  {
   "cell_type": "markdown",
   "id": "94525111",
   "metadata": {},
   "source": [
    "## Unpacking arguments"
   ]
  },
  {
   "cell_type": "code",
   "execution_count": 93,
   "id": "54c8fcca",
   "metadata": {},
   "outputs": [
    {
     "name": "stdout",
     "output_type": "stream",
     "text": [
      "10 20 30 40 50\n",
      "A B C D E\n",
      "1 2 3 4 5\n"
     ]
    }
   ],
   "source": [
    "def print_it(a,b,c,d,e):\n",
    "    print(a,b,c,d,e)\n",
    "lst = [10,20,30,40,50]\n",
    "tpl = ('A','B','C','D','E')\n",
    "s = {1,2,3,4,5}\n",
    "print_it(*lst)\n",
    "print_it(*tpl)\n",
    "print_it(*s)\n"
   ]
  },
  {
   "cell_type": "code",
   "execution_count": 50,
   "id": "46b4b79f",
   "metadata": {},
   "outputs": [
    {
     "name": "stdout",
     "output_type": "stream",
     "text": [
      "name marks\n",
      "Anil 50\n"
     ]
    }
   ],
   "source": [
    "def print_it(name = 'Sanjay', marks=75):\n",
    "    print(name,marks)\n",
    "d = {'name':'Anil', 'marks':50}\n",
    "print_it(*d)\n",
    "print_it(**d)"
   ]
  },
  {
   "cell_type": "code",
   "execution_count": 96,
   "id": "35035803",
   "metadata": {},
   "outputs": [
    {
     "name": "stdout",
     "output_type": "stream",
     "text": [
      "15 72\n"
     ]
    }
   ],
   "source": [
    "# In C we can only return only one value at a time but in Python there is no such Issue\n",
    "def cal_sum_prod(x,y,z):\n",
    "    ss = x+y+z\n",
    "    pp = x*y*z\n",
    "    return ss,pp\n",
    "a,b = cal_sum_prod(2,4,9)\n",
    "print(a,b) # return in form of a tuple"
   ]
  },
  {
   "cell_type": "code",
   "execution_count": 1,
   "id": "a1cb425e",
   "metadata": {},
   "outputs": [
    {
     "name": "stdout",
     "output_type": "stream",
     "text": [
      "True\n"
     ]
    }
   ],
   "source": [
    "#eg\n",
    "def ispangram(s):\n",
    "    alphaset = set('abcdefghijklmnopqrstuvwxyz')\n",
    "    return alphaset <= set(s.lower())\n",
    "print(ispangram('''The quick brown fox jumps over the lazy\n",
    "                dog'''))\n"
   ]
  },
  {
   "cell_type": "code",
   "execution_count": 11,
   "id": "08110423",
   "metadata": {},
   "outputs": [
    {
     "name": "stdout",
     "output_type": "stream",
     "text": [
      "by.come.dashes.dot.followed.here.the\n"
     ]
    }
   ],
   "source": [
    "def convert(s1):\n",
    "    item = [s for s in s1.split('-')]\n",
    "    item.sort()\n",
    "    s2 = '.'.join(item)\n",
    "    return s2\n",
    "s = 'here-come-the-dot-followed-by-dashes'\n",
    "t = convert(s)\n",
    "print(t)"
   ]
  },
  {
   "cell_type": "code",
   "execution_count": 2,
   "id": "2c933553",
   "metadata": {},
   "outputs": [
    {
     "name": "stdout",
     "output_type": "stream",
     "text": [
      "[(1, 1, 1), (2, 4, 8), (3, 9, 27), (4, 16, 64), (5, 25, 125), (6, 36, 216), (7, 49, 343), (8, 64, 512), (9, 81, 729), (10, 100, 1000), (11, 121, 1331), (12, 144, 1728), (13, 169, 2197), (14, 196, 2744), (15, 225, 3375), (16, 256, 4096), (17, 289, 4913), (18, 324, 5832), (19, 361, 6859), (20, 400, 8000)]\n"
     ]
    }
   ],
   "source": [
    "def generate_list():\n",
    "    lst = []\n",
    "    for i in range(1, 21):\n",
    "        lst.append((i, i**2, i**3))\n",
    "    return lst\n",
    "I = generate_list()\n",
    "print(I)"
   ]
  },
  {
   "cell_type": "code",
   "execution_count": 20,
   "id": "22ac775a",
   "metadata": {},
   "outputs": [
    {
     "name": "stdout",
     "output_type": "stream",
     "text": [
      "True\n"
     ]
    }
   ],
   "source": [
    "def is_palindrome(s):\n",
    "    t = s.lower()\n",
    "    lst = list(t)\n",
    "    lst.reverse()\n",
    "    x = ''.join(lst)\n",
    "    if(x==t):\n",
    "        return True\n",
    "    else:\n",
    "        return False\n",
    "A = is_palindrome('Malayalam')\n",
    "print(A)"
   ]
  },
  {
   "cell_type": "code",
   "execution_count": 68,
   "id": "fe8aa8ab",
   "metadata": {},
   "outputs": [
    {
     "name": "stdout",
     "output_type": "stream",
     "text": [
      "True\n",
      "True\n",
      "True\n"
     ]
    }
   ],
   "source": [
    "#eg \n",
    "def ispalindrome(s):\n",
    "    t = s.lower()\n",
    "    left =0\n",
    "    right = len(t)-1\n",
    "    while(right>=left):\n",
    "        if t[left]==' ':\n",
    "            left+=1\n",
    "        if t[right] ==' ':\n",
    "            right-=1\n",
    "        if t[left]!=t[right]:\n",
    "            return False\n",
    "        left +=1\n",
    "        right -=1\n",
    "    return True\n",
    "\n",
    "def ispalindrome2(s):\n",
    "    u = [y for y in list(s.lower()) if y != ' ']\n",
    "    t = [x for x in list(reversed(s.lower())) if x != ' ']\n",
    "    if(u == t):\n",
    "    \treturn True\n",
    "    else:\n",
    "        return False\n",
    "\n",
    "print(ispalindrome('Malayalam'))\n",
    "print(ispalindrome2('Rats live on no evil star'))\n",
    "print(ispalindrome('Murder for a jar of red rum'))"
   ]
  },
  {
   "cell_type": "code",
   "execution_count": 12,
   "id": "31013814",
   "metadata": {},
   "outputs": [
    {
     "name": "stdout",
     "output_type": "stream",
     "text": [
      "Sakhi Sakhi's a and because father her mother singer singer, was\n"
     ]
    }
   ],
   "source": [
    "def convert(s):\n",
    "    words = [word for word in s.split()]\n",
    "    return ' '.join(sorted(set(words)))\n",
    "print(convert('Sakhi was a singer because her mother was a singer, and Sakhi\\'s mother was a singer because her father was a singer'))"
   ]
  },
  {
   "cell_type": "code",
   "execution_count": 16,
   "id": "d25e5089",
   "metadata": {},
   "outputs": [
    {
     "name": "stdout",
     "output_type": "stream",
     "text": [
      "{'Digits': 3, 'Alphabet': 9}\n"
     ]
    }
   ],
   "source": [
    "def count_alphabet_digits(s):\n",
    "    d= {'Digits':0, 'Alphabet':0}\n",
    "    for ch in s:\n",
    "        if ch.isalpha():\n",
    "            d['Alphabet']+=1\n",
    "        elif ch.isdigit():\n",
    "            d['Digits']+=1\n",
    "        else:\n",
    "            pass\n",
    "    return d\n",
    "\n",
    "d = count_alphabet_digits('James Bond 007')\n",
    "print(d)"
   ]
  },
  {
   "cell_type": "markdown",
   "id": "7da0e9e5",
   "metadata": {},
   "source": [
    "# Very very IMP"
   ]
  },
  {
   "cell_type": "code",
   "execution_count": 55,
   "id": "383261af",
   "metadata": {},
   "outputs": [
    {
     "name": "stdout",
     "output_type": "stream",
     "text": [
      "It : 1\n",
      "true : 1\n",
      "for : 1\n",
      "allthat : 1\n",
      "not : 1\n",
      "the : 1\n",
      "same : 1\n",
      "thatthat : 1\n",
      "is : 2\n",
      "refers : 2\n",
      "to : 2\n",
      "that : 3\n"
     ]
    }
   ],
   "source": [
    "import operator\n",
    "def frequency(s):\n",
    "    freq = {}\n",
    "    for word in s.split():\n",
    "        freq[word] = freq.get(word, 0) + 1\n",
    "    return freq\n",
    "sentence = \"It is true for all\\\n",
    "that that refers to that is not the same that\\\n",
    "that refers to that\"\n",
    "d = frequency(sentence)\n",
    "words = sorted(d.items(), key = operator.itemgetter(1))  # gives list of tuples\n",
    "for word in words:\n",
    "    print('%s : %d' %(word[0], word[1]))"
   ]
  },
  {
   "cell_type": "code",
   "execution_count": 23,
   "id": "5a462e2c",
   "metadata": {},
   "outputs": [
    {
     "name": "stdout",
     "output_type": "stream",
     "text": [
      "{'name': 'Gopi', 'Class': 12, 'Age': 16, 'No.': 73, 'class': 3}\n"
     ]
    }
   ],
   "source": [
    "#eg\n",
    "d = {'name': 'Gopi', 'Class': 12, 'Age': 16, 'No.': 73}\n",
    "d['class'] = d.get('class', 1)+2\n",
    "print(d)"
   ]
  },
  {
   "cell_type": "code",
   "execution_count": 26,
   "id": "0aec3e8b",
   "metadata": {},
   "outputs": [
    {
     "name": "stdout",
     "output_type": "stream",
     "text": [
      "He loves TV series\n",
      "He loves Netflix\n",
      "He hates TV series\n",
      "He hates Netflix\n",
      "She loves TV series\n",
      "She loves Netflix\n",
      "She hates TV series\n",
      "She hates Netflix\n",
      "\n",
      "He loves TV series\n",
      "He loves Netflix\n",
      "He hates TV series\n",
      "He hates Netflix\n",
      "She loves TV series\n",
      "She loves Netflix\n",
      "She hates TV series\n",
      "She hates Netflix\n"
     ]
    }
   ],
   "source": [
    "def create_sent1(sub, ver, obj):\n",
    "    lst = []\n",
    "    for i in range(len(sub)):\n",
    "        for j in range(len(ver)):\n",
    "            for k in range(len(obj)):\n",
    "                sent = sub[i] + ' ' + ver[j] + ' ' + obj[k]\n",
    "                lst.append(sent)\n",
    "    return lst\n",
    "def create_sent2(sub, ver, obj):\n",
    "    return [(s + ' '+v+' '+ o) for s in sub for v in ver for o in obj]\n",
    "subject = ['He', 'She']\n",
    "verb = ['loves', 'hates']\n",
    "objects = ['TV series', 'Netflix']\n",
    "lst1 = create_sent1(subject, verb, objects)\n",
    "for I in lst1:\n",
    "    print(I)\n",
    "print()\n",
    "lst2 = create_sent2(subject, verb, objects)\n",
    "for I in lst2:\n",
    "    print(I)"
   ]
  },
  {
   "cell_type": "code",
   "execution_count": 60,
   "id": "ef196dd6",
   "metadata": {},
   "outputs": [
    {
     "data": {
      "text/plain": [
       "['000', '001', '010', '011', '100', '101', '110', '111']"
      ]
     },
     "execution_count": 60,
     "metadata": {},
     "output_type": "execute_result"
    }
   ],
   "source": [
    "l = [str(x)+str(y)+str(z) for x in range(2) for y in range(2) for z in range(2)]\n",
    "l\n",
    "# binary"
   ]
  },
  {
   "cell_type": "markdown",
   "id": "8b032dfe",
   "metadata": {},
   "source": [
    "# Recursion"
   ]
  },
  {
   "cell_type": "code",
   "execution_count": 28,
   "id": "aabdc040",
   "metadata": {},
   "outputs": [
    {
     "name": "stdout",
     "output_type": "stream",
     "text": [
      "120\n"
     ]
    }
   ],
   "source": [
    "def factorial(n):\n",
    "    if n ==1:\n",
    "        return 1\n",
    "    else:\n",
    "        return n*factorial(n-1)\n",
    "print(factorial(5))"
   ]
  },
  {
   "cell_type": "code",
   "execution_count": 31,
   "id": "fb041871",
   "metadata": {},
   "outputs": [
    {
     "name": "stdout",
     "output_type": "stream",
     "text": [
      "15\n"
     ]
    }
   ],
   "source": [
    "def sumdig(n):\n",
    "    if n==0:\n",
    "        return 0\n",
    "    else:\n",
    "        return n%10 + sumdig(int(n/10))\n",
    "print(sumdig(564))"
   ]
  },
  {
   "cell_type": "markdown",
   "id": "6d05ce01",
   "metadata": {},
   "source": [
    "# Problem with Unknown Loops"
   ]
  },
  {
   "cell_type": "markdown",
   "id": "c6f137c2",
   "metadata": {},
   "source": [
    "if we are to define a function which generates and returns a list of lists containing all possible combination of 1,2,3 we can do so through following program:"
   ]
  },
  {
   "cell_type": "code",
   "execution_count": 73,
   "id": "ddfd62af",
   "metadata": {},
   "outputs": [
    {
     "name": "stdout",
     "output_type": "stream",
     "text": [
      "[[1, 1, 1], [1, 1, 2], [1, 1, 3], [1, 2, 1], [1, 2, 2], [1, 2, 3], [1, 3, 1], [1, 3, 2], [1, 3, 3], [2, 1, 1], [2, 1, 2], [2, 1, 3], [2, 2, 1], [2, 2, 2], [2, 2, 3], [2, 3, 1], [2, 3, 2], [2, 3, 3], [3, 1, 1], [3, 1, 2], [3, 1, 3], [3, 2, 1], [3, 2, 2], [3, 2, 3], [3, 3, 1], [3, 3, 2], [3, 3, 3]]\n"
     ]
    }
   ],
   "source": [
    "def generate(n):\n",
    "    lol = [[] for i in range(n**n)]\n",
    "    #lol = []\n",
    "    pos = 0\n",
    "    for i in range(1, n+1):\n",
    "        for j in range(1, n+1):\n",
    "            for k in range(1, n+1):\n",
    "                t = [i, j, k]\n",
    "                lol[pos] = t #lol.append(t)\n",
    "                pos+=1\n",
    "    return lol\n",
    "\n",
    "I = generate(3)\n",
    "print(I)"
   ]
  },
  {
   "cell_type": "markdown",
   "id": "8229e53f",
   "metadata": {},
   "source": [
    "Since we generate 27 combinations out of 1,2,3, list of lists lol is st uo with 27 empty lists. Then through 3 for loops we have generate each sub-list and inserted it in lol.\n",
    "\n",
    "If we are to generate all possible combinations of 1,2,3,4 then we will have to introduce one more for loop. If generate() is to remain generic we cannot dynamically add this loop."
   ]
  },
  {
   "cell_type": "code",
   "execution_count": 14,
   "id": "cca1e153",
   "metadata": {},
   "outputs": [
    {
     "name": "stdout",
     "output_type": "stream",
     "text": [
      "[[1, 1, 1], [1, 1, 2], [1, 1, 3], [1, 2, 1], [1, 2, 2], [1, 2, 3], [1, 3, 1], [1, 3, 2], [1, 3, 3], [2, 1, 1], [2, 1, 2], [2, 1, 3], [2, 2, 1], [2, 2, 2], [2, 2, 3], [2, 3, 1], [2, 3, 2], [2, 3, 3], [3, 1, 1], [3, 1, 2], [3, 1, 3], [3, 2, 1], [3, 2, 2], [3, 2, 3], [3, 3, 1], [3, 3, 2], [3, 3, 3]]\n"
     ]
    }
   ],
   "source": [
    "def generate(n):\n",
    "    t =[]\n",
    "    lol = [[] for i in range(n**n)]\n",
    "    helper(n,t,lol)\n",
    "    return(lol)\n",
    "def helper(n,t,lol):\n",
    "    global j\n",
    "    if len(t) == n:\n",
    "        lol[j] = lol[j]+t\n",
    "        j+=1\n",
    "        return\n",
    "    for i in range(1, n+1):\n",
    "        t.append(i)\n",
    "        helper(n, t, lol)\n",
    "        t.pop()\n",
    "j=0\n",
    "I = generate(3)\n",
    "print(I)"
   ]
  },
  {
   "cell_type": "markdown",
   "id": "14046e69",
   "metadata": {},
   "source": [
    "### There are 2 types of recursions:\n",
    "1. Head \n",
    "2. Tail\n",
    "\n"
   ]
  },
  {
   "cell_type": "code",
   "execution_count": 3,
   "id": "55e1bcf0",
   "metadata": {},
   "outputs": [
    {
     "name": "stdout",
     "output_type": "stream",
     "text": [
      "1\n",
      "2\n",
      "3\n",
      "4\n",
      "5\n",
      "6\n",
      "7\n",
      "8\n",
      "9\n",
      "10\n"
     ]
    }
   ],
   "source": [
    "# 1. Head recursion\n",
    "def headprint(n):\n",
    "    if n==0:\n",
    "        return\n",
    "    else:\n",
    "        headprint(n-1)\n",
    "        print(n)\n",
    "headprint(10)"
   ]
  },
  {
   "cell_type": "markdown",
   "id": "2e4eb9fc",
   "metadata": {},
   "source": [
    "In head recursion we don't get the result of our calculation untill we have returned from every recursion call. So the state(local variables) has to be saved before making the next recursion call. This results in consumption of more memory."
   ]
  },
  {
   "cell_type": "code",
   "execution_count": 25,
   "id": "0b55f80e",
   "metadata": {},
   "outputs": [
    {
     "name": "stdout",
     "output_type": "stream",
     "text": [
      "1\n",
      "2\n",
      "3\n",
      "4\n",
      "5\n",
      "6\n",
      "7\n",
      "8\n",
      "9\n",
      "10\n"
     ]
    }
   ],
   "source": [
    "# 2. Tail Recursion\n",
    "def tailprint(n):\n",
    "    if n==11:\n",
    "        return\n",
    "    else:\n",
    "        print(n)\n",
    "        tailprint(n+1)\n",
    "tailprint(1)"
   ]
  },
  {
   "cell_type": "code",
   "execution_count": 2,
   "id": "78baa002",
   "metadata": {},
   "outputs": [],
   "source": [
    "# default recursion limits is usually set to a\n",
    "#small value 10**4 APPROX"
   ]
  },
  {
   "cell_type": "markdown",
   "id": "1662f2dd",
   "metadata": {},
   "source": [
    "###### setrecursionlimit() function in sys module permits us to set the recursion limit. Once set 10^6 large input can be handeled without any error"
   ]
  },
  {
   "cell_type": "code",
   "execution_count": 1,
   "id": "795454e3",
   "metadata": {},
   "outputs": [
    {
     "name": "stdout",
     "output_type": "stream",
     "text": [
      "Enter a number: 50\n",
      "Prime factor are: \n",
      "2,5,5,"
     ]
    }
   ],
   "source": [
    "def factorize(n,i):\n",
    "    if i<=n:\n",
    "        if n%i == 0:\n",
    "            print(i, end=',')\n",
    "            n = n//i\n",
    "        else:\n",
    "            i+=1\n",
    "        factorize(n, i)\n",
    "num = int(input('Enter a number: '))\n",
    "print('Prime factor are: ')\n",
    "factorize(num,2)"
   ]
  },
  {
   "cell_type": "code",
   "execution_count": 12,
   "id": "8564fb37",
   "metadata": {},
   "outputs": [
    {
     "name": "stdout",
     "output_type": "stream",
     "text": [
      "Enter number: 54321\n",
      "Sum of digits =  15\n"
     ]
    }
   ],
   "source": [
    "def rsum(num):\n",
    "    if num!=0:\n",
    "        t = num%10\n",
    "        num = int(num/10)\n",
    "        sum = t + rsum(num)\n",
    "        \n",
    "    else:\n",
    "        return 0\n",
    "    return sum\n",
    "    \n",
    "n = int(input('Enter number: '))\n",
    "rs = rsum(n)\n",
    "print('Sum of digits = ', rs)"
   ]
  },
  {
   "cell_type": "code",
   "execution_count": 13,
   "id": "c1e821e5",
   "metadata": {},
   "outputs": [
    {
     "name": "stdout",
     "output_type": "stream",
     "text": [
      "A0: L = 1189 B = 841\n",
      "A1: L = 841 B = 594\n",
      "A2: L = 594 B = 420\n",
      "A3: L = 420 B = 297\n",
      "A4: L = 297 B = 210\n",
      "A5: L = 210 B = 148\n",
      "A6: L = 148 B = 105\n"
     ]
    }
   ],
   "source": [
    "def papersize(i,n,l,b):\n",
    "    if n!=0:\n",
    "        print(f'A{i}: L = {int(l)} B = {int(b)}')\n",
    "        newb = l/2\n",
    "        newl = b\n",
    "        n-=1\n",
    "        i+=1\n",
    "        papersize(i,n,newl,newb)\n",
    "papersize(0,7, 1189, 841)"
   ]
  },
  {
   "cell_type": "code",
   "execution_count": 14,
   "id": "6bd5e939",
   "metadata": {},
   "outputs": [
    {
     "name": "stdout",
     "output_type": "stream",
     "text": [
      "0\t1\t1\t2\t3\t5\t8\t13\t21\t34\t55\t89\t144\t233\t377\t"
     ]
    }
   ],
   "source": [
    "def fibo(old, current, terms):\n",
    "    if terms>=1:\n",
    "        new = old + current\n",
    "        print(f'{new}', end='\\t')\n",
    "        terms-=1\n",
    "        fibo(current, new, terms)\n",
    "old =-1\n",
    "current = 1\n",
    "fibo(old, current, 15)"
   ]
  },
  {
   "cell_type": "code",
   "execution_count": 28,
   "id": "90bd4d7b",
   "metadata": {},
   "outputs": [
    {
     "name": "stdout",
     "output_type": "stream",
     "text": [
      "Enter a number: 43\n",
      "The binary equivalent is: \n",
      "1 0 1 0 1 1 "
     ]
    }
   ],
   "source": [
    "import sys\n",
    "def dec_to_binary(n):\n",
    "    r = n%2\n",
    "    n= int(n/2)\n",
    "    if n!=0:\n",
    "        dec_to_binary(n)\n",
    "    print(r,end=' ')     # head recursion\n",
    "sys.setrecursionlimit(10**6)\n",
    "num = int(input(\"Enter a number: \"))\n",
    "print('The binary equivalent is: ')\n",
    "dec_to_binary(num)"
   ]
  },
  {
   "cell_type": "code",
   "execution_count": 15,
   "id": "06020929",
   "metadata": {},
   "outputs": [
    {
     "name": "stdout",
     "output_type": "stream",
     "text": [
      "[[1, 1, 1], [1, 1, 2], [1, 1, 3], [1, 2, 1], [1, 2, 2], [1, 2, 3], [1, 3, 1], [1, 3, 2], [1, 3, 3], [2, 1, 1], [2, 1, 2], [2, 1, 3], [2, 2, 1], [2, 2, 2], [2, 2, 3], [2, 3, 1], [2, 3, 2], [2, 3, 3], [3, 1, 1], [3, 1, 2], [3, 1, 3], [3, 2, 1], [3, 2, 2], [3, 2, 3], [3, 3, 1], [3, 3, 2], [3, 3, 3]]\n"
     ]
    }
   ],
   "source": [
    "def generator(n):\n",
    "    generated_list = [[] for i in range(n**n)]\n",
    "    tmp = []\n",
    "    helper(generated_list, tmp, n)\n",
    "    return generated_list\n",
    "def helper(generated_list, tmp, n):\n",
    "    global i\n",
    "    if len(tmp) == n:\n",
    "        generated_list[i] = generated_list[i] + tmp\n",
    "        i+=1\n",
    "        return\n",
    "    else:\n",
    "        for num in range(1, n+1):\n",
    "            tmp.append(num)\n",
    "            helper(generated_list, tmp, n)\n",
    "            tmp.pop()\n",
    "i = 0\n",
    "generate = generator(2)\n",
    "print(generate)\n",
    "if generate "
   ]
  },
  {
   "cell_type": "code",
   "execution_count": null,
   "id": "3b865b3c",
   "metadata": {},
   "outputs": [],
   "source": []
  },
  {
   "cell_type": "code",
   "execution_count": null,
   "id": "d0aa6a81",
   "metadata": {},
   "outputs": [],
   "source": []
  }
 ],
 "metadata": {
  "kernelspec": {
   "display_name": "Python 3 (ipykernel)",
   "language": "python",
   "name": "python3"
  },
  "language_info": {
   "codemirror_mode": {
    "name": "ipython",
    "version": 3
   },
   "file_extension": ".py",
   "mimetype": "text/x-python",
   "name": "python",
   "nbconvert_exporter": "python",
   "pygments_lexer": "ipython3",
   "version": "3.9.18"
  }
 },
 "nbformat": 4,
 "nbformat_minor": 5
}
