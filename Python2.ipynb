{
 "cells": [
  {
   "cell_type": "markdown",
   "id": "ff6f074e",
   "metadata": {},
   "source": [
    "# Functional Programming"
   ]
  },
  {
   "cell_type": "markdown",
   "id": "8576c3ba",
   "metadata": {},
   "source": [
    "#### In functional programming problem is treated as evaluation of one or more function"
   ]
  },
  {
   "cell_type": "markdown",
   "id": "335181fa",
   "metadata": {},
   "source": [
    "Functions as first Class values:\n",
    "\n",
    "- Function can be assigned to variables and then called using variables\n",
    "\n",
    "- Functions can be passed as arguments to function and returned from function.\n",
    "\n",
    "- Functions can be built at execution time, the way lists, tuples, etc. can be."
   ]
  },
  {
   "cell_type": "code",
   "execution_count": 21,
   "id": "9bd38100",
   "metadata": {},
   "outputs": [
    {
     "name": "stdout",
     "output_type": "stream",
     "text": [
      "Hello\n",
      "30\n"
     ]
    }
   ],
   "source": [
    "#eg for pt. 1\n",
    "def func():\n",
    "    print('Hello')\n",
    "    \n",
    "def sum1(x,y):\n",
    "    print(x+y)\n",
    "    \n",
    "f = func  # assignment of function to a variable\n",
    "f()       # call to func()\n",
    "g = sum1    # assignment of function to a variable\n",
    "g(10,20)   # call to func()"
   ]
  },
  {
   "cell_type": "code",
   "execution_count": 19,
   "id": "7e6317d1",
   "metadata": {},
   "outputs": [
    {
     "name": "stdout",
     "output_type": "stream",
     "text": [
      "30\n",
      "Hello\n"
     ]
    }
   ],
   "source": [
    "# eg for pt. 2\n",
    "def sum1(x,y,f):\n",
    "    print(x+y)\n",
    "    f()        # calls func()\n",
    "def func():\n",
    "    print('Hello')\n",
    "\n",
    "f = func     # assignment of function to a variable\n",
    "sum1(10, 20, f) # pass function as argument to function"
   ]
  },
  {
   "cell_type": "markdown",
   "id": "cebf2ba8",
   "metadata": {},
   "source": [
    "# Lambda Functions"
   ]
  },
  {
   "cell_type": "markdown",
   "id": "f09b8e92",
   "metadata": {},
   "source": [
    "Normal functions have names. they are defined using the def keyword\n",
    "Lambda function do not have names. They are defined using the lambda keyword and are built at execution time. Lambda functions are commonly used for short functions that are convinient to define at the point where they are called.\n",
    "Lambda functions are also called anonymous functions or inline functions"
   ]
  },
  {
   "cell_type": "code",
   "execution_count": 15,
   "id": "5c88643e",
   "metadata": {},
   "outputs": [
    {
     "data": {
      "text/plain": [
       "<function __main__.<lambda>(s)>"
      ]
     },
     "execution_count": 15,
     "metadata": {},
     "output_type": "execute_result"
    }
   ],
   "source": [
    "#eg \n",
    "lambda n: n*n*n\n",
    "\n",
    "lambda x,y,z: (x+y+z)/3\n",
    "\n",
    "lambda s: s.strip().upper()"
   ]
  },
  {
   "cell_type": "code",
   "execution_count": 2,
   "id": "45b19ada",
   "metadata": {},
   "outputs": [
    {
     "name": "stdout",
     "output_type": "stream",
     "text": [
      "{'Wed': 1, 'Mon': 2, 'Tue': 3}\n"
     ]
    }
   ],
   "source": [
    "d = {'Mon': 2, 'Tue': 3, 'Wed': 1}\n",
    "d = dict(sorted(d.items(), key= lambda x: x[1]))\n",
    "print(d)"
   ]
  },
  {
   "cell_type": "code",
   "execution_count": 14,
   "id": "791411ed",
   "metadata": {},
   "outputs": [
    {
     "name": "stdout",
     "output_type": "stream",
     "text": [
      "27\n",
      "20.0\n",
      "NGP\n"
     ]
    }
   ],
   "source": [
    "# Lambda functions are often used as an argument to \n",
    "#other function\n",
    "print((lambda n: n*n*n)(3))\n",
    "print((lambda x,y,z: (x+y+z)/3)(10,20,30))\n",
    "print((lambda s: s.strip().upper())(' ngp '))"
   ]
  },
  {
   "cell_type": "code",
   "execution_count": 16,
   "id": "0ac2ee8c",
   "metadata": {},
   "outputs": [
    {
     "name": "stdout",
     "output_type": "stream",
     "text": [
      "27\n",
      "20.0\n",
      "NAGPUR\n"
     ]
    }
   ],
   "source": [
    "p = lambda n: n*n*n\n",
    "q = lambda x,y,z: (x+y+z)/3\n",
    "r = lambda s: s.strip().upper()\n",
    "\n",
    "print(p(3))\n",
    "print(q(10,20,30))\n",
    "print(r(' Nagpur '))"
   ]
  },
  {
   "cell_type": "code",
   "execution_count": 1,
   "id": "bebdd65e",
   "metadata": {},
   "outputs": [
    {
     "name": "stdout",
     "output_type": "stream",
     "text": [
      "3.0\n",
      "30.0\n"
     ]
    }
   ],
   "source": [
    "lst1 = [1,2,3,4,5]\n",
    "lst2 = [10,20,30,40,50]\n",
    "print((lambda l : sum(l)/ len(l))(lst1))\n",
    "print((lambda l : sum(l)/ len(l))(lst2))"
   ]
  },
  {
   "cell_type": "markdown",
   "id": "7d2f95cf",
   "metadata": {},
   "source": [
    "# Higher order functions"
   ]
  },
  {
   "cell_type": "markdown",
   "id": "50f136dc",
   "metadata": {},
   "source": [
    "A higher order function is a function that can recieve other functions as arguments or return them."
   ]
  },
  {
   "cell_type": "code",
   "execution_count": 1,
   "id": "38259f08",
   "metadata": {},
   "outputs": [
    {
     "name": "stdout",
     "output_type": "stream",
     "text": [
      "{'Nuts': 35, 'Clip': 150, 'Stud': 175, 'Oil': 230}\n"
     ]
    }
   ],
   "source": [
    "# for eg, we can pass a lambda function to the\n",
    "# built-in sorted() function to sort a dictonary by values:\n",
    "\n",
    "d = {'Oil': 230, 'Clip': 150, 'Stud': 175, 'Nuts': 35}\n",
    "d1 = dict(sorted(d.items(), key = lambda kv : kv[1]))\n",
    "print(d1)"
   ]
  },
  {
   "cell_type": "code",
   "execution_count": 11,
   "id": "a275c732",
   "metadata": {},
   "outputs": [
    {
     "data": {
      "text/plain": [
       "{'Nuts': 35, 'Clip': 150, 'Stud': 175, 'Oil': 230}"
      ]
     },
     "execution_count": 11,
     "metadata": {},
     "output_type": "execute_result"
    }
   ],
   "source": [
    "import operator\n",
    "d2 = dict(sorted(d.items(), key = operator.itemgetter(1)))\n",
    "d2"
   ]
  },
  {
   "cell_type": "markdown",
   "id": "a48f2746",
   "metadata": {},
   "source": [
    "To faciliate functional programming python provides 3 higher order functions - map(), filter() and reduce()."
   ]
  },
  {
   "cell_type": "markdown",
   "id": "53c4f18e",
   "metadata": {},
   "source": [
    "# map"
   ]
  },
  {
   "cell_type": "markdown",
   "id": "dd75afde",
   "metadata": {},
   "source": [
    "A map operation applies a function to each element in the sequence like list, tuple, etc. and returns a new sequence containing results. for example:\n",
    "- Finding square root of all number in the list and returning a list of these roots"
   ]
  },
  {
   "cell_type": "markdown",
   "id": "141294ca",
   "metadata": {},
   "source": [
    "# filter"
   ]
  },
  {
   "cell_type": "markdown",
   "id": "780a7e7e",
   "metadata": {},
   "source": [
    "A filter operation applies a function to all the element of a sequence. A sequence of those elements for which the function returns True. For example:\n",
    "- Checking whether each element in a list is an alphabet and returning a list of odd numbers"
   ]
  },
  {
   "cell_type": "markdown",
   "id": "8cf0d99f",
   "metadata": {},
   "source": [
    "# reduce()"
   ]
  },
  {
   "cell_type": "markdown",
   "id": "3cb70204",
   "metadata": {},
   "source": [
    "A reduce operation performs a rolling computation to sequential pairs of values in a sequence and returns the result. For example:\n",
    "- Obtain product of list of integers and returning the final string. \n",
    "- Concentration all string in a list and returning the final string."
   ]
  },
  {
   "cell_type": "code",
   "execution_count": 1,
   "id": "d4a6b3df",
   "metadata": {},
   "outputs": [
    {
     "name": "stdout",
     "output_type": "stream",
     "text": [
      "[0.08726646259971647, 0.17453292519943295, 0.2617993877991494, 0.3490658503988659, 0.4363323129985824]\n",
      "[120, 3628800, 1307674368000, 2432902008176640000, 15511210043330985984000000]\n",
      "[25, 100, 225, 400, 625]\n",
      "[5, 10, 15, 20, 25]\n"
     ]
    }
   ],
   "source": [
    "# Use of map() function:\n",
    "import math\n",
    "def fun(n):\n",
    "    return n*n\n",
    "lst = [5,10,15,20,25]\n",
    "m1 = map(math.radians, lst)\n",
    "m2 = map(math.factorial, lst)\n",
    "m3 = map(fun, lst)\n",
    "print(list(m1))\n",
    "print(list(m2))\n",
    "print(list(m3))\n",
    "print(lst)\n",
    "# map returns map object which can be converted to a list"
   ]
  },
  {
   "cell_type": "code",
   "execution_count": 1,
   "id": "dcf9c983",
   "metadata": {},
   "outputs": [
    {
     "name": "stdout",
     "output_type": "stream",
     "text": [
      "['A', 'X', 'Y', 'M', 'D']\n",
      "['A', 'X', 'Y', '3', 'M', '4', 'D']\n"
     ]
    }
   ],
   "source": [
    "# Use of filter function\n",
    "\n",
    "def fun(n):\n",
    "    if n%5 == 0:\n",
    "        return True\n",
    "    else:\n",
    "        return False\n",
    "lst1 = ['A', 'X', 'Y', '3', 'M', '4', 'D']\n",
    "f1 =filter(str.isalpha, lst1)\n",
    "print(list(f1))\n",
    "print(lst1)"
   ]
  },
  {
   "cell_type": "code",
   "execution_count": 6,
   "id": "e8d94fe3",
   "metadata": {},
   "outputs": [
    {
     "name": "stdout",
     "output_type": "stream",
     "text": [
      "[5, 10, 25]\n"
     ]
    }
   ],
   "source": [
    "lst2 = [5, 10, 18, 27, 25]\n",
    "f2 = filter(fun, lst2)\n",
    "print(list(f2))\n",
    "\n",
    "# fiter() returns a filter object which have to be coverted\n",
    "# to a list using list() function"
   ]
  },
  {
   "cell_type": "code",
   "execution_count": 3,
   "id": "8ab8aee9",
   "metadata": {},
   "outputs": [
    {
     "name": "stdout",
     "output_type": "stream",
     "text": [
      "15\n",
      "120\n"
     ]
    }
   ],
   "source": [
    "# Use of reduce() function\n",
    "\n",
    "from functools import reduce\n",
    "def getsum(x,y):\n",
    "    return x+y\n",
    "def getprod(x,y):\n",
    "    return x*y\n",
    "lst = [1,2,3,4,5]\n",
    "s = reduce(getsum, lst)\n",
    "p = reduce(getprod, lst)\n",
    "print(s)\n",
    "print(p)"
   ]
  },
  {
   "cell_type": "code",
   "execution_count": 2,
   "id": "7ceb2a1f",
   "metadata": {},
   "outputs": [
    {
     "name": "stdout",
     "output_type": "stream",
     "text": [
      "[25, 100, 225, 441, 625] \t [5, 10, 15, 25] 76\n"
     ]
    }
   ],
   "source": [
    "# Using Lambda with map(), filter(), reduce()\n",
    "\n",
    "lst1 = [5,10,15,21,25]\n",
    "m = map(lambda n: n*n, lst1)\n",
    "\n",
    "f= filter(lambda n : n%5==0, lst1)\n",
    "\n",
    "from functools import reduce\n",
    "s = reduce(lambda x, y: x+y, lst1)\n",
    "\n",
    "print(list(m), '\\t', list(f), s)"
   ]
  },
  {
   "cell_type": "code",
   "execution_count": 2,
   "id": "f276fcc8",
   "metadata": {},
   "outputs": [
    {
     "name": "stdout",
     "output_type": "stream",
     "text": [
      "[1600, 2500]\n"
     ]
    }
   ],
   "source": [
    "# If required map(), filter() and reduce() can be used \n",
    "# together\n",
    "\n",
    "def func(n):\n",
    "    return n>1000\n",
    "\n",
    "lst = [10,20,30,40,50]\n",
    "l=filter(func, map(lambda x: x*x, lst))\n",
    "print(list(l))"
   ]
  },
  {
   "cell_type": "markdown",
   "id": "cc5290c5",
   "metadata": {},
   "source": [
    "Relational database use the map/ filter/reduce paradigm. A typical SQL query to obtain the maximum salary that a skilled worker gets from an Employee table will be:\n",
    "\n",
    "SELECT max(salary) FROM Employee WHERE grade = 'Skilled'\n",
    "\n",
    "The same query can be written in terms of map(), filter() and reduce() as:\n",
    "\n",
    "- reduce(max, map(get_salary, filter(lambda x: x.grade() == 'Skilled, employees)))"
   ]
  },
  {
   "cell_type": "markdown",
   "id": "584b1353",
   "metadata": {},
   "source": [
    "In SQL teminology map, filter and reduce are called project,select aggregate respectively"
   ]
  },
  {
   "cell_type": "code",
   "execution_count": 16,
   "id": "4baac0d6",
   "metadata": {},
   "outputs": [
    {
     "name": "stdout",
     "output_type": "stream",
     "text": [
      "In fun\n",
      "In disp\n",
      "In msg\n"
     ]
    }
   ],
   "source": [
    "#eg1\n",
    "\n",
    "def fun():\n",
    "    print('In fun')\n",
    "def disp():\n",
    "    print('In disp')\n",
    "def msg():\n",
    "    print('In msg')\n",
    "lst = [fun, disp, msg]\n",
    "for f in lst:\n",
    "    f()"
   ]
  },
  {
   "cell_type": "code",
   "execution_count": 19,
   "id": "3c5c7f0a",
   "metadata": {},
   "outputs": [
    {
     "name": "stdout",
     "output_type": "stream",
     "text": [
      "[7, 7, 7, 7, 7, 7]\n"
     ]
    }
   ],
   "source": [
    "# eg\n",
    "lst1 = [1,2,3,4,5,6]\n",
    "lst2 = [6,5,4,3,2,1]\n",
    "result = map(lambda n1, n2: n1+n2, lst1, lst2)\n",
    "print(list(result))"
   ]
  },
  {
   "cell_type": "code",
   "execution_count": 20,
   "id": "1ef20ad4",
   "metadata": {},
   "outputs": [
    {
     "name": "stdout",
     "output_type": "stream",
     "text": [
      "[1, 4, 9, 16, 25, 36]\n"
     ]
    }
   ],
   "source": [
    "lst = [1,2,3,4,5,6]\n",
    "lst1 = list(map(lambda n: n*n, lst))\n",
    "print(lst1)"
   ]
  },
  {
   "cell_type": "code",
   "execution_count": 22,
   "id": "371f6122",
   "metadata": {},
   "outputs": [
    {
     "name": "stdout",
     "output_type": "stream",
     "text": [
      "[25, 49, 81, 9, 16, 4, 36]\n"
     ]
    }
   ],
   "source": [
    "def my_map(fun, seq):\n",
    "    result = []\n",
    "    for ele in seq:\n",
    "        result.append(fun(ele))\n",
    "    return result\n",
    "lst1 = [5,7,9,-3,4,2,6]\n",
    "lst2 = list(my_map(lambda n: n*n, lst1))\n",
    "print(lst2)"
   ]
  },
  {
   "cell_type": "code",
   "execution_count": 24,
   "id": "0372e283",
   "metadata": {},
   "outputs": [
    {
     "name": "stdout",
     "output_type": "stream",
     "text": [
      "[('Anil', 18, 80), ('Anil', 18, 85), ('Shobha', 18, 93), ('Shobha', 21, 79), ('Sohail', 20, 90)]\n",
      "[('Anil', 18, 80), ('Anil', 18, 85), ('Shobha', 18, 93), ('Shobha', 21, 79), ('Sohail', 20, 90)]\n"
     ]
    }
   ],
   "source": [
    "#eg\n",
    "import operator\n",
    "\n",
    "lst = [('Anil', 18, 80), ('Anil', 18,85), ('Shobha', 18, 93), ('Sohail', 20, 90), ('Shobha',21, 79)]\n",
    "print(sorted(lst, key= operator.itemgetter(0,1,2)))\n",
    "print(sorted(lst, key=lambda tpl: (tpl[0],tpl[1],tpl[2])))"
   ]
  },
  {
   "cell_type": "code",
   "execution_count": 4,
   "id": "da595889",
   "metadata": {},
   "outputs": [
    {
     "name": "stdout",
     "output_type": "stream",
     "text": [
      "5876\n",
      "500\n",
      "y\n",
      "x\n"
     ]
    }
   ],
   "source": [
    "d= {'x':500, 'y':5876, 'z': 560}\n",
    "key_max = max(d.keys(), key = (lambda k: d[k]))\n",
    "key_min = min(d.keys(), key = (lambda k: d[k]))\n",
    "print(d[key_max])\n",
    "print(d[key_min])\n",
    "print(key_max)\n",
    "print(key_min)"
   ]
  },
  {
   "cell_type": "markdown",
   "id": "f6bc7170",
   "metadata": {},
   "source": [
    "# Modules and packages"
   ]
  },
  {
   "cell_type": "markdown",
   "id": "bd038fbe",
   "metadata": {},
   "source": [
    "Modules - Modules are the .py files containing definations and statement\n",
    "When we execute a program it's module name is __ main __. The name is available in a variable __ name __.\n"
   ]
  },
  {
   "cell_type": "markdown",
   "id": "31a598f3",
   "metadata": {},
   "source": [
    "# why do we use multiple modules-\n",
    "1. Ease of development and maintenance\n",
    "\n",
    "2. Reuse of exesting code."
   ]
  },
  {
   "cell_type": "raw",
   "id": "95906626",
   "metadata": {},
   "source": [
    "# functions.py\n",
    "\n",
    "def display():\n",
    "    print('Earlier rich owned cars, while poor had hourses')\n",
    "def show():\n",
    "    print('Now everyone has car, while only rich own horses')\n",
    "\n",
    "# usefunctions.py\n",
    "\n",
    "import functions\n",
    "functions.display()\n",
    "functions.show()"
   ]
  },
  {
   "cell_type": "markdown",
   "id": "53793d53",
   "metadata": {},
   "source": [
    "##### Variation of imports"
   ]
  },
  {
   "cell_type": "raw",
   "id": "f7601e08",
   "metadata": {},
   "source": [
    "# import math\n",
    "# import random  is same as\n",
    "import math, random\n",
    "\n",
    "# import specific names from module\n",
    "from math import sin, cos, tan\n",
    "\n",
    "# renaming module while importing it\n",
    "import functions as fun\n",
    "# or even\n",
    "from functions import display as disp"
   ]
  },
  {
   "cell_type": "markdown",
   "id": "78a9b204",
   "metadata": {},
   "source": [
    "# Search sequence"
   ]
  },
  {
   "cell_type": "raw",
   "id": "51e49da5",
   "metadata": {},
   "source": [
    "if we import a module called 'my_function', following search sequence will be followed:\n",
    "\n",
    "1. Interpreter will first search for a built-in module called 'my_function'\n",
    "\n",
    "2. if such module is not found, then it will search for it in directory list given by the variable __sys.path__"
   ]
  },
  {
   "cell_type": "markdown",
   "id": "0d460516",
   "metadata": {},
   "source": [
    "The list in the sys.path variable contains directory from where the scripts has been executed, follwing by a list of directories as specified in __PYTHONPATH__ environment variable"
   ]
  },
  {
   "cell_type": "markdown",
   "id": "bc70fd02",
   "metadata": {},
   "source": [
    "Suppose we have module called functions in 'functions.py'. if this module has functions display()\n",
    " and main(). We want to use this program sometimes as an independent script, and at other times as a module from which we can use display() function.\n",
    " \n",
    " To achieve this, we need to write the code in this fashion:"
   ]
  },
  {
   "cell_type": "code",
   "execution_count": 5,
   "id": "a10ccc48",
   "metadata": {},
   "outputs": [
    {
     "name": "stdout",
     "output_type": "stream",
     "text": [
      "If you beat your own record,you will loose as well as win\n",
      "Wright brothers are responsible for 9//11 too\n"
     ]
    }
   ],
   "source": [
    "# functions.py\n",
    "def display():\n",
    "    print(\"Wright brothers are responsible for 9//11 too\")\n",
    "def main():\n",
    "    print(\"If you beat your own record,you\\\n",
    " will loose as well as win\")\n",
    "    display()\n",
    "if __name__=='__main__':\n",
    "    main()\n",
    "        \n",
    "    "
   ]
  },
  {
   "cell_type": "markdown",
   "id": "1b0bb805",
   "metadata": {},
   "source": [
    "Suppose there is a package called pkg containing a module called mod.py if the module contains functions f1() and f2() then the directory structure would be as follows:\n",
    "\n",
    "Directory - pkg\n",
    "\n",
    "Content of pkg directory - mod.py and __init__.py\n",
    "\n",
    "content of mod.py - f1() and f2()"
   ]
  },
  {
   "cell_type": "raw",
   "id": "fdef47f4",
   "metadata": {},
   "source": [
    "# mod.py\n",
    "def f1():\n",
    "    print('Inside function f1')\n",
    "def f2():\n",
    "    print('Inside function f2')\n",
    "\n",
    "# client.py\n",
    "import pkg.mod\n",
    "pkg.mod.f1()\n",
    "pkg.mod.f2()\n"
   ]
  },
  {
   "cell_type": "markdown",
   "id": "739c3dd2",
   "metadata": {},
   "source": [
    "#### examples\n",
    "Wrte a python program that is organised as follows:\n",
    "Packages:\n",
    "messages.funny\n",
    "messages.curt\n",
    "\n",
    "Modules:\n",
    "\n",
    "modf.py, modf2.py, modf3.py in package messages.funny\n",
    "modc1.py, modc2.py, modc3.py in package messages.curt\n",
    "\n",
    "Functions:\n",
    "\n",
    "funf1() in module modf1\n",
    "funf2() in module modf2\n",
    "funf3() in modulw modf3\n",
    "func1() in module modc1\n",
    "func2() in module modc2\n",
    "func3() in module modc3\n",
    "Use all the functions in a program client.py"
   ]
  },
  {
   "cell_type": "code",
   "execution_count": null,
   "id": "46d0967b",
   "metadata": {},
   "outputs": [],
   "source": [
    "messages\n",
    "    __init__.py\n",
    "    funny\n",
    "        __init__py\n",
    "        modf1.py\n",
    "        modf2.py\n",
    "        modf3.py\n",
    "    curt\n",
    "        __init__.py\n",
    "        modc1.py\n",
    "        modc2.py\n",
    "        modc3.py\n",
    "    client.py\n",
    "    \n",
    "Of these, messages, funny and curt are directories,\n",
    "rest are files. All __init__.py files are empty.\n",
    "\n",
    "# modf1.py\n",
    "def funf1():\n",
    "    print('The ability to speak several language is an asset')\n",
    "\n",
    "# modf2.py\n",
    "def funf2():\n",
    "    print('The ability to speak several language is an asset')\n",
    "\n",
    "# modf3.py\n",
    "def funf3():\n",
    "    print('The ability to speak several language is an asset')\n",
    "    \n",
    "# modc1.py\n",
    "def func1():\n",
    "    print('The ability to speak several language is an asset')\n",
    "    \n",
    "# modc2.py\n",
    "def func2():\n",
    "    print('The ability to speak several language is an asset')\n",
    "    \n",
    "# modf1.py\n",
    "def funf1():\n",
    "    print('The ability to speak several language is an asset')"
   ]
  },
  {
   "cell_type": "code",
   "execution_count": null,
   "id": "c55d2283",
   "metadata": {},
   "outputs": [],
   "source": [
    "# client.py\n",
    "import messages.funny.modf1\n",
    "import messages.funny.modf2\n",
    "import messages.funny.modf2\n",
    "\n",
    "import messages.curt.modc1\n",
    "import messages.curt.modc2\n",
    "import messages.curt.modc3\n",
    "\n",
    "messages.funny.modf1.funf1()\n",
    ".\n",
    ".\n",
    ".\n",
    ".\n",
    "."
   ]
  },
  {
   "cell_type": "code",
   "execution_count": null,
   "id": "d684520a",
   "metadata": {},
   "outputs": [],
   "source": [
    "from messages.funny.modf1 import funf1\n",
    "\n",
    "funf1()\n",
    "\n",
    "from messages.funny.modf1 import *\n",
    "\n",
    "funf1()"
   ]
  },
  {
   "cell_type": "markdown",
   "id": "0acdf661",
   "metadata": {},
   "source": [
    "## symbol table"
   ]
  },
  {
   "cell_type": "markdown",
   "id": "55a59da2",
   "metadata": {},
   "source": [
    "python interpreter creates a symbol table consisting identifiers and type of identifier, it's scope level and location in memory. This information is used by interpreter to decide whether operations performed on the identifier in our program should be permitted or not."
   ]
  },
  {
   "cell_type": "markdown",
   "id": "fa5cd961",
   "metadata": {},
   "source": [
    "## namespace"
   ]
  },
  {
   "cell_type": "markdown",
   "id": "0a328b95",
   "metadata": {},
   "source": [
    "A namespace is a dictonary of identifier(keys) and their corresponding objects(value)"
   ]
  },
  {
   "cell_type": "markdown",
   "id": "797a003d",
   "metadata": {},
   "source": [
    "An identifier used in a function or a method belongs to __local namespace__\n",
    "An identifier used outside a fuction or a method belongs to __global namespaces__"
   ]
  },
  {
   "cell_type": "markdown",
   "id": "d2f7a9ab",
   "metadata": {},
   "source": [
    "If global and local identifier have same name then local will overshadow the global identifier."
   ]
  },
  {
   "cell_type": "code",
   "execution_count": 2,
   "id": "7b9545bd",
   "metadata": {},
   "outputs": [
    {
     "name": "stdout",
     "output_type": "stream",
     "text": [
      "45 6.28 Abra Ka Dabra\n",
      "20 3.14 Abra Ka Dabra\n"
     ]
    }
   ],
   "source": [
    "def fun():\n",
    "    # name conflict local a shadows out global a\n",
    "    a = 45\n",
    "    # name conflict use local b\n",
    "    b = 6.28\n",
    "    # use local a, global b and s\n",
    "    # no need to define s as global, since it is not being changed\n",
    "    print(a,b,s)\n",
    "# global identifier\n",
    "a = 20\n",
    "b = 3.14\n",
    "s = 'Abra Ka Dabra'\n",
    "fun()\n",
    "print(a,b,s)"
   ]
  },
  {
   "cell_type": "markdown",
   "id": "902607fb",
   "metadata": {},
   "source": [
    "If locals() is called from within a function/method, it returns a dictonary of identifiers that are accessible from that function/method.\n",
    "\n",
    "If globals() is called from within a function/method, it returns a dictonary of global identifier that can be accessible from that function/method."
   ]
  },
  {
   "cell_type": "code",
   "execution_count": 6,
   "id": "013e5352",
   "metadata": {},
   "outputs": [
    {
     "name": "stdout",
     "output_type": "stream",
     "text": [
      "20\n",
      "3.14\n",
      "Abra ka Dabra\n"
     ]
    }
   ],
   "source": [
    "a = 20\n",
    "b = 3.14\n",
    "s = 'Abra ka Dabra'\n",
    "lst = ['a', 'b', 's']\n",
    "for var in lst:\n",
    "    print(globals()[var])\n",
    "# gives the vurrent value of var in global namespace"
   ]
  },
  {
   "cell_type": "markdown",
   "id": "b5746235",
   "metadata": {},
   "source": [
    "#### Where to use globals() and locals()"
   ]
  },
  {
   "cell_type": "code",
   "execution_count": 4,
   "id": "52561273",
   "metadata": {},
   "outputs": [
    {
     "name": "stdout",
     "output_type": "stream",
     "text": [
      "20\n",
      "3.14\n",
      "Abra Ka dabra\n"
     ]
    }
   ],
   "source": [
    "# 1. Used to access variable using string\n",
    "a = 20\n",
    "b = 3.14\n",
    "s = 'Abra Ka dabra'\n",
    "lst = ['a', 'b', 's']\n",
    "for var in lst:\n",
    "    print(globals()[var])"
   ]
  },
  {
   "cell_type": "code",
   "execution_count": 2,
   "id": "58d77656",
   "metadata": {},
   "outputs": [
    {
     "name": "stdout",
     "output_type": "stream",
     "text": [
      "Inside fun1\n",
      "Inside fun2\n",
      "Inside fun3\n"
     ]
    }
   ],
   "source": [
    "# 2.We can call different functions through same variable\n",
    "def fun1():\n",
    "    print('Inside fun1')\n",
    "def fun2():\n",
    "    print('Inside fun2')\n",
    "def fun3():\n",
    "    print('Inside fun3')\n",
    "lst = ['fun1','fun2','fun3']\n",
    "for var in lst:\n",
    "    globals()[var]()"
   ]
  },
  {
   "cell_type": "markdown",
   "id": "aaaed44b",
   "metadata": {},
   "source": [
    "### Inner Function"
   ]
  },
  {
   "cell_type": "code",
   "execution_count": 5,
   "id": "8cdd7011",
   "metadata": {},
   "outputs": [
    {
     "name": "stdout",
     "output_type": "stream",
     "text": [
      "Saving is the best thing....\n",
      "Especially when your parents done it for you!\n",
      "500\n"
     ]
    }
   ],
   "source": [
    "# An inner function is simply a function that is defined inside another function.\n",
    "# outer function\n",
    "def display():\n",
    "    a = 500\n",
    "    print('Saving is the best thing....')\n",
    "    \n",
    "    #inner function\n",
    "    def show():\n",
    "        print('Especially when your parents done it for you!')\n",
    "        print(a)\n",
    "    show()\n",
    "  \n",
    "display()"
   ]
  },
  {
   "cell_type": "markdown",
   "id": "08bec79d",
   "metadata": {},
   "source": [
    "__show()__ being the inner function defined inside __display()__, it can be called only from within __display()__\n",
    "The inner function has access to variables of the enclosed function, but it cannot change the value of the variable.\n",
    "When we do __a = 600__ in __show()__, a new local variable __a__ would have been created and set, and not one \n",
    "belonging to __display()__"
   ]
  },
  {
   "cell_type": "code",
   "execution_count": 6,
   "id": "1ea1fb1d",
   "metadata": {},
   "outputs": [
    {
     "name": "stdout",
     "output_type": "stream",
     "text": [
      "10 50 30\n"
     ]
    }
   ],
   "source": [
    "#e.g., write a program that if the dictonary returned by locals() is manipulated,\n",
    "# the value of original variables don't change\n",
    "\n",
    "def fun():\n",
    "    a = 10\n",
    "    global b\n",
    "    b = 20\n",
    "    c = 30\n",
    "    locals()['a'] = 25\n",
    "    globals()['b'] = 50\n",
    "    locals()['c'] = 75\n",
    "    print(a,b,c)\n",
    "fun()"
   ]
  },
  {
   "cell_type": "markdown",
   "id": "256b92cf",
   "metadata": {},
   "source": [
    "# Classes and Object"
   ]
  },
  {
   "cell_type": "code",
   "execution_count": 5,
   "id": "25a7b4c9",
   "metadata": {},
   "outputs": [
    {
     "name": "stdout",
     "output_type": "stream",
     "text": [
      "Ramesh 23 52000\n",
      "Suresh 25 32000\n"
     ]
    }
   ],
   "source": [
    "# let us define a user define class Employee\n",
    "class Employee:\n",
    "    def set_data(self, n, a, s):\n",
    "        self.name = n\n",
    "        self.age = a\n",
    "        self.salary = s\n",
    "    def display_data(self):\n",
    "        print(self.name, self.age, self.salary)\n",
    "\n",
    "e1 = Employee()\n",
    "e1.set_data('Ramesh', 23, 52000)\n",
    "e1.display_data()\n",
    "\n",
    "e2 = Employee()\n",
    "e2.set_data('Suresh', 25, 32000)\n",
    "e2.display_data()\n"
   ]
  },
  {
   "cell_type": "markdown",
   "id": "c15e35a2",
   "metadata": {},
   "source": [
    "Each object has its own instance data name, age, salary and whereas methods set_data() and display_data() are shared amongst\n",
    "objects"
   ]
  },
  {
   "cell_type": "markdown",
   "id": "43aab4c3",
   "metadata": {},
   "source": [
    "whenever we call an instance method using an object, address of the object gets passed to the method implicitly.\n",
    "This address is collected by the instance method in a variable called __self__ . First parameter passed to an instance method is the address of the object"
   ]
  },
  {
   "cell_type": "markdown",
   "id": "1a42f994",
   "metadata": {},
   "source": [
    "### Access Convention"
   ]
  },
  {
   "cell_type": "markdown",
   "id": "dda6887e",
   "metadata": {},
   "source": [
    "We have accessed instance methods set_data() and display_data() from outside the class. Even instance data name, age, salary\n",
    "are accesssible from outside the class"
   ]
  },
  {
   "cell_type": "code",
   "execution_count": 4,
   "id": "d7b47525",
   "metadata": {
    "scrolled": true
   },
   "outputs": [
    {
     "name": "stdout",
     "output_type": "stream",
     "text": [
      "Sanjay 35 36000\n"
     ]
    }
   ],
   "source": [
    "e3 = Employee()\n",
    "e3.name = 'Sanjay'\n",
    "e3.age = 35\n",
    "e3.salary = 36000\n",
    "e3.display_data()"
   ]
  },
  {
   "cell_type": "markdown",
   "id": "ec3899ec",
   "metadata": {},
   "source": [
    "However it is good idea to keep data ina class inaccessible from outside the class and access it only through member\n",
    "functions of the class\n",
    "There is no mechanism or keyword to enforce this. Hence a convention is used to start the instance data identifiers\n",
    "with two leading underscore e.g., __name, __age, __salary"
   ]
  },
  {
   "cell_type": "markdown",
   "id": "004d2d85",
   "metadata": {},
   "source": [
    "### Object Initialization"
   ]
  },
  {
   "cell_type": "markdown",
   "id": "80814779",
   "metadata": {},
   "source": [
    "There are two method of initilizing an object: \n",
    "    1. Using methods like get_data() / st_data()\n",
    "    2. Using __ init __() method"
   ]
  },
  {
   "cell_type": "code",
   "execution_count": 3,
   "id": "8d0fef10",
   "metadata": {},
   "outputs": [
    {
     "name": "stdout",
     "output_type": "stream",
     "text": [
      "Ramesh 23 52000\n",
      "Suresh 25 32000\n",
      "Deleted object<__main__.Employee object at 0x0000021F838D6550>\n",
      "Deleted object<__main__.Employee object at 0x0000021F838D6910>\n",
      " 0 0.0\n"
     ]
    }
   ],
   "source": [
    "# using get_data() benifits that the data remains protected from manipulation from outside the class.\n",
    "\n",
    "# The benifit of initializing an object usinh the special method __init__() is that it initialization, since __init__() is\n",
    "# called when an object is created.\n",
    "\n",
    "class Employee:\n",
    "    def set_data(self, n, a,s):\n",
    "        self.__name = n\n",
    "        self.__age = a\n",
    "        self.__salary = s\n",
    "        \n",
    "    def display_data(self):\n",
    "        print(self.__name, self.__age, self.__salary)\n",
    "    def __init__(self, n='', a=0, s= 0.0):\n",
    "        self.__name = n\n",
    "        self.__age = a\n",
    "        self.__salary = s\n",
    "    def __del__(self):\n",
    "        print('Deleted object' + str(self))\n",
    "        \n",
    "\n",
    "e1 = Employee()\n",
    "e1.set_data('Ramesh', 23, 52000)\n",
    "e1.display_data()\n",
    "\n",
    "e2 = Employee()\n",
    "e2.set_data('Suresh', 25, 32000)\n",
    "e2.display_data()     \n",
    "e1 = None\n",
    "e2 = None\n",
    "e1 = Employee()\n",
    "e1.display_data()"
   ]
  },
  {
   "cell_type": "code",
   "execution_count": 18,
   "id": "631c58a7",
   "metadata": {},
   "outputs": [
    {
     "name": "stdout",
     "output_type": "stream",
     "text": [
      "Guru says Barks!!\n"
     ]
    }
   ],
   "source": [
    "class Dog():\n",
    "    # __init__ will call automatically when an instance of a class is made\n",
    "    def __init__(self):\n",
    "        self.name = \"Guru\"\n",
    "        self.legs = \"4\"\n",
    "    def speak(self):# we give self as an argument so that it can access all variables and functions inside the class\n",
    "        print(self.name + \" says Barks!!\")\n",
    "\n",
    "d = Dog()\n",
    "d.speak()"
   ]
  },
  {
   "cell_type": "code",
   "execution_count": 6,
   "id": "caf1b17e",
   "metadata": {},
   "outputs": [
    {
     "name": "stdout",
     "output_type": "stream",
     "text": [
      "Guru says Barks!!\n"
     ]
    }
   ],
   "source": [
    "# python has convention to name class as uppercase and function with lowercase so that it can differentiate b/w \n",
    "# functions and class\n",
    "my_dog = Dog()\n",
    "my_dog.speak()\n",
    "# my_dog is an instance of Dog class"
   ]
  },
  {
   "cell_type": "markdown",
   "id": "2bd7ec8f",
   "metadata": {},
   "source": [
    "###  Class Variables and Methods"
   ]
  },
  {
   "cell_type": "markdown",
   "id": "0b11be4f",
   "metadata": {},
   "source": [
    "If we wish to share a variable amongst all object of a class, we must declare the variable as a class variable or class\n",
    "attribute.\n",
    "\n",
    "To declare class variable, we have to create a variable without prepending with self.\n",
    "\n",
    "Class variable does not become part of object of a class.\n",
    "\n",
    "Class variable can be accessed using the syntax   class_name.varname.\n",
    "\n",
    "Contrasted with instance methods, class method do not recieve a self argument.\n",
    "\n",
    "Class methods can be accessed using the syntax    class_name.methodname().\n",
    "Class method can not call instance method because it doesnot have object address"
   ]
  },
  {
   "cell_type": "code",
   "execution_count": 41,
   "id": "e2018177",
   "metadata": {},
   "outputs": [],
   "source": [
    "class Dog2():\n",
    "    count = 0\n",
    "    def __init__(self, n= ''):\n",
    "        self.__name = n\n",
    "        self.__legs = \"4\"\n",
    "        Dog2.count += 1\n",
    "        \n",
    "    def speak(self):\n",
    "        print(self.__name + \" says Barks!!\")\n",
    "    def __del__(self):\n",
    "        print('Deleted')"
   ]
  },
  {
   "cell_type": "code",
   "execution_count": 42,
   "id": "b8eb47a5",
   "metadata": {
    "scrolled": true
   },
   "outputs": [
    {
     "name": "stdout",
     "output_type": "stream",
     "text": [
      "tommy says Barks!!\n",
      "golu says Barks!!\n",
      "2\n",
      "Deleted\n",
      "Deleted\n"
     ]
    }
   ],
   "source": [
    "d1 = Dog2('tommy')\n",
    "d2 = Dog2('golu')\n",
    "\n",
    "d1.speak()\n",
    "d2.speak()\n",
    "print(Dog2.count)\n",
    "d1 = None\n",
    "d2 = None"
   ]
  },
  {
   "cell_type": "markdown",
   "id": "9f0e4b83",
   "metadata": {},
   "source": [
    "### var() and dir() function"
   ]
  },
  {
   "cell_type": "raw",
   "id": "5d19e290",
   "metadata": {},
   "source": [
    "There are two useful built-in functions vars() and dir() of these, var() returns a dictonary of attributes  associated with the object and their\n",
    "values including itself if it stored in variable, whereas dir returns a list of attributes.\n"
   ]
  },
  {
   "cell_type": "code",
   "execution_count": 45,
   "id": "25ad4edb",
   "metadata": {},
   "outputs": [
    {
     "name": "stdout",
     "output_type": "stream",
     "text": [
      "Attribute of c1 and c2 are different\n",
      "c1 and c3 are of same type\n",
      "c1 and c3 point to same object\n"
     ]
    }
   ],
   "source": [
    "# e.g, write a program that determines whether two objects are of same type, whether their attributes are same and\n",
    "# whether their attribute are same and whether they are pointing to same object.\n",
    "\n",
    "class Complex:\n",
    "    def __init__(self, r = 0.0, i = 0.0):\n",
    "        self.__real = r\n",
    "        self.__imag = i\n",
    "    \n",
    "    # we cannot compare object directly we have to overload the == operator\n",
    "    def __eq__(self, other):\n",
    "        if self.__real == other.__real and self.__imag == other.__imag:\n",
    "            return True\n",
    "        else:\n",
    "            return False\n",
    " \n",
    "c1 = Complex(1.1, 0.2)\n",
    "c2 = Complex(2.1, 0.4)\n",
    "\n",
    "c3 = c1\n",
    "\n",
    "if c1 == c2:\n",
    "    print('Attribute of c1 and c2 are same')\n",
    "else:\n",
    "    print('Attribute of c1 and c2 are different')\n",
    "\n",
    "if type(c1) == type(c3):\n",
    "    print('c1 and c3 are of same type')\n",
    "else:\n",
    "    print('c1 and c2 are of different type')\n",
    "if c1 is c3:\n",
    "    print('c1 and c3 point to same object')\n",
    "else:\n",
    "    print('c1 and c3 point to different object')"
   ]
  },
  {
   "cell_type": "markdown",
   "id": "edc8bae1",
   "metadata": {},
   "source": [
    "A global function can call class method and instance method"
   ]
  },
  {
   "cell_type": "markdown",
   "id": "59b8d0c3",
   "metadata": {},
   "source": [
    "### Operator Overloading"
   ]
  },
  {
   "cell_type": "code",
   "execution_count": 2,
   "id": "3618abf5",
   "metadata": {},
   "outputs": [
    {
     "name": "stdout",
     "output_type": "stream",
     "text": [
      "2.2 0.4\n",
      "0.0 0.0\n"
     ]
    }
   ],
   "source": [
    "# Since Complex is a user-defined class, Python doesn't know how to add object of this class. We can teach it how to do it, \n",
    "# by overloading the + operator as shown below\n",
    "class Complex:\n",
    "    def __init__(self, r = 0.0, i = 0.0):\n",
    "        self.__real = r\n",
    "        self.__imag = i\n",
    "    def __add__(self, other):\n",
    "        z = Complex()\n",
    "        z.__real = self.__real + other.__real\n",
    "        z.__imag = self.__imag + other.__imag\n",
    "        return z\n",
    "    \n",
    "    def __sub__(self, other):\n",
    "        z = Complex()\n",
    "        z.__real = self.__real - other.__real\n",
    "        z.__imag = self.__imag - other.__imag\n",
    "        return z\n",
    "    def display(self):\n",
    "        print(self.__real, self.__imag)\n",
    "\n",
    "c1 = Complex(1.1, 0.2)\n",
    "c2 = Complex(1.1, 0.2)\n",
    "c3 = c1 + c2\n",
    "c3.display()\n",
    "c4 = c1 - c2\n",
    "c4.display()"
   ]
  },
  {
   "cell_type": "markdown",
   "id": "1e760029",
   "metadata": {},
   "source": [
    "We can Overload Arithmetic Operators, Comparison operators, Compound Assignment Operator\n",
    "Python does not supports function overloading. So functions name or method name in class must be unique"
   ]
  },
  {
   "cell_type": "markdown",
   "id": "82f62e71",
   "metadata": {},
   "source": [
    "### Every Thing is an object"
   ]
  },
  {
   "cell_type": "code",
   "execution_count": 3,
   "id": "9585f2ba",
   "metadata": {},
   "outputs": [
    {
     "name": "stdout",
     "output_type": "stream",
     "text": [
      "True\n",
      "20\n",
      "False\n"
     ]
    }
   ],
   "source": [
    "# In python every entity is an object.\n",
    "# Same object can have multiple references.\n",
    "\n",
    "# In the following code snippet x and y are reffering to same object changing one doesn't\n",
    "# change the other. Same behaviour is shown for float, complex, bool and str types.\n",
    "x = 20\n",
    "y= 20\n",
    "print(x is y)\n",
    "y = 30\n",
    "print(x)\n",
    "\n",
    "# In the following code snippet x and y are reffering to different objects. Same behaviour is shown for \n",
    "# list, tuple, set, dictonary etc.\n",
    "x = Complex(1.2, 0.1)\n",
    "y = Complex(1.2, 0.1)\n",
    "print(x is y)\n",
    "\n",
    "# some objects are mutable and some are not. Also, all objects have some attributes and methods"
   ]
  },
  {
   "cell_type": "markdown",
   "id": "f64706b5",
   "metadata": {},
   "source": [
    "What is Instance of a class?\n",
    "When we are createg an instance of a class we are creating object of a class\n",
    "\n",
    "what is the attribute in class?\n",
    "In Python, an attribute is a value or behavior associated with an object. In the context of a Python class,\n",
    "an attribute is a variable that is defined within the class definition and is associated with instances of that class.\n",
    "\n",
    "Attributes in Python classes can be classified into two types:\n",
    "\n",
    "Instance attributes: These are attributes that are specific to each instance of the class.\n",
    "    They can be accessed using the dot notation after creating an instance of the class.\n",
    "    \n",
    "Class attributes: These are attributes that are associated with the class itself and are shared by all instances\n",
    "    of the class. They are defined within the class definition but outside of any method."
   ]
  },
  {
   "cell_type": "code",
   "execution_count": 2,
   "id": "5d0f149f",
   "metadata": {},
   "outputs": [
    {
     "name": "stdout",
     "output_type": "stream",
     "text": [
      "450\n"
     ]
    }
   ],
   "source": [
    "# python permit us to add/delete/modify attribute to a class/object dynamically\n",
    "class Bird:\n",
    "    pass\n",
    "\n",
    "b = Bird()\n",
    "b.name = 'Sparrow'\n",
    "b.weight = 500\n",
    "b.color = 'light brown'\n",
    "b.animaltype = 'Vertibrate'\n",
    "\n",
    "b.weight = 450\n",
    "b.color = 'brown'\n",
    "\n",
    "del b.animaltype\n",
    "\n",
    "print(b.weight)"
   ]
  },
  {
   "cell_type": "code",
   "execution_count": 13,
   "id": "ac655adb",
   "metadata": {},
   "outputs": [
    {
     "name": "stdout",
     "output_type": "stream",
     "text": [
      "234\n",
      "234\n"
     ]
    }
   ],
   "source": [
    "# Conversion between built-in and user-defined types:\n",
    "class String:\n",
    "    def __init__(self, s=''):\n",
    "        self.__str = s\n",
    "    def display(self):\n",
    "        print(self.__str)\n",
    "    def __int__(self):\n",
    "        return int(self.__str)\n",
    "s1 = String(234) # convesion from int to str\n",
    "s1.display()\n",
    "i = int(s1)      # conversion from str to int\n",
    "print(i)\n",
    "\n",
    "# __int__() has been overloaded to carry out conversion from str to int\n"
   ]
  },
  {
   "cell_type": "code",
   "execution_count": 14,
   "id": "1b0df1b5",
   "metadata": {},
   "outputs": [
    {
     "name": "stdout",
     "output_type": "stream",
     "text": [
      "['__abs__', '__add__', '__and__', '__bool__', '__ceil__', '__class__', '__delattr__', '__dir__', '__divmod__', '__doc__', '__eq__', '__float__', '__floor__', '__floordiv__', '__format__', '__ge__', '__getattribute__', '__getnewargs__', '__gt__', '__hash__', '__index__', '__init__', '__init_subclass__', '__int__', '__invert__', '__le__', '__lshift__', '__lt__', '__mod__', '__mul__', '__ne__', '__neg__', '__new__', '__or__', '__pos__', '__pow__', '__radd__', '__rand__', '__rdivmod__', '__reduce__', '__reduce_ex__', '__repr__', '__rfloordiv__', '__rlshift__', '__rmod__', '__rmul__', '__ror__', '__round__', '__rpow__', '__rrshift__', '__rshift__', '__rsub__', '__rtruediv__', '__rxor__', '__setattr__', '__sizeof__', '__str__', '__sub__', '__subclasshook__', '__truediv__', '__trunc__', '__xor__', 'as_integer_ratio', 'bit_length', 'conjugate', 'denominator', 'from_bytes', 'imag', 'numerator', 'real', 'to_bytes']\n",
      "['__abs__', '__add__', '__bool__', '__ceil__', '__class__', '__delattr__', '__dir__', '__divmod__', '__doc__', '__eq__', '__float__', '__floor__', '__floordiv__', '__format__', '__ge__', '__getattribute__', '__getformat__', '__getnewargs__', '__gt__', '__hash__', '__init__', '__init_subclass__', '__int__', '__le__', '__lt__', '__mod__', '__mul__', '__ne__', '__neg__', '__new__', '__pos__', '__pow__', '__radd__', '__rdivmod__', '__reduce__', '__reduce_ex__', '__repr__', '__rfloordiv__', '__rmod__', '__rmul__', '__round__', '__rpow__', '__rsub__', '__rtruediv__', '__set_format__', '__setattr__', '__sizeof__', '__str__', '__sub__', '__subclasshook__', '__truediv__', '__trunc__', 'as_integer_ratio', 'conjugate', 'fromhex', 'hex', 'imag', 'is_integer', 'real']\n",
      "['__annotations__', '__call__', '__class__', '__closure__', '__code__', '__defaults__', '__delattr__', '__dict__', '__dir__', '__doc__', '__eq__', '__format__', '__ge__', '__get__', '__getattribute__', '__globals__', '__gt__', '__hash__', '__init__', '__init_subclass__', '__kwdefaults__', '__le__', '__lt__', '__module__', '__name__', '__ne__', '__new__', '__qualname__', '__reduce__', '__reduce_ex__', '__repr__', '__setattr__', '__sizeof__', '__str__', '__subclasshook__']\n",
      "\n",
      "11\n",
      "5.67\n",
      "Every thing is an object\n"
     ]
    }
   ],
   "source": [
    "# e.g.1 Write a python program that displays the attributes of integer, float and function objects.\n",
    "# Also show how these attributes can be used.\n",
    "\n",
    "def fun():\n",
    "    print('Every thing is an object')\n",
    "print(dir(55))\n",
    "print(dir(-5.67))\n",
    "print(dir(fun))\n",
    "\n",
    "print()\n",
    "print((5).__add__(6))\n",
    "print((5.67).__abs__())\n",
    "d = globals()\n",
    "d['fun'].__call__()"
   ]
  },
  {
   "cell_type": "code",
   "execution_count": 16,
   "id": "3cb39cd7",
   "metadata": {},
   "outputs": [
    {
     "name": "stdout",
     "output_type": "stream",
     "text": [
      "Valid weather paramenter\n"
     ]
    }
   ],
   "source": [
    "# e.g.2 Create a class Weather that has a list containing weather parameters. Define an overloaded in operator\n",
    "# that checks whether an item is present in the list\n",
    "\n",
    "class Weather:\n",
    "    def __init__(self):\n",
    "        self.__params = ['Temps', 'Rel Hum', 'Cloud Cover', 'Wind Vel']\n",
    "    def __contains__(self, p):\n",
    "        return True if p in self.__params else False\n",
    "w = Weather()\n",
    "\n",
    "print('Valid weather paramenter') if 'Rel Hum' in w else print('Invalid parameter')"
   ]
  },
  {
   "cell_type": "markdown",
   "id": "ee604b66",
   "metadata": {},
   "source": [
    "## Containership and Inheritance"
   ]
  },
  {
   "cell_type": "code",
   "execution_count": null,
   "id": "6471d380",
   "metadata": {},
   "outputs": [],
   "source": [
    "Python permits two code reuse mechanisms:\n",
    "    1. Containership - used when the two classes have a 'has a' relationship.\n",
    "    2. Inheritance - used when the two classes have 'like a' relationship."
   ]
  },
  {
   "cell_type": "markdown",
   "id": "186a3d0a",
   "metadata": {},
   "source": [
    "### Containership"
   ]
  },
  {
   "cell_type": "code",
   "execution_count": 17,
   "id": "dc683b4f",
   "metadata": {},
   "outputs": [
    {
     "name": "stdout",
     "output_type": "stream",
     "text": [
      "Enter employee id: 108\n",
      "Enter employee name: Arun Kumar\n",
      "Enter department Id: 122\n",
      "Enter department name: Information Technology\n",
      "Employee ID:  108\n",
      "Employee name:  Arun Kumar\n",
      "Department ID is:  122\n",
      "Department name is:  Information Technology\n"
     ]
    }
   ],
   "source": [
    "# A container can contain one or more contained objects apart from other data, thereby reusing contained objects.\n",
    "# In the following program a Department object is contained in an Employee Object.\n",
    "class Department:\n",
    "    def set_department(self):\n",
    "        self.__id= input('Enter department Id: ')\n",
    "        self.__name = input('Enter department name: ')\n",
    "    def display_department(self):\n",
    "        print('Department ID is: ', self.__id)\n",
    "        print('Department name is: ', self.__name)\n",
    "        \n",
    "class Employee:\n",
    "    def set_employee(self):\n",
    "        self.__eid = input('Enter employee id: ')\n",
    "        self.__ename = input('Enter employee name: ')\n",
    "        self.__dobj = Department()\n",
    "        self.__dobj.set_department()\n",
    "    def display_employee(self):\n",
    "        print('Employee ID: ', self.__eid)\n",
    "        print('Employee name: ', self.__ename)\n",
    "        self.__dobj.display_department()\n",
    "\n",
    "obj = Employee()\n",
    "obj.set_employee()\n",
    "obj.display_employee()"
   ]
  },
  {
   "cell_type": "markdown",
   "id": "83559444",
   "metadata": {},
   "source": [
    "### Inheritance"
   ]
  },
  {
   "cell_type": "code",
   "execution_count": null,
   "id": "7c6e52e7",
   "metadata": {},
   "outputs": [],
   "source": [
    "# In inheritance a new class called derived class can be created to inherit features of an existing class called base class.\n",
    "# Base class is also called super class or parent class\n",
    "# Derived class is also called sub class or child class\n",
    "\n",
    "# _attribute is protected variable\n",
    "\n",
    "class Index:\n",
    "    def __init__(self):\n",
    "        self._count = 0\n",
    "    def display(self):\n",
    "        print('count = '+ str(self._count))\n",
    "    def incr(self):\n",
    "        self._count += 1\n",
    "\n",
    "# Inherited class\n",
    "class NewIndex(Index):\n",
    "    def __init__(self):\n",
    "        super().__init__() # when we create the derived class object, base class __init__() followed by derived \n",
    "        \t\t\t\t   # class __init__\n",
    "        \n",
    "    def decr(self):\n",
    "        self._count -= 1\n",
    "        \n",
    "i = NewIndex()\n",
    "i.incr()\n",
    "i.incr()\n",
    "i.incr()\n",
    "i.display()\n",
    "i.decr()\n",
    "i.display()\n",
    "i.decr()\n",
    "i.display()"
   ]
  },
  {
   "cell_type": "markdown",
   "id": "fc0d0efd",
   "metadata": {},
   "source": [
    "#### What is accessible Where ?"
   ]
  },
  {
   "cell_type": "code",
   "execution_count": null,
   "id": "bc3df16d",
   "metadata": {},
   "outputs": [],
   "source": [
    "Derived class members can access base class members, vice versa is not true.\n",
    "There are no keywords in python to control access of base class members from derived class or outside the class hierarchy.\n",
    "Instead convention is used:\n",
    "    var - access it from anywhere in the program\n",
    "    _var - access it only from within the class or its subclass\n",
    "    __var - access it only within the class\n",
    " \n",
    "# study the program to learn the basics "
   ]
  },
  {
   "cell_type": "code",
   "execution_count": 24,
   "id": "c6dd64aa",
   "metadata": {},
   "outputs": [
    {
     "name": "stdout",
     "output_type": "stream",
     "text": [
      "10 3.14 Hello\n",
      "10\n",
      "3.14\n",
      "100 31.44 Hello\n",
      "100 31.44 Good Morning\n",
      "20 6.28 Hi\n",
      "100\n",
      "31.44\n"
     ]
    }
   ],
   "source": [
    "class Base:\n",
    "    def __init__(self):\n",
    "        self.i = 10\n",
    "        self._a = 3.14\n",
    "        self.__s = 'Hello'\n",
    "        \n",
    "    def display(self):\n",
    "        print(self.i, self._a, self.__s)\n",
    "        \n",
    "class Derived(Base):\n",
    "    def __init__(self):\n",
    "        super().__init__()\n",
    "        self.i = 100\n",
    "        self._a = 31.44\n",
    "        self.__s = 'Good Morning'\n",
    "        self.j = 20\n",
    "        self._b = 6.28\n",
    "        self.__ss = 'Hi'\n",
    "        \n",
    "    def display(self):\n",
    "        super().display()\n",
    "        print(self.i, self._a, self.__s)\n",
    "        print(self.j, self._b, self.__ss)\n",
    "  \n",
    "bobj = Base()\n",
    "bobj.display()\n",
    "print(bobj.i)\n",
    "print(bobj._a)\n",
    "# print(obj.__s) causes error\n",
    "\n",
    "dobj = Derived()\n",
    "dobj.display()\n",
    "print(dobj.i)\n",
    "print(dobj._a)\n",
    "# print(dobj.__s) causes error"
   ]
  },
  {
   "cell_type": "markdown",
   "id": "87476d6f",
   "metadata": {},
   "source": [
    "#### isinstance() and issubclass()"
   ]
  },
  {
   "cell_type": "markdown",
   "id": "a892ad5f",
   "metadata": {},
   "source": [
    "isinstance(o,c) is used to check whether an object o is an instance of a class c.\n",
    "\n",
    "issubclass(d,b) is used to check whether a class d has been derived from class b."
   ]
  },
  {
   "cell_type": "markdown",
   "id": "ead86e24",
   "metadata": {},
   "source": [
    "### Feature of Inheritance"
   ]
  },
  {
   "cell_type": "markdown",
   "id": "ea7fd49e",
   "metadata": {},
   "source": [
    "Inheritance facilitates three things:\n",
    "    (a) Inheritance of existing feature\n",
    "    (b) Suppressing an existing feature - to implement this hide base class implementation by defining same method\n",
    "    in derived class.\n",
    "    (c) Extending an existing feature\n",
    "    \n",
    "two ways of calling base class methods:\n",
    "    super().base_class_method()\n",
    "    Baseclassname.base_class_method(self)"
   ]
  },
  {
   "cell_type": "markdown",
   "id": "1dc93e21",
   "metadata": {},
   "source": [
    "### Types of Inheritance"
   ]
  },
  {
   "cell_type": "markdown",
   "id": "72f5b0e4",
   "metadata": {},
   "source": [
    "There are three types of inheritance:\n",
    "    (a) Simple Inheritance - Ex. class NewIndex derived from class Index\n",
    "    (b) Multi-level Inheritance - Ex. class HOD is derived from class professor which is derived from class person.\n",
    "    (c) Multiple Inheritance - Ex. class HardwareSales derived from two base classes- Product and Sales"
   ]
  },
  {
   "cell_type": "code",
   "execution_count": 28,
   "id": "1a60ae7c",
   "metadata": {
    "scrolled": false
   },
   "outputs": [
    {
     "name": "stdout",
     "output_type": "stream",
     "text": [
      "Enter title: Bolt\n",
      "Enter price: 12\n",
      "Enter sales fig: 120 300 433\n",
      "Enter category: C\n",
      "Enter OEM: Axis Mfg\n",
      "Bolt 12\n",
      "[120, 300, 433]\n",
      "C Axis Mfg\n",
      "Enter title: Nut\n",
      "Enter price: 8\n",
      "Enter sales fig: 1000 2000 1800\n",
      "Enter category: C\n",
      "Enter OEM: Simple Pvt Ltd\n",
      "Nut 8\n",
      "[1000, 2000, 1800]\n",
      "C Simple Pvt Ltd\n"
     ]
    }
   ],
   "source": [
    "# (c) Multiple Inheritance\n",
    "\n",
    "class Product:\n",
    "    def __init__(self):\n",
    "        self.__title = input('Enter title: ')\n",
    "        self.__price = input('Enter price: ')\n",
    "        \n",
    "    def display_data(self):\n",
    "        print(self.__title, self.__price)\n",
    "        \n",
    "class Sales:\n",
    "    def __init__(self):\n",
    "        self.__sales_figures = [int(x) for x in input('Enter sales fig: ').split()]\n",
    "        \n",
    "    def display_data(self):\n",
    "        print(self.__sales_figures)\n",
    "       \n",
    "class HardwareItem(Product, Sales):\n",
    "    def __init__(self):\n",
    "        Product.__init__(self)\n",
    "        Sales.__init__(self)\n",
    "        self.__category = input('Enter category: ')\n",
    "        self.__oem = input('Enter OEM: ')\n",
    "        \n",
    "    def display_data(self):\n",
    "        Product.display_data(self)\n",
    "        Sales.display_data(self)\n",
    "        print(self.__category, self.__oem)\n",
    "       \n",
    "   \n",
    "hw1 = HardwareItem()\n",
    "hw1.display_data()\n",
    "hw2 = HardwareItem()\n",
    "hw2.display_data()"
   ]
  },
  {
   "cell_type": "code",
   "execution_count": 14,
   "id": "0436be62",
   "metadata": {},
   "outputs": [
    {
     "name": "stdout",
     "output_type": "stream",
     "text": [
      "In Base.__method()\n",
      "In Base.__method()\n"
     ]
    }
   ],
   "source": [
    "# e.g. method of base class is not overridden\n",
    "class Base:\n",
    "    def __method(self):\n",
    "        print(\"In Base.__method()\")\n",
    "    def fun(self):\n",
    "        self.__method()\n",
    "        \n",
    "class Derived(Base):\n",
    "    def __method(self):\n",
    "        print(\"In derived.__method\")\n",
    "    \n",
    "  \n",
    "b = Base()\n",
    "b.fun()\n",
    "d = Derived()\n",
    "d.fun()"
   ]
  },
  {
   "cell_type": "markdown",
   "id": "878f8fb1",
   "metadata": {},
   "source": [
    "### Hybrid Inheritance\n"
   ]
  },
  {
   "cell_type": "markdown",
   "id": "2c933bdb",
   "metadata": {},
   "source": [
    "Suppose two classes Derived1 and Derived2 are derived from a base class called Base using simple inheritance. Also, a new\n",
    "class Der is derived from Derived1 and Derived2 using multiple inheritance. This is known as diamond relationship.\n",
    "\n",
    "If we now construct an object of Der it will have one copy of members from the path Base -> Derived1 and another copy from\n",
    "the path Base-> Derived2. This will result in ambiguity.\n",
    "\n",
    "To eliminate the ambiguity, Python linearizes the search order in such a way that the left to right order while creating Der\n",
    "is honored. In our case it is Derived1, Derived2. So we would get a copy of members from the path Base -> Derived1"
   ]
  },
  {
   "cell_type": "code",
   "execution_count": 2,
   "id": "4408212a",
   "metadata": {},
   "outputs": [
    {
     "name": "stdout",
     "output_type": "stream",
     "text": [
      "In Derived1\n",
      "In Derived1\n",
      "In Derived2\n",
      "(<class '__main__.Der'>, <class '__main__.Derived1'>, <class '__main__.Derived2'>, <class '__main__.Base'>, <class 'object'>)\n"
     ]
    }
   ],
   "source": [
    "class Base:\n",
    "    def display(self):\n",
    "        print('In Base')\n",
    "        \n",
    "class Derived1(Base):\n",
    "    def display(self):\n",
    "        print('In Derived1')\n",
    "        \n",
    "        \n",
    "class Derived2(Base):\n",
    "    def display(self):\n",
    "        print('In Derived2')\n",
    "        \n",
    "class Der(Derived1, Derived2):\n",
    "    def display(self):\n",
    "        super().display()\n",
    "        Derived1.display(self)\n",
    "        Derived2.display(self)\n",
    "        print(Der.__mro__)   # method resolution order\n",
    "        \n",
    "d1 = Der()\n",
    "d1.display()\n",
    "            "
   ]
  },
  {
   "cell_type": "code",
   "execution_count": null,
   "id": "7f3394a1",
   "metadata": {},
   "outputs": [],
   "source": [
    "# The object class\n",
    "All classes python are derived from a ready-made base class called object.\n",
    "So method of this class are available in the class"
   ]
  },
  {
   "cell_type": "markdown",
   "id": "da11cdb9",
   "metadata": {},
   "source": [
    "### Abstract Classes and Abstract Methods"
   ]
  },
  {
   "cell_type": "code",
   "execution_count": null,
   "id": "b2dce320",
   "metadata": {},
   "outputs": [],
   "source": [
    "python by default don't support abstract classes but there is a module which can do. This module is called ABC.\n",
    "Method which does not have body is called abstract method and class which have abstract method is called Abstract Classes.\n",
    "We are not able to make objects from abstract class. \n",
    "If we Inherit Abstact class then also we are unable to make objects abject of subclass untill we have defined method in \n",
    "subclass(). ABC stands for Abstract Base Class.\n"
   ]
  },
  {
   "cell_type": "code",
   "execution_count": 9,
   "id": "d08468f8",
   "metadata": {},
   "outputs": [
    {
     "name": "stdout",
     "output_type": "stream",
     "text": [
      "In rectangle.draw\n",
      "Hello I am not accessible\n",
      "Hello I am accessible\n"
     ]
    }
   ],
   "source": [
    "from abc import ABC, abstractmethod\n",
    "class Shape(ABC):\n",
    "    #declaring draw an abstract method using @abstractmethod decorator\n",
    "    @abstractmethod\n",
    "    def draw(self):\n",
    "        pass\n",
    "    @abstractmethod\n",
    "    def param(self):\n",
    "        print('Hello I am not accessible')\n",
    "     \n",
    "    def param2(self):\n",
    "        print('Hello I am accessible')\n",
    "    \n",
    "class Rectangle(Shape):\n",
    "    def draw(self):\n",
    "        print('In rectangle.draw')\n",
    "        # have to define abstract method to make instance of rectangle class\n",
    "    def param(self):\n",
    "        print('Hello I am not accessible')\n",
    "       \n",
    "class Circle(Shape):\n",
    "    def draw(self):\n",
    "        print('In circle.draw')\n",
    "        \n",
    "# s = Shape()   gives error\n",
    "# We are not able to make instance of Circle class\n",
    "# If we inherit from abstract class and if we do not override the abstract method then we are not able to make instance of \n",
    "# derived class.\n",
    "# c = Circle()\n",
    "# c.draw()\n",
    "# c.param()\n",
    "r = Rectangle()\n",
    "r.draw()\n",
    "r.param()\n",
    "r.param2()"
   ]
  },
  {
   "cell_type": "markdown",
   "id": "fe330686",
   "metadata": {},
   "source": [
    "#### Runtime polymorphism"
   ]
  },
  {
   "cell_type": "code",
   "execution_count": null,
   "id": "f1c1d13b",
   "metadata": {},
   "outputs": [],
   "source": [
    "Python is dynamically typed language, where type of any variable is determine at run time based on its usage.\n",
    "Hence discussion of Runtime polymorphism or dyanmic Dispatch mechanism is not relevant in python"
   ]
  },
  {
   "cell_type": "markdown",
   "id": "418e15c5",
   "metadata": {},
   "source": [
    "## Iterators and Generators"
   ]
  },
  {
   "cell_type": "markdown",
   "id": "bfad8935",
   "metadata": {},
   "source": [
    "#### Iterables and Iterators"
   ]
  },
  {
   "cell_type": "markdown",
   "id": "f089a326",
   "metadata": {},
   "source": [
    "An object is called iterable if it is capable of returning its members one at a time. \n",
    "Basic types like string and containers like list and tuple are iterables.\n",
    "Iterator is an object which is used to iterate over an iterable. An iterable provides an iterable object."
   ]
  },
  {
   "cell_type": "markdown",
   "id": "12e0064c",
   "metadata": {},
   "source": [
    "##### zip() function"
   ]
  },
  {
   "cell_type": "code",
   "execution_count": 2,
   "id": "5d819814",
   "metadata": {},
   "outputs": [
    {
     "name": "stdout",
     "output_type": "stream",
     "text": [
      "A 10\n",
      "coddle 20\n",
      "called 30\n",
      "Molly 40\n",
      "A 10\n",
      "coddle 20\n",
      "called 30\n",
      "Molly 40\n",
      "A 10\n",
      "coddle 20\n",
      "called 30\n",
      "Molly 40\n"
     ]
    }
   ],
   "source": [
    "# typically recieves multiple iterable objects and returns an iterator of tuples based on them.\n",
    "# This iterator can be used in a for loop as shown:\n",
    "\n",
    "words = ['A', 'coddle', 'called', 'Molly']\n",
    "numbers = [10, 20, 30, 40]\n",
    "\n",
    "for ele in zip(words, numbers):\n",
    "    print(ele[0], ele[1])\n",
    "    \n",
    "for ele in zip(words, numbers):\n",
    "    print(*ele)\n",
    "\n",
    "for w, n in zip(words, numbers):\n",
    "    print(w, n)\n",
    "    \n",
    "# if two iterables are passed to zip(), one containing 4 and one containing 6 elements, the returned iterator has 4 tuples."
   ]
  },
  {
   "cell_type": "code",
   "execution_count": 8,
   "id": "f7a20701",
   "metadata": {},
   "outputs": [
    {
     "name": "stdout",
     "output_type": "stream",
     "text": [
      "[('A', 10), ('coddle', 20), ('called', 30), ('Molly', 40)]\n",
      "(('A', 10), ('coddle', 20), ('called', 30), ('Molly', 40))\n",
      "{('coddle', 20), ('A', 10), ('called', 30), ('Molly', 40)}\n",
      "('A', 'coddle', 'called', 'Molly') (10, 20, 30, 40)\n"
     ]
    }
   ],
   "source": [
    "# A list/tuple/set can be generated from the iterator of tuples returned by zip()\n",
    "# creating a list of tuples containg content of words and numbers\n",
    "it = zip(words, numbers)\n",
    "lst = list(it)\n",
    "print(lst)\n",
    "# creating a tuple of tuples containg content of words and numbers\n",
    "it = zip(words, numbers)\n",
    "tpl = tuple(it)\n",
    "print(tpl)\n",
    "# creating a set of tuples containg content of words and numbers\n",
    "it = zip(words, numbers)\n",
    "s = set(it)\n",
    "print(s)\n",
    "\n",
    "# The value can be unzipped using * operator\n",
    "w, n = zip(*lst)\n",
    "print(w, n)"
   ]
  },
  {
   "cell_type": "code",
   "execution_count": 10,
   "id": "68898246",
   "metadata": {},
   "outputs": [
    {
     "name": "stdout",
     "output_type": "stream",
     "text": [
      "10\n",
      "20\n",
      "30\n",
      "10\n",
      "20\n"
     ]
    }
   ],
   "source": [
    "# when we iterate iterable using for loop. for loop call __iter__() method of iterable object. This method returns an iterator\n",
    "# object. The iterator object has a method __next__() which returns the next item in the object.\n",
    "\n",
    "lst = [10, 20, 30, 40, 50]\n",
    "i = lst.__iter__()\n",
    "print(i.__next__())\n",
    "print(i.__next__())\n",
    "print(i.__next__())\n",
    "\n",
    "# or\n",
    "\n",
    "i = iter(lst)\n",
    "print(next(i))\n",
    "print(next(i))\n",
    "\n",
    "# iterable is an object that has implemented __iter__() in it.\n",
    "# iterator is an object that has implemented both __iter__() and __next__() in it."
   ]
  },
  {
   "cell_type": "markdown",
   "id": "88aa7d7a",
   "metadata": {},
   "source": [
    "### user-defined iterators"
   ]
  },
  {
   "cell_type": "code",
   "execution_count": 13,
   "id": "931be23e",
   "metadata": {},
   "outputs": [
    {
     "name": "stdout",
     "output_type": "stream",
     "text": [
      "15.0\n",
      "25.0\n",
      "35.0\n",
      "45.0\n",
      "**********\n",
      "15.0\n",
      "25.0\n",
      "35.0\n",
      "45.0\n"
     ]
    }
   ],
   "source": [
    "# Suppose we wish our class behave like an iterator.\n",
    "# we need to define__iter__() and __next__() in it\n",
    "\n",
    "class AvgAdj:\n",
    "    def __init__(self, data):\n",
    "        self.__data = data\n",
    "        self.__len = len(data)\n",
    "        self.__first = 0\n",
    "        self.__sec = 1\n",
    "     # my thing   \n",
    "    def avg(self):\n",
    "        for i in range(0, self.__len-1):\n",
    "            print((self.__data[i] + self.__data[i+1])/2 )\n",
    "    def __iter__(self):\n",
    "        return self\n",
    "    def __next__(self):\n",
    "        if(self.__sec == self.__len):\n",
    "            raise StopIteration\n",
    "        self.__avg = (self.__data[self.__first] + self.__data[self.__sec])/2\n",
    "        self.__first += 1\n",
    "        self.__sec += 1\n",
    "        return self.__avg\n",
    "    \n",
    "lst = [10, 20, 30, 40, 50]\n",
    "coll = AvgAdj(lst)\n",
    "for val in coll:\n",
    "    print(val)\n",
    "print('*'*10)\n",
    "coll.avg()\n",
    "                      "
   ]
  },
  {
   "cell_type": "markdown",
   "id": "61a37cc5",
   "metadata": {},
   "source": [
    "### Generator"
   ]
  },
  {
   "cell_type": "code",
   "execution_count": 26,
   "id": "fdb18d9d",
   "metadata": {},
   "outputs": [
    {
     "name": "stdout",
     "output_type": "stream",
     "text": [
      "[2, 3, 5, 7, 11]\n"
     ]
    }
   ],
   "source": [
    "def is_prime(number):\n",
    "    if number <= 1:\n",
    "        return False\n",
    "\n",
    "    for i in range(2, int(number ** 0.5) + 1):\n",
    "        if number % i == 0:\n",
    "            return False \n",
    "\n",
    "    return True  \n",
    "def prime(data):\n",
    "    for num in data:\n",
    "        if is_prime(num):\n",
    "            yield num\n",
    "            \n",
    "numbers = [2, 3, 4, 5, 6, 7, 8, 9, 10, 11]\n",
    "prime_numbers = list(prime(numbers))\n",
    "print(prime_numbers)  # Output: [2, 3, 5, 7, 11]"
   ]
  },
  {
   "cell_type": "code",
   "execution_count": 19,
   "id": "9aa125cd",
   "metadata": {},
   "outputs": [
    {
     "name": "stdout",
     "output_type": "stream",
     "text": [
      "196\n",
      "36100\n"
     ]
    }
   ],
   "source": [
    "# Generator expression is use to write compact expression\n",
    "# Generator expression is used to write compact expression\n",
    "# e.g.,\n",
    "import random\n",
    "print(max(random.randint(100, 200) for n in range(20)))\n",
    "print(sum(n*n*n for n in range(20)))"
   ]
  },
  {
   "cell_type": "code",
   "execution_count": null,
   "id": "73e951c1",
   "metadata": {},
   "outputs": [],
   "source": [
    "Generator expression takes less space than list comprehension.\n",
    "map(), range() returns a generator object."
   ]
  },
  {
   "cell_type": "code",
   "execution_count": 20,
   "id": "3c6094cc",
   "metadata": {},
   "outputs": [
    {
     "data": {
      "text/plain": [
       "False"
      ]
     },
     "execution_count": 20,
     "metadata": {},
     "output_type": "execute_result"
    }
   ],
   "source": [
    "lst = [1,2,3]\n",
    "hasattr(lst, '__next__')"
   ]
  },
  {
   "cell_type": "code",
   "execution_count": null,
   "id": "26d32411",
   "metadata": {},
   "outputs": [],
   "source": [
    "# not running in jupyter\n",
    "# In each iteration of the loop, the program gets the next prime number from the generator and assigns it \n",
    "# to the variable next_prime.\n",
    "# The program then checks whether next_prime is less than 3 million.\n",
    "# If it is, the program adds next_prime to total.\n",
    "# If it is not, the program prints total (which is the sum of all the prime numbers below 3 million)\n",
    "# using the print function and exits the program using the exit function.\n",
    "def generate_primes():\n",
    "    num = 1\n",
    "    while True:\n",
    "        if isPrime(num):\n",
    "            yield num\n",
    "        num += 1\n",
    "  \n",
    "def isPrime(n):\n",
    "    if n > 1:\n",
    "        if n == 2:\n",
    "            return True\n",
    "        if n %2 == 0:\n",
    "            return False\n",
    "        for i in range(2, int(n**0.5)+1):\n",
    "            if n%i ==0:\n",
    "                return False\n",
    "        else:\n",
    "            return True\n",
    "        \n",
    "    else:\n",
    "        return False\n",
    "    \n",
    "total = 0\n",
    "for next_prime in generate_primes():\n",
    "    if next_prime < 300000:\n",
    "        total += next_prime\n",
    "    else:\n",
    "        print(total)\n",
    "        exit()"
   ]
  },
  {
   "cell_type": "code",
   "execution_count": 12,
   "id": "9857a6db",
   "metadata": {},
   "outputs": [
    {
     "name": "stdout",
     "output_type": "stream",
     "text": [
      "[[1, 2, 3], [4, 5, 6]]\n",
      "[([1, 2, 3], (11, 21, 31)), ([4, 5, 6], (11, 21, 31)), ([1, 2, 3], (12, 22, 32)), ([4, 5, 6], (12, 22, 32))]\n",
      "[[146, 152], [335, 350]]\n"
     ]
    }
   ],
   "source": [
    "# e.g., write a program to multiply two matrices x(2,3) and y(3, 2) using list comprehension\n",
    "x = [[1,2,3], [4,5,6]]\n",
    "y = [[11,12], [21,22], [31,32]]\n",
    "xrow = [row for row in x]\n",
    "print(xrow)\n",
    "ycol = [(row,col) for col in zip(*y) for row in x]\n",
    "print(ycol)\n",
    "mul = [[sum(a*b for a,b in zip(row,col))for col in zip(*y)]for row in x]\n",
    "print(mul)"
   ]
  },
  {
   "cell_type": "code",
   "execution_count": 19,
   "id": "997c59d8",
   "metadata": {},
   "outputs": [
    {
     "name": "stdout",
     "output_type": "stream",
     "text": [
      "12   1.4 \n",
      "10   12.0\n",
      "11   2.4 \n",
      "3    6.3 \n"
     ]
    }
   ],
   "source": [
    "#e.g, Suppose we have a list of 5 integers and a tuple of 5 floats. Can we zip them and obtain an iterator. If yes how?\n",
    "integers = [12, 10, 11, 3, 4]\n",
    "floats = (1.4, 12.0, 2.4, 6.3)\n",
    "t = zip(integers, floats)\n",
    "lst = list(t)\n",
    "for i, f in lst:\n",
    "    print('{:<4} {:<4}'.format(i,f))"
   ]
  },
  {
   "cell_type": "code",
   "execution_count": 21,
   "id": "414de02a",
   "metadata": {},
   "outputs": [
    {
     "name": "stdout",
     "output_type": "stream",
     "text": [
      "{'Sunil': 54, 'Sachin': 65, 'Rahul': 45, 'Kapil': 67, 'Rohit': 78}\n"
     ]
    }
   ],
   "source": [
    "# e.g, Create two lists students and marks. Create a dictonary from these two list using dictonary comprehension. Use name \n",
    "# as keys and marks as values.\n",
    "students = ['Sunil', 'Sachin', 'Rahul', 'Kapil', 'Rohit']\n",
    "marks = [54, 65, 45, 67, 78]\n",
    "d = {k:v for k,v in zip(students, marks)}\n",
    "print(d)"
   ]
  },
  {
   "cell_type": "code",
   "execution_count": 24,
   "id": "d309c4da",
   "metadata": {},
   "outputs": [
    {
     "name": "stdout",
     "output_type": "stream",
     "text": [
      "[1]\n",
      "[1, 1]\n",
      "[1, 2, 1]\n",
      "[1, 3, 3, 1]\n",
      "[1, 4, 6, 4, 1]\n"
     ]
    }
   ],
   "source": [
    "# e.g, Write a program that defines a function pascal_triangle() that displays a Pascal Triangle of level recieved as\n",
    "# parameter to the function. A pascal's triangle of Level 5 below\n",
    "def pascal_triangle(n):\n",
    "    row = [1]\n",
    "    z = [0]\n",
    "    for i in range(n):\n",
    "        print(row)\n",
    "        row = [j+k for j, k in zip(row+z, z+row)]\n",
    "        \n",
    "pascal_triangle(5)"
   ]
  },
  {
   "cell_type": "code",
   "execution_count": 31,
   "id": "f1205a45",
   "metadata": {},
   "outputs": [
    {
     "name": "stdout",
     "output_type": "stream",
     "text": [
      "Default Progression\n",
      "0 1 2 3 4 5 6 7 8 9\n",
      "AP with step 5\n",
      "0 5 10 15 20 25 30 35 40 45\n",
      "GP with default multiple:\n",
      "1 2 4 8 16 32 64 128 256 512\n",
      "FP with default start value\n",
      "0 1 1 2 3 5 8 13 21 34\n"
     ]
    }
   ],
   "source": [
    "# Write a program that defines a class called Progression and inherit three classes from it AP, GP, FP standing for \n",
    "# Arithmetic Progression, Geometric Progression and Fibonacci Progression respectively. Progression Should act as \n",
    "# user-defined iterator. By default, it should generate integer starting with 0 and advancing in step 1. AP, GP and FP\n",
    "# should approprietly adjust themselves to generate numbers in arithmetic progression, geometric progression or Fibonacci\n",
    "# progression.\n",
    "\n",
    "class Progression:\n",
    "    def __init__(self, start = 0):\n",
    "        self._cur = start\n",
    "        \n",
    "    def __iter__(self):\n",
    "        return self\n",
    "    \n",
    "    def advance(self):\n",
    "        self._cur += 1\n",
    "        \n",
    "    def __next__(self):\n",
    "        if self._cur is None:\n",
    "            raise StopIteration\n",
    "        else:\n",
    "            data = self._cur\n",
    "            self.advance()\n",
    "            return data\n",
    "        \n",
    "    def display(self, n):\n",
    "        print(' '.join(str(next(self)) for i in range(n)))\n",
    "       \n",
    "   \n",
    "class AP(Progression):\n",
    "    def __init__(self, start = 0, step = 1):\n",
    "        super().__init__(start)\n",
    "        self.__step = step\n",
    "        \n",
    "    def advance(self):\n",
    "        self._cur += self.__step\n",
    "        \n",
    "       \n",
    "class GP(Progression):\n",
    "    def __init__(self, start = 1, step = 2):\n",
    "        super().__init__(start)\n",
    "        self.__step = step\n",
    "       \n",
    "    def advance(self):\n",
    "        self._cur *= self.__step\n",
    "        \n",
    "class FP(Progression):\n",
    "    def __init__(self, first = 0, second = 1):\n",
    "        super().__init__(first)\n",
    "        self.__prev = second - first\n",
    "    def advance(self):\n",
    "        self.__prev, self._cur = self._cur, self._cur + self.__prev\n",
    "        \n",
    "print('Default Progression')\n",
    "p = Progression()\n",
    "p.display(10)\n",
    "print('AP with step 5')\n",
    "a = AP(0,5)\n",
    "a.display(10)\n",
    "print('GP with default multiple:')\n",
    "g = GP()\n",
    "g.display(10)\n",
    "print('FP with default start value')\n",
    "f = FP()\n",
    "f.display(10)"
   ]
  },
  {
   "cell_type": "code",
   "execution_count": null,
   "id": "8b2cc580",
   "metadata": {},
   "outputs": [],
   "source": []
  },
  {
   "cell_type": "code",
   "execution_count": null,
   "id": "e03e4bc3",
   "metadata": {},
   "outputs": [],
   "source": []
  },
  {
   "cell_type": "code",
   "execution_count": null,
   "id": "8353548c",
   "metadata": {},
   "outputs": [],
   "source": []
  },
  {
   "cell_type": "code",
   "execution_count": null,
   "id": "cbedc981",
   "metadata": {},
   "outputs": [],
   "source": []
  },
  {
   "cell_type": "code",
   "execution_count": null,
   "id": "5f9b9dcb",
   "metadata": {},
   "outputs": [],
   "source": []
  },
  {
   "cell_type": "code",
   "execution_count": null,
   "id": "26cb7b60",
   "metadata": {},
   "outputs": [],
   "source": []
  },
  {
   "cell_type": "code",
   "execution_count": 38,
   "id": "f78a59c6",
   "metadata": {},
   "outputs": [
    {
     "name": "stdout",
     "output_type": "stream",
     "text": [
      ". . . .\n",
      ". . . .\n",
      ". . . .\n",
      ". . . .\n",
      ". . . .\n",
      ". . . .\n"
     ]
    }
   ],
   "source": [
    " = [[\".\" for x in range(4)]for y in range(6) ]\n",
    "for r in range(6):\n",
    "    print(\" \".join(l[r]))\n"
   ]
  },
  {
   "cell_type": "markdown",
   "id": "5c5b8c6d",
   "metadata": {},
   "source": [
    "# Decimals"
   ]
  },
  {
   "cell_type": "code",
   "execution_count": 24,
   "id": "1839d637",
   "metadata": {},
   "outputs": [],
   "source": [
    "from decimal import Decimal , getcontext"
   ]
  },
  {
   "cell_type": "code",
   "execution_count": 25,
   "id": "b3cd7331",
   "metadata": {},
   "outputs": [
    {
     "data": {
      "text/plain": [
       "Context(prec=28, rounding=ROUND_HALF_EVEN, Emin=-999999, Emax=999999, capitals=1, clamp=0, flags=[], traps=[InvalidOperation, DivisionByZero, Overflow])"
      ]
     },
     "execution_count": 25,
     "metadata": {},
     "output_type": "execute_result"
    }
   ],
   "source": [
    "getcontext()"
   ]
  },
  {
   "cell_type": "code",
   "execution_count": 26,
   "id": "bd86773d",
   "metadata": {},
   "outputs": [
    {
     "data": {
      "text/plain": [
       "0.39999999999999997"
      ]
     },
     "execution_count": 26,
     "metadata": {},
     "output_type": "execute_result"
    }
   ],
   "source": [
    "1.2/3.0"
   ]
  },
  {
   "cell_type": "code",
   "execution_count": 29,
   "id": "e17eb505",
   "metadata": {},
   "outputs": [],
   "source": [
    "getcontext().prec = 2"
   ]
  },
  {
   "cell_type": "code",
   "execution_count": 30,
   "id": "a3c787a7",
   "metadata": {},
   "outputs": [
    {
     "data": {
      "text/plain": [
       "Context(prec=2, rounding=ROUND_HALF_EVEN, Emin=-999999, Emax=999999, capitals=1, clamp=0, flags=[], traps=[InvalidOperation, DivisionByZero, Overflow])"
      ]
     },
     "execution_count": 30,
     "metadata": {},
     "output_type": "execute_result"
    }
   ],
   "source": [
    "getcontext()"
   ]
  },
  {
   "cell_type": "code",
   "execution_count": 33,
   "id": "f62064cf",
   "metadata": {},
   "outputs": [
    {
     "data": {
      "text/plain": [
       "Decimal('0.33')"
      ]
     },
     "execution_count": 33,
     "metadata": {},
     "output_type": "execute_result"
    }
   ],
   "source": [
    "Decimal(1)/Decimal(3)"
   ]
  },
  {
   "cell_type": "code",
   "execution_count": 34,
   "id": "ccd958d5",
   "metadata": {},
   "outputs": [
    {
     "data": {
      "text/plain": [
       "Decimal('3.140000000000000124344978758017532527446746826171875')"
      ]
     },
     "execution_count": 34,
     "metadata": {},
     "output_type": "execute_result"
    }
   ],
   "source": [
    "Decimal(3.14)"
   ]
  },
  {
   "cell_type": "code",
   "execution_count": 35,
   "id": "57337f16",
   "metadata": {},
   "outputs": [
    {
     "data": {
      "text/plain": [
       "Decimal('3.14')"
      ]
     },
     "execution_count": 35,
     "metadata": {},
     "output_type": "execute_result"
    }
   ],
   "source": [
    "Decimal('3.14')"
   ]
  },
  {
   "cell_type": "code",
   "execution_count": 36,
   "id": "a0ac0831",
   "metadata": {},
   "outputs": [],
   "source": []
  },
  {
   "cell_type": "code",
   "execution_count": 7,
   "id": "5f59e46c",
   "metadata": {},
   "outputs": [],
   "source": [
    "l = [10, 20, 30, 40]\n",
    "t = ('a', 'b', 'c')\n",
    "s = {'he', 'l', 'lo'}\n",
    "d = {'Mon': 2, 'Tue': 1, 'Wed': 4}\n",
    "\n",
    "fh = open('sample.txt', 'w')\n",
    "fh.write(str(l))\n",
    "fh.write(str(t))\n",
    "fh.write(str(s))\n",
    "fh.write(str(d))\n",
    "fh.close()\n",
    "fh = open('sample.txt', 'r')\n",
    "rd = fh.read()\n"
   ]
  },
  {
   "cell_type": "code",
   "execution_count": 22,
   "id": "332f3994",
   "metadata": {},
   "outputs": [
    {
     "name": "stdout",
     "output_type": "stream",
     "text": [
      "Bad officials are elected by good citizens who do not vote.\n",
      "Humpty\n",
      "Dumpty\n",
      "Sat\n",
      "On\n",
      "a\n",
      "wall\n"
     ]
    }
   ],
   "source": [
    "f = open('sample2.txt', 'w')\n",
    "msg = 'Bad officials are elected by good citizens who do not vote.\\n'\n",
    "msgs = ['Humpty\\n', 'Dumpty\\n', 'Sat\\n', 'On\\n', 'a\\n', 'wall\\n']\n",
    "f.write(msg)\n",
    "f.writelines(msgs)\n",
    "f.close()\n",
    "f = open('sample2.txt', 'r')\n",
    "for i in f:\n",
    "    print(i.rstrip())"
   ]
  },
  {
   "cell_type": "code",
   "execution_count": 25,
   "id": "2c2130b1",
   "metadata": {},
   "outputs": [
    {
     "name": "stdout",
     "output_type": "stream",
     "text": [
      "[10, 20, 30, 40, 50, 60]\n"
     ]
    }
   ],
   "source": [
    "import json\n",
    "f = open('sample3.txt', 'w+')\n",
    "lst = [10, 20, 30, 40, 50, 60]\n",
    "json.dump(lst, f)\n",
    "f.seek(0)\n",
    "inlist = json.load(f)\n",
    "print(inlist)\n",
    "f.close()"
   ]
  },
  {
   "cell_type": "code",
   "execution_count": null,
   "id": "bfdf83b8",
   "metadata": {},
   "outputs": [],
   "source": [
    "import json\n",
    "f = open('sampledata', 'w+')\n",
    "tpl = ('Ajay', 23, 2455.55)\n",
    "json.dump(tpl, f)\n",
    "f.seek(0)\n",
    "intpl = json.load(f)\n",
    "print(tuple(intpl))\n",
    "f.close( )\n"
   ]
  },
  {
   "cell_type": "code",
   "execution_count": 26,
   "id": "19b52c25",
   "metadata": {},
   "outputs": [
    {
     "name": "stdout",
     "output_type": "stream",
     "text": [
      "('Ajay', 23, 2455.55)\n",
      "<class 'int'>\n"
     ]
    }
   ],
   "source": [
    "import json\n",
    "f = open('sampledata', 'w+')\n",
    "tpl = ('Ajay', 23, 2455.55)\n",
    "json.dump(tpl, f)\n",
    "f.seek(0)\n",
    "intpl = json.load(f)\n",
    "print(tuple(intpl))\n",
    "print(type(intpl[1]))\n",
    "f.close( )\n"
   ]
  },
  {
   "cell_type": "code",
   "execution_count": 27,
   "id": "a851c2ae",
   "metadata": {},
   "outputs": [
    {
     "name": "stdout",
     "output_type": "stream",
     "text": [
      "{'Anil': 24, 'Ajay': 23, 'Nisha': 22}\n"
     ]
    }
   ],
   "source": [
    "f = open('sampledata', 'w+')\n",
    "dct = { 'Anil' : 24, 'Ajay' : 23, 'Nisha' : 22}\n",
    "json.dump(dct, f)\n",
    "f.seek(0)\n",
    "indct = json.load(f)\n",
    "print(indct)\n",
    "f.close( )\n"
   ]
  },
  {
   "cell_type": "code",
   "execution_count": 39,
   "id": "7e4ab740",
   "metadata": {},
   "outputs": [
    {
     "name": "stdout",
     "output_type": "stream",
     "text": [
      "nt\n",
      "C:\\Users\\GOPI KUMAR SHAW\\Desktop\\mydir\\mydir\\mydir\n",
      "C:\\Users\\GOPI KUMAR SHAW\\Desktop\\mydir\\mydir\\mydir\\mydir\n"
     ]
    }
   ],
   "source": [
    "import os\n",
    "import shutil\n",
    "print(os.name)\n",
    "print(os.getcwd())\n",
    "# print(os.listdir('.'))\n",
    "# print(os.listdir('..'))\n",
    "\n",
    "if os.path.exists('mydir'):\n",
    "    print('mydir exist')\n",
    "else:\n",
    "    os.mkdir('mydir')\n",
    "os.chdir('mydir')\n",
    "os.makedirs('.\\\\dir1\\\\dir2\\\\dir3')\n",
    "print(os.getcwd())\n"
   ]
  },
  {
   "cell_type": "code",
   "execution_count": 41,
   "id": "721a4ad9",
   "metadata": {},
   "outputs": [
    {
     "name": "stdout",
     "output_type": "stream",
     "text": [
      "['.ipynb_checkpoints']\n",
      "Size =  66\n"
     ]
    }
   ],
   "source": [
    "print(os.listdir('.'))\n",
    "f = open('myfile', 'w')\n",
    "f.write('Having one child makes you a parent...')\n",
    "f.write('Having two you are a referee')\n",
    "f.close( )\n",
    "stats = os.stat('myfile')\n",
    "print('Size = ', stats.st_size)"
   ]
  },
  {
   "cell_type": "code",
   "execution_count": 43,
   "id": "4028c87f",
   "metadata": {},
   "outputs": [
    {
     "name": "stdout",
     "output_type": "stream",
     "text": [
      "Having one child makes you a parent...Having two you are a referee\n"
     ]
    }
   ],
   "source": [
    "shutil.copyfile('myfile', 'myfile2')\n",
    "with open('myfile2', 'r') as f:\n",
    "    print(f.read())"
   ]
  },
  {
   "cell_type": "code",
   "execution_count": 64,
   "id": "80f7ab74",
   "metadata": {},
   "outputs": [
    {
     "name": "stdout",
     "output_type": "stream",
     "text": [
      "yourfile file exists\n"
     ]
    }
   ],
   "source": [
    "\n",
    "curpath = os.path.abspath('.')\n",
    "change = os.path.join(curpath,'myfile')\n",
    "if os.path.isfile(change) :\n",
    "    print('yourfile file exists')\n",
    "else :\n",
    "    print('yourfile file doesn\\'t exist')\n",
    "\n"
   ]
  },
  {
   "cell_type": "code",
   "execution_count": null,
   "id": "42727deb",
   "metadata": {},
   "outputs": [],
   "source": []
  },
  {
   "cell_type": "code",
   "execution_count": 61,
   "id": "dcceb5c7",
   "metadata": {},
   "outputs": [
    {
     "name": "stdout",
     "output_type": "stream",
     "text": [
      "/usr\\file.txt\n"
     ]
    }
   ],
   "source": [
    "import os\n",
    "\n",
    "# Example paths\n",
    "directory = '/usr'\n",
    "filename = 'file.txt'\n",
    "\n",
    "# Joining the paths using os.path.join()\n",
    "full_path = os.path.join(directory, filename)\n",
    "\n",
    "print(full_path)"
   ]
  },
  {
   "cell_type": "code",
   "execution_count": null,
   "id": "27e90628",
   "metadata": {},
   "outputs": [],
   "source": []
  }
 ],
 "metadata": {
  "kernelspec": {
   "display_name": "Python 3 (ipykernel)",
   "language": "python",
   "name": "python3"
  },
  "language_info": {
   "codemirror_mode": {
    "name": "ipython",
    "version": 3
   },
   "file_extension": ".py",
   "mimetype": "text/x-python",
   "name": "python",
   "nbconvert_exporter": "python",
   "pygments_lexer": "ipython3",
   "version": "3.9.7"
  }
 },
 "nbformat": 4,
 "nbformat_minor": 5
}
